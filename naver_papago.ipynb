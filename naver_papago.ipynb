{
 "cells": [
  {
   "cell_type": "code",
   "execution_count": 6,
   "id": "4524bf8d-7150-4485-9050-0c836bc07b24",
   "metadata": {},
   "outputs": [
    {
     "name": "stdout",
     "output_type": "stream",
     "text": [
      "{\"message\":{\"@type\":\"response\",\"@service\":\"naverservice.nmt.proxy\",\"@version\":\"1.0.0\",\"result\":{\"srcLangType\":\"en\",\"tarLangType\":\"ko\",\"translatedText\":\"반갑지 않은 존재가 떠나기를 거부한다.\",\"engineType\":\"N2MT\",\"pivot\":null}}}\n"
     ]
    }
   ],
   "source": [
    "# import os\n",
    "# import sys\n",
    "# import urllib.request\n",
    "#\n",
    "# client_id = \"wPP2UoYXXHPxIzymYpok\" # 개발자센터에서 발급받은 Client ID 값\n",
    "# client_secret = \"SWb9rsR_3l\" # 개발자센터에서 발급받은 Client Secret 값\n",
    "# encText = urllib.parse.quote(\"Unwelcome presence refusing to leave\")\n",
    "# data = \"source=en&target=ko&text=\" + encText\n",
    "# url = \"https://openapi.naver.com/v1/papago/n2mt\"\n",
    "#\n",
    "# request = urllib.request.Request(url)\n",
    "# request.add_header(\"X-Naver-Client-Id\",client_id)\n",
    "# request.add_header(\"X-Naver-Client-Secret\",client_secret)\n",
    "# response = urllib.request.urlopen(request, data=data.encode(\"utf-8\"))\n",
    "# rescode = response.getcode()\n",
    "# if(rescode==200):\n",
    "#     response_body = response.read()\n",
    "#     print(response_body.decode('utf-8'))\n",
    "# else:\n",
    "#     print(\"Error Code:\" + rescode)"
   ]
  },
  {
   "cell_type": "code",
   "execution_count": 4,
   "outputs": [
    {
     "name": "stdout",
     "output_type": "stream",
     "text": [
      "200 True\n",
      "어제는 내 모든 고민이 너무 멀리 있는 것 같았어.\n",
      "200 True\n",
      "이제 그들은 여기 머물려고 온 것처럼 보인다.\n",
      "200 True\n",
      "오, 나는 어제를 다시 그리게 돼.\n",
      "200 True\n",
      "갑자기 나는 예전의 절반도 되지 않았다.\n",
      "200 True\n",
      "그림자가 드리워져 있어요.\n",
      "200 True\n",
      "아, 어제가 갑자기 왔네요.\n",
      "200 True\n",
      "왜 그녀가 가야만 했는지, 모르겠어요, 그녀는 말하려 하지 않았어요.\n",
      "200 True\n",
      "내가 잘못 말했는데, 어제가 그리워요.\n",
      "200 True\n",
      "어제는 사랑이 정말 쉬운 게임이었다.\n",
      "200 True\n",
      "이제 숨을 곳이 필요해\n",
      "200 True\n",
      "오, 나는 어제를 다시 그리게 돼.\n",
      "200 True\n",
      "왜 그녀가 가야만 했는지, 모르겠어요, 그녀는 말하려 하지 않았어요.\n",
      "200 True\n",
      "내가 잘못 말했는데, 어제가 그리워요.\n",
      "200 True\n",
      "어제는 사랑이 정말 쉬운 게임이었다.\n",
      "200 True\n",
      "이제 숨을 곳이 필요해\n",
      "200 True\n",
      "오, 나는 어제를 다시 그리게 돼.\n",
      "200 True\n",
      "mm mm mm mm mm mm\n"
     ]
    }
   ],
   "source": [
    "# import requests\n",
    "#\n",
    "# txt = open('data/yesterday.txt', 'r')\n",
    "#\n",
    "# lyric = txt.read().split('\\n')\n",
    "# # print(lyric)\n",
    "#\n",
    "# client_id = \"wPP2UoYXXHPxIzymYpok\"\n",
    "# client_secret = \"SWb9rsR_3l\"\n",
    "# url = \"https://openapi.naver.com/v1/papago/n2mt\"\n",
    "#\n",
    "# # Request Header\n",
    "# req_header = {\"X-Naver-Client-Id\": client_id, \"X-Naver-Client-Secret\": client_secret}\n",
    "# # Request Parameter\n",
    "# req_param = {\"source\": \"en\", \"target\": \"ko\"}\n",
    "#\n",
    "# save = open('yesterday_ko.txt', 'w')\n",
    "#\n",
    "# for line in lyric:\n",
    "#     # print(len(line))\n",
    "#     # print(type(line))\n",
    "#     if line != \"\":\n",
    "#         # print(line)\n",
    "#         req_param[\"text\"] = line  # Ctrl + D 하면 코드 즉시 복사됨 개꿀\n",
    "#\n",
    "#         res = requests.post(url, headers=req_header, data=req_param)\n",
    "#         print(res.status_code, res.ok)\n",
    "#\n",
    "#         if res.ok:\n",
    "#             # print(type(res.text), res.text)\n",
    "#             # print(type(res.json()), res.json())\n",
    "#             trans_txt = res.json()['message']['result']['translatedText']\n",
    "#             print(trans_txt)\n",
    "#             save.write(trans_txt + '\\n')\n",
    "#         else:\n",
    "#             print('Error Code ', res.status_code)\n",
    "\n"
   ],
   "metadata": {
    "collapsed": false,
    "pycharm": {
     "name": "#%%\n"
    }
   }
  },
  {
   "cell_type": "code",
   "execution_count": 6,
   "outputs": [
    {
     "name": "stdout",
     "output_type": "stream",
     "text": [
      "어제는 내 모든 고민이 너무 멀리 있는 것 같았어.\n",
      "이제 그들은 여기 머물려고 온 것처럼 보인다.\n",
      "오, 나는 어제를 다시 그리게 돼.\n",
      "갑자기 나는 예전의 절반도 되지 않았다.\n",
      "그림자가 드리워져 있어요.\n",
      "아, 어제가 갑자기 왔네요.\n",
      "왜 그녀가 가야만 했는지, 모르겠어요, 그녀는 말하려 하지 않았어요.\n",
      "내가 잘못 말했는데, 어제가 그리워요.\n",
      "어제는 사랑이 정말 쉬운 게임이었다.\n",
      "이제 숨을 곳이 필요해\n",
      "오, 나는 어제를 다시 그리게 돼.\n",
      "왜 그녀가 가야만 했는지, 모르겠어요, 그녀는 말하려 하지 않았어요.\n",
      "내가 잘못 말했는데, 어제가 그리워요.\n",
      "어제는 사랑이 정말 쉬운 게임이었다.\n",
      "이제 숨을 곳이 필요해\n",
      "오, 나는 어제를 다시 그리게 돼.\n",
      "mm mm mm mm mm mm\n",
      "['Yesterday all my troubles seemed so far away.\\n', '어제는 내 모든 고민이 너무 멀리 있는 것 같았어.\\n\\n', \"Now it looks as though they're here to stay.\\n\", '이제 그들은 여기 머물려고 온 것처럼 보인다.\\n\\n', 'Oh, I believe in yesterday.\\n', '오, 나는 어제를 다시 그리게 돼.\\n\\n', \"Suddenly I'm not half the man I used to be.\\n\", '갑자기 나는 예전의 절반도 되지 않았다.\\n\\n', \"There's a shadow hanging over me.\\n\", '그림자가 드리워져 있어요.\\n\\n', 'Oh, yesterday came suddenly.\\n', '아, 어제가 갑자기 왔네요.\\n\\n', \"Why she had to go, I don't know, she wouldn't say.\\n\", '왜 그녀가 가야만 했는지, 모르겠어요, 그녀는 말하려 하지 않았어요.\\n\\n', 'I said something wrong, now I long for yesterday.\\n', '내가 잘못 말했는데, 어제가 그리워요.\\n\\n', 'Yesterday love was such an easy game to play.\\n', '어제는 사랑이 정말 쉬운 게임이었다.\\n\\n', 'Now I need a place to hide away.\\n', '이제 숨을 곳이 필요해\\n\\n', 'Oh, I believe in yesterday.\\n', '오, 나는 어제를 다시 그리게 돼.\\n\\n', \"Why she had to go, I don't know, she wouldn't say.\\n\", '왜 그녀가 가야만 했는지, 모르겠어요, 그녀는 말하려 하지 않았어요.\\n\\n', 'I said something wrong, now I long for yesterday.\\n', '내가 잘못 말했는데, 어제가 그리워요.\\n\\n', 'Yesterday love was such an easy game to play.\\n', '어제는 사랑이 정말 쉬운 게임이었다.\\n\\n', 'Now I need a place to hide away.\\n', '이제 숨을 곳이 필요해\\n\\n', 'Oh, I believe in yesterday.\\n', '오, 나는 어제를 다시 그리게 돼.\\n\\n', 'Mm mm mm mm mm mm mm\\n', 'mm mm mm mm mm mm\\n\\n']\n",
      "---> Execution Complete\n"
     ]
    }
   ],
   "source": [
    "from requests import Request, Session\n",
    "\n",
    "client_id = \"wPP2UoYXXHPxIzymYpok\"\n",
    "client_secret = \"SWb9rsR_3l\"\n",
    "url = \"https://openapi.naver.com/v1/papago/n2mt\"\n",
    "\n",
    "req_header = {\"X-Naver-Client-Id\": client_id, \"X-Naver-Client-Secret\": client_secret}\n",
    "\n",
    "def get_text():\n",
    "    with open('data/yesterday.txt', 'r', encoding='utf-8') as file:\n",
    "        contents = file.read()\n",
    "        result = contents.split(\"\\n\")\n",
    "        return result\n",
    "\n",
    "def save(arg):\n",
    "    with open('data/yesterday_trans.txt', 'w', encoding='utf-8') as file:\n",
    "        file.writelines(arg)\n",
    "\n",
    "\n",
    "def main():\n",
    "    # Session 객체 생성\n",
    "    se = Session()\n",
    "    source_list = get_text()\n",
    "    # List Comprehension 으로 Empty string 제거\n",
    "    source_list = [source for source in source_list if len(source) != 0]\n",
    "    req_param = {\"source\": \"en\", \"target\": \"ko\"}\n",
    "\n",
    "    svd = []\n",
    "    for txt in source_list:\n",
    "        req_param['text'] = txt\n",
    "\n",
    "        req = Request('POST', url, headers=req_header, data=req_param)\n",
    "        prep = req.prepare()\n",
    "\n",
    "        res = se.send(prep)\n",
    "        # print(type(res), res.status_code)\n",
    "\n",
    "        if res.ok:  # @property 를 쓰면 함수 뒤에 붙는 괄호를 쓰지 않아도 됨 굿\n",
    "            try:\n",
    "                trans_txt = res.json()['message']['result']['translatedText']\n",
    "                # print(trans_txt)\n",
    "                svd.append(txt + \"\\n\")\n",
    "                svd.append(trans_txt + \"\\n\\n\")\n",
    "            except Exception as ex:\n",
    "                print('Error Occupied', res.status_code, ex)\n",
    "                break\n",
    "\n",
    "    print(svd)\n",
    "    save(svd)\n",
    "\n",
    "    print('---> Execution Complete')\n",
    "\n",
    "\n",
    "main()"
   ],
   "metadata": {
    "collapsed": false,
    "pycharm": {
     "name": "#%%\n"
    }
   }
  }
 ],
 "metadata": {
  "kernelspec": {
   "display_name": "Python 3 (ipykernel)",
   "language": "python",
   "name": "python3"
  },
  "language_info": {
   "codemirror_mode": {
    "name": "ipython",
    "version": 3
   },
   "file_extension": ".py",
   "mimetype": "text/x-python",
   "name": "python",
   "nbconvert_exporter": "python",
   "pygments_lexer": "ipython3",
   "version": "3.9.7"
  }
 },
 "nbformat": 4,
 "nbformat_minor": 5
}