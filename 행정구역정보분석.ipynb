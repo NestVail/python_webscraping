{
 "cells": [
  {
   "cell_type": "markdown",
   "metadata": {
    "collapsed": true,
    "pycharm": {
     "name": "#%% md\n"
    }
   },
   "source": [
    "## 행정구역 정보를 읽고 분석하기"
   ]
  },
  {
   "cell_type": "code",
   "execution_count": 2,
   "outputs": [
    {
     "data": {
      "text/plain": "     Unnamed: 0     인구수 shortName  x   y      면적  광역시도 행정구역\n224         224  127462        제천  8  10  882.47  충청북도  제천시",
      "text/html": "<div>\n<style scoped>\n    .dataframe tbody tr th:only-of-type {\n        vertical-align: middle;\n    }\n\n    .dataframe tbody tr th {\n        vertical-align: top;\n    }\n\n    .dataframe thead th {\n        text-align: right;\n    }\n</style>\n<table border=\"1\" class=\"dataframe\">\n  <thead>\n    <tr style=\"text-align: right;\">\n      <th></th>\n      <th>Unnamed: 0</th>\n      <th>인구수</th>\n      <th>shortName</th>\n      <th>x</th>\n      <th>y</th>\n      <th>면적</th>\n      <th>광역시도</th>\n      <th>행정구역</th>\n    </tr>\n  </thead>\n  <tbody>\n    <tr>\n      <th>224</th>\n      <td>224</td>\n      <td>127462</td>\n      <td>제천</td>\n      <td>8</td>\n      <td>10</td>\n      <td>882.47</td>\n      <td>충청북도</td>\n      <td>제천시</td>\n    </tr>\n  </tbody>\n</table>\n</div>"
     },
     "execution_count": 2,
     "metadata": {},
     "output_type": "execute_result"
    }
   ],
   "source": [
    "import pandas as pd\n",
    "\n",
    "data = pd.read_csv('data/data_draw_korea.csv')\n",
    "data.sample()"
   ],
   "metadata": {
    "collapsed": false,
    "pycharm": {
     "name": "#%%\n"
    }
   }
  },
  {
   "cell_type": "code",
   "execution_count": 2,
   "outputs": [
    {
     "name": "stdout",
     "output_type": "stream",
     "text": [
      "<class 'pandas.core.frame.DataFrame'>\n",
      "RangeIndex: 229 entries, 0 to 228\n",
      "Data columns (total 8 columns):\n",
      " #   Column      Non-Null Count  Dtype  \n",
      "---  ------      --------------  -----  \n",
      " 0   Unnamed: 0  229 non-null    int64  \n",
      " 1   인구수         229 non-null    int64  \n",
      " 2   shortName   229 non-null    object \n",
      " 3   x           229 non-null    int64  \n",
      " 4   y           229 non-null    int64  \n",
      " 5   면적          229 non-null    float64\n",
      " 6   광역시도        229 non-null    object \n",
      " 7   행정구역        229 non-null    object \n",
      "dtypes: float64(1), int64(4), object(3)\n",
      "memory usage: 14.4+ KB\n"
     ]
    }
   ],
   "source": [
    "data.info()"
   ],
   "metadata": {
    "collapsed": false,
    "pycharm": {
     "name": "#%%\n"
    }
   }
  },
  {
   "cell_type": "code",
   "execution_count": 3,
   "outputs": [
    {
     "data": {
      "text/plain": "       Unnamed: 0           인구수           x           y           면적\ncount  229.000000  2.290000e+02  229.000000  229.000000   229.000000\nmean   114.000000  2.110898e+05    6.117904   11.262009   435.419795\nstd     66.250786  2.074378e+05    3.320469    6.040898   381.612549\nmin      0.000000  8.392000e+03    0.000000    0.000000     2.800000\n25%     57.000000  4.955900e+04    3.000000    6.000000    54.000000\n50%    114.000000  1.401590e+05    6.000000   11.000000   436.400000\n75%    171.000000  3.216180e+05    9.000000   16.000000   692.800000\nmax    228.000000  1.125461e+06   13.000000   25.000000  1817.940000",
      "text/html": "<div>\n<style scoped>\n    .dataframe tbody tr th:only-of-type {\n        vertical-align: middle;\n    }\n\n    .dataframe tbody tr th {\n        vertical-align: top;\n    }\n\n    .dataframe thead th {\n        text-align: right;\n    }\n</style>\n<table border=\"1\" class=\"dataframe\">\n  <thead>\n    <tr style=\"text-align: right;\">\n      <th></th>\n      <th>Unnamed: 0</th>\n      <th>인구수</th>\n      <th>x</th>\n      <th>y</th>\n      <th>면적</th>\n    </tr>\n  </thead>\n  <tbody>\n    <tr>\n      <th>count</th>\n      <td>229.000000</td>\n      <td>2.290000e+02</td>\n      <td>229.000000</td>\n      <td>229.000000</td>\n      <td>229.000000</td>\n    </tr>\n    <tr>\n      <th>mean</th>\n      <td>114.000000</td>\n      <td>2.110898e+05</td>\n      <td>6.117904</td>\n      <td>11.262009</td>\n      <td>435.419795</td>\n    </tr>\n    <tr>\n      <th>std</th>\n      <td>66.250786</td>\n      <td>2.074378e+05</td>\n      <td>3.320469</td>\n      <td>6.040898</td>\n      <td>381.612549</td>\n    </tr>\n    <tr>\n      <th>min</th>\n      <td>0.000000</td>\n      <td>8.392000e+03</td>\n      <td>0.000000</td>\n      <td>0.000000</td>\n      <td>2.800000</td>\n    </tr>\n    <tr>\n      <th>25%</th>\n      <td>57.000000</td>\n      <td>4.955900e+04</td>\n      <td>3.000000</td>\n      <td>6.000000</td>\n      <td>54.000000</td>\n    </tr>\n    <tr>\n      <th>50%</th>\n      <td>114.000000</td>\n      <td>1.401590e+05</td>\n      <td>6.000000</td>\n      <td>11.000000</td>\n      <td>436.400000</td>\n    </tr>\n    <tr>\n      <th>75%</th>\n      <td>171.000000</td>\n      <td>3.216180e+05</td>\n      <td>9.000000</td>\n      <td>16.000000</td>\n      <td>692.800000</td>\n    </tr>\n    <tr>\n      <th>max</th>\n      <td>228.000000</td>\n      <td>1.125461e+06</td>\n      <td>13.000000</td>\n      <td>25.000000</td>\n      <td>1817.940000</td>\n    </tr>\n  </tbody>\n</table>\n</div>"
     },
     "execution_count": 3,
     "metadata": {},
     "output_type": "execute_result"
    }
   ],
   "source": [
    "data.describe()"
   ],
   "metadata": {
    "collapsed": false,
    "pycharm": {
     "name": "#%%\n"
    }
   }
  },
  {
   "cell_type": "code",
   "execution_count": 5,
   "outputs": [
    {
     "name": "stdout",
     "output_type": "stream",
     "text": [
      "인구수 최댓값: 1125461\n",
      "인구수 최솟값: 8392\n",
      "인구수 평균값: 211089.77729257641\n",
      "인구수 표준편차값: 207437.8370475227\n"
     ]
    }
   ],
   "source": [
    "print(f\"인구수 최댓값: {data['인구수'].max()}\")\n",
    "print(f\"인구수 최솟값: {data['인구수'].min()}\")\n",
    "print(f\"인구수 평균값: {data['인구수'].mean()}\")\n",
    "print(f\"인구수 표준편차값: {data['인구수'].std()}\")"
   ],
   "metadata": {
    "collapsed": false,
    "pycharm": {
     "name": "#%%\n"
    }
   }
  },
  {
   "cell_type": "code",
   "execution_count": 7,
   "outputs": [
    {
     "data": {
      "text/plain": "array(['강원도', '경기도', '경상남도', '경상북도', '광주광역시', '대구광역시', '대전광역시', '부산광역시',\n       '서울특별시', '세종특별자치시', '울산광역시', '인천광역시', '전라남도', '전라북도', '제주특별자치도',\n       '충청남도', '충청북도'], dtype=object)"
     },
     "execution_count": 7,
     "metadata": {},
     "output_type": "execute_result"
    }
   ],
   "source": [
    "# 중복값 제거한 광역시도 출력\n",
    "data['광역시도'].unique()"
   ],
   "metadata": {
    "collapsed": false,
    "pycharm": {
     "name": "#%%\n"
    }
   }
  },
  {
   "cell_type": "code",
   "execution_count": 10,
   "outputs": [
    {
     "data": {
      "text/plain": "경기도        31\n서울특별시      25\n경상북도       23\n전라남도       22\n강원도        18\n경상남도       18\n부산광역시      16\n충청남도       15\n전라북도       14\n충청북도       11\n인천광역시      10\n대구광역시       8\n대전광역시       5\n광주광역시       5\n울산광역시       5\n제주특별자치도     2\n세종특별자치시     1\nName: 광역시도, dtype: int64"
     },
     "execution_count": 10,
     "metadata": {},
     "output_type": "execute_result"
    }
   ],
   "source": [
    "# 광역시도 값 counting\n",
    "data['광역시도'].value_counts()"
   ],
   "metadata": {
    "collapsed": false,
    "pycharm": {
     "name": "#%%\n"
    }
   }
  },
  {
   "cell_type": "code",
   "execution_count": 26,
   "outputs": [],
   "source": [
    "# 서울특별시에 속한 구에 대한 정보 선택\n",
    "def si_to_do(si):\n",
    "    return data.loc[data['광역시도'] == si].reset_index(drop=True).sort_values(by='인구수', ascending=False)"
   ],
   "metadata": {
    "collapsed": false,
    "pycharm": {
     "name": "#%%\n"
    }
   }
  },
  {
   "cell_type": "code",
   "execution_count": 27,
   "outputs": [
    {
     "data": {
      "text/plain": "    Unnamed: 0      인구수 shortName  x  y       면적 광역시도  행정구역\n12          30  1125461        수원  6  9  121.090  경기도   수원시\n1           19   955384        고양  4  2  267.330  경기도   고양시\n22          40   915005        용인  7  9  591.500  경기도   용인시\n11          29   911628        성남  7  8  141.820  경기도   성남시\n10          28   805473        부천  2  4   53.440  경기도   부천시\n14          32   668089        안산  3  6  144.780  경기도   안산시\n8           26   610300       남양주  8  3  458.440  경기도  남양주시\n16          34   566558        안양  3  4   58.520  경기도   안양시\n30          48   555129        화성  3  7  688.100  경기도   화성시\n27          45   423763        평택  5  9  452.310  경기도   평택시\n24          42   408220       의정부  7  3   81.590  경기도  의정부시\n26          44   385528        파주  3  2  672.560  경기도   파주시\n13          31   381412        시흥  3  5  134.400  경기도   시흥시\n3           21   327111        광명  3  3   38.500  경기도   광명시\n7           25   326523        김포  2  3  276.640  경기도   김포시\n4           22   290210        광주  8  7  431.840  경기도   광주시\n6           24   273302        군포  5  8   36.350  경기도   군포시\n21          39   200793        오산  3  8   42.740  경기도   오산시\n17          35   191266        양주  8  2  310.310  경기도   양주시\n25          43   190537        이천  8  8  461.020  경기도   이천시\n5           23   175676        구리  9  4   33.300  경기도   구리시\n15          33   173061        안성  4  8  554.200  경기도   안성시\n29          47   150061        하남  9  5   93.100  경기도   하남시\n23          41   149080        의왕  6  8   54.000  경기도   의왕시\n28          46   140159        포천  8  1  826.380  경기도   포천시\n19          37   100669        여주  9  7  608.640  경기도   여주시\n18          36    95614        양평  9  6  877.080  경기도   양평군\n9           27    90398       동두천  7  2   95.680  경기도  동두천시\n2           20    63227        과천  7  7   35.813  경기도   과천시\n0           18    53497        가평  9  3  843.040  경기도   가평군\n20          38    41076        연천  7  1  695.230  경기도   연천군",
      "text/html": "<div>\n<style scoped>\n    .dataframe tbody tr th:only-of-type {\n        vertical-align: middle;\n    }\n\n    .dataframe tbody tr th {\n        vertical-align: top;\n    }\n\n    .dataframe thead th {\n        text-align: right;\n    }\n</style>\n<table border=\"1\" class=\"dataframe\">\n  <thead>\n    <tr style=\"text-align: right;\">\n      <th></th>\n      <th>Unnamed: 0</th>\n      <th>인구수</th>\n      <th>shortName</th>\n      <th>x</th>\n      <th>y</th>\n      <th>면적</th>\n      <th>광역시도</th>\n      <th>행정구역</th>\n    </tr>\n  </thead>\n  <tbody>\n    <tr>\n      <th>12</th>\n      <td>30</td>\n      <td>1125461</td>\n      <td>수원</td>\n      <td>6</td>\n      <td>9</td>\n      <td>121.090</td>\n      <td>경기도</td>\n      <td>수원시</td>\n    </tr>\n    <tr>\n      <th>1</th>\n      <td>19</td>\n      <td>955384</td>\n      <td>고양</td>\n      <td>4</td>\n      <td>2</td>\n      <td>267.330</td>\n      <td>경기도</td>\n      <td>고양시</td>\n    </tr>\n    <tr>\n      <th>22</th>\n      <td>40</td>\n      <td>915005</td>\n      <td>용인</td>\n      <td>7</td>\n      <td>9</td>\n      <td>591.500</td>\n      <td>경기도</td>\n      <td>용인시</td>\n    </tr>\n    <tr>\n      <th>11</th>\n      <td>29</td>\n      <td>911628</td>\n      <td>성남</td>\n      <td>7</td>\n      <td>8</td>\n      <td>141.820</td>\n      <td>경기도</td>\n      <td>성남시</td>\n    </tr>\n    <tr>\n      <th>10</th>\n      <td>28</td>\n      <td>805473</td>\n      <td>부천</td>\n      <td>2</td>\n      <td>4</td>\n      <td>53.440</td>\n      <td>경기도</td>\n      <td>부천시</td>\n    </tr>\n    <tr>\n      <th>14</th>\n      <td>32</td>\n      <td>668089</td>\n      <td>안산</td>\n      <td>3</td>\n      <td>6</td>\n      <td>144.780</td>\n      <td>경기도</td>\n      <td>안산시</td>\n    </tr>\n    <tr>\n      <th>8</th>\n      <td>26</td>\n      <td>610300</td>\n      <td>남양주</td>\n      <td>8</td>\n      <td>3</td>\n      <td>458.440</td>\n      <td>경기도</td>\n      <td>남양주시</td>\n    </tr>\n    <tr>\n      <th>16</th>\n      <td>34</td>\n      <td>566558</td>\n      <td>안양</td>\n      <td>3</td>\n      <td>4</td>\n      <td>58.520</td>\n      <td>경기도</td>\n      <td>안양시</td>\n    </tr>\n    <tr>\n      <th>30</th>\n      <td>48</td>\n      <td>555129</td>\n      <td>화성</td>\n      <td>3</td>\n      <td>7</td>\n      <td>688.100</td>\n      <td>경기도</td>\n      <td>화성시</td>\n    </tr>\n    <tr>\n      <th>27</th>\n      <td>45</td>\n      <td>423763</td>\n      <td>평택</td>\n      <td>5</td>\n      <td>9</td>\n      <td>452.310</td>\n      <td>경기도</td>\n      <td>평택시</td>\n    </tr>\n    <tr>\n      <th>24</th>\n      <td>42</td>\n      <td>408220</td>\n      <td>의정부</td>\n      <td>7</td>\n      <td>3</td>\n      <td>81.590</td>\n      <td>경기도</td>\n      <td>의정부시</td>\n    </tr>\n    <tr>\n      <th>26</th>\n      <td>44</td>\n      <td>385528</td>\n      <td>파주</td>\n      <td>3</td>\n      <td>2</td>\n      <td>672.560</td>\n      <td>경기도</td>\n      <td>파주시</td>\n    </tr>\n    <tr>\n      <th>13</th>\n      <td>31</td>\n      <td>381412</td>\n      <td>시흥</td>\n      <td>3</td>\n      <td>5</td>\n      <td>134.400</td>\n      <td>경기도</td>\n      <td>시흥시</td>\n    </tr>\n    <tr>\n      <th>3</th>\n      <td>21</td>\n      <td>327111</td>\n      <td>광명</td>\n      <td>3</td>\n      <td>3</td>\n      <td>38.500</td>\n      <td>경기도</td>\n      <td>광명시</td>\n    </tr>\n    <tr>\n      <th>7</th>\n      <td>25</td>\n      <td>326523</td>\n      <td>김포</td>\n      <td>2</td>\n      <td>3</td>\n      <td>276.640</td>\n      <td>경기도</td>\n      <td>김포시</td>\n    </tr>\n    <tr>\n      <th>4</th>\n      <td>22</td>\n      <td>290210</td>\n      <td>광주</td>\n      <td>8</td>\n      <td>7</td>\n      <td>431.840</td>\n      <td>경기도</td>\n      <td>광주시</td>\n    </tr>\n    <tr>\n      <th>6</th>\n      <td>24</td>\n      <td>273302</td>\n      <td>군포</td>\n      <td>5</td>\n      <td>8</td>\n      <td>36.350</td>\n      <td>경기도</td>\n      <td>군포시</td>\n    </tr>\n    <tr>\n      <th>21</th>\n      <td>39</td>\n      <td>200793</td>\n      <td>오산</td>\n      <td>3</td>\n      <td>8</td>\n      <td>42.740</td>\n      <td>경기도</td>\n      <td>오산시</td>\n    </tr>\n    <tr>\n      <th>17</th>\n      <td>35</td>\n      <td>191266</td>\n      <td>양주</td>\n      <td>8</td>\n      <td>2</td>\n      <td>310.310</td>\n      <td>경기도</td>\n      <td>양주시</td>\n    </tr>\n    <tr>\n      <th>25</th>\n      <td>43</td>\n      <td>190537</td>\n      <td>이천</td>\n      <td>8</td>\n      <td>8</td>\n      <td>461.020</td>\n      <td>경기도</td>\n      <td>이천시</td>\n    </tr>\n    <tr>\n      <th>5</th>\n      <td>23</td>\n      <td>175676</td>\n      <td>구리</td>\n      <td>9</td>\n      <td>4</td>\n      <td>33.300</td>\n      <td>경기도</td>\n      <td>구리시</td>\n    </tr>\n    <tr>\n      <th>15</th>\n      <td>33</td>\n      <td>173061</td>\n      <td>안성</td>\n      <td>4</td>\n      <td>8</td>\n      <td>554.200</td>\n      <td>경기도</td>\n      <td>안성시</td>\n    </tr>\n    <tr>\n      <th>29</th>\n      <td>47</td>\n      <td>150061</td>\n      <td>하남</td>\n      <td>9</td>\n      <td>5</td>\n      <td>93.100</td>\n      <td>경기도</td>\n      <td>하남시</td>\n    </tr>\n    <tr>\n      <th>23</th>\n      <td>41</td>\n      <td>149080</td>\n      <td>의왕</td>\n      <td>6</td>\n      <td>8</td>\n      <td>54.000</td>\n      <td>경기도</td>\n      <td>의왕시</td>\n    </tr>\n    <tr>\n      <th>28</th>\n      <td>46</td>\n      <td>140159</td>\n      <td>포천</td>\n      <td>8</td>\n      <td>1</td>\n      <td>826.380</td>\n      <td>경기도</td>\n      <td>포천시</td>\n    </tr>\n    <tr>\n      <th>19</th>\n      <td>37</td>\n      <td>100669</td>\n      <td>여주</td>\n      <td>9</td>\n      <td>7</td>\n      <td>608.640</td>\n      <td>경기도</td>\n      <td>여주시</td>\n    </tr>\n    <tr>\n      <th>18</th>\n      <td>36</td>\n      <td>95614</td>\n      <td>양평</td>\n      <td>9</td>\n      <td>6</td>\n      <td>877.080</td>\n      <td>경기도</td>\n      <td>양평군</td>\n    </tr>\n    <tr>\n      <th>9</th>\n      <td>27</td>\n      <td>90398</td>\n      <td>동두천</td>\n      <td>7</td>\n      <td>2</td>\n      <td>95.680</td>\n      <td>경기도</td>\n      <td>동두천시</td>\n    </tr>\n    <tr>\n      <th>2</th>\n      <td>20</td>\n      <td>63227</td>\n      <td>과천</td>\n      <td>7</td>\n      <td>7</td>\n      <td>35.813</td>\n      <td>경기도</td>\n      <td>과천시</td>\n    </tr>\n    <tr>\n      <th>0</th>\n      <td>18</td>\n      <td>53497</td>\n      <td>가평</td>\n      <td>9</td>\n      <td>3</td>\n      <td>843.040</td>\n      <td>경기도</td>\n      <td>가평군</td>\n    </tr>\n    <tr>\n      <th>20</th>\n      <td>38</td>\n      <td>41076</td>\n      <td>연천</td>\n      <td>7</td>\n      <td>1</td>\n      <td>695.230</td>\n      <td>경기도</td>\n      <td>연천군</td>\n    </tr>\n  </tbody>\n</table>\n</div>"
     },
     "execution_count": 27,
     "metadata": {},
     "output_type": "execute_result"
    }
   ],
   "source": [
    "sel = input(\"검색하고 싶은 시 또는 도를 입력: \")\n",
    "si_to_do(sel)"
   ],
   "metadata": {
    "collapsed": false,
    "pycharm": {
     "name": "#%%\n"
    }
   }
  },
  {
   "cell_type": "code",
   "execution_count": 22,
   "outputs": [
    {
     "name": "stdout",
     "output_type": "stream",
     "text": [
      "인구수 평균: 375792.28\n",
      "인구수 표준편차: 125231.24797500289\n"
     ]
    }
   ],
   "source": [
    "# 서울특별시에 속한 구의 인구수 평균 및 표준편차\n",
    "print(f\"인구수 평균: {data.loc[data['광역시도'] == '서울특별시', '인구수'].mean()}\")\n",
    "print(f\"인구수 표준편차: {data.loc[data['광역시도'] == '서울특별시', '인구수'].std()}\")"
   ],
   "metadata": {
    "collapsed": false,
    "pycharm": {
     "name": "#%%\n"
    }
   }
  },
  {
   "cell_type": "code",
   "execution_count": 36,
   "outputs": [],
   "source": [
    "# 입력 받은 시, 도에 속한 구의 인구수 평균 및 표준편차\n",
    "# '표준편차가 크다'는 것이 어떤 의미를 가지는지 생각해볼것\n",
    "def popularity(si):\n",
    "    print(f'광역시도: {si}')\n",
    "    print(f\"인구수 평균: {data.loc[data['광역시도'] == si, '인구수'].mean()}\")\n",
    "    print(f\"인구수 표준편차: {data.loc[data['광역시도'] == si, '인구수'].std()}\")"
   ],
   "metadata": {
    "collapsed": false,
    "pycharm": {
     "name": "#%%\n"
    }
   }
  },
  {
   "cell_type": "code",
   "execution_count": 37,
   "outputs": [
    {
     "name": "stdout",
     "output_type": "stream",
     "text": [
      "인구수 평균: 378845.48387096776\n",
      "인구수 표준편차: 304548.39514203876\n"
     ]
    }
   ],
   "source": [
    "sel = input(\"검색하고 싶은 시 또는 도를 입력: \")\n",
    "popularity(sel)"
   ],
   "metadata": {
    "collapsed": false,
    "pycharm": {
     "name": "#%%\n"
    }
   }
  },
  {
   "cell_type": "code",
   "execution_count": 3,
   "outputs": [
    {
     "data": {
      "text/plain": "   행정구역     인구수       면적\n0   포항시  488395  1127.00\n1   구미시  396685   616.10\n2   경산시  251220   411.58\n3   경주시  242618  1323.85\n4   안동시  157317  1519.00\n5   김천시  127941  1009.56\n6   칠곡군  112446   451.00\n7   영주시  101612   668.45\n8   상주시   93305  1254.82\n9   영천시   91214   919.76\n10  문경시   67919   912.00\n11  의성군   48776  1175.89\n12  울진군   46748   989.06\n13  예천군   40779   660.70\n14  청도군   38571   696.52\n15  성주군   38277   616.28\n16  영덕군   34864   741.05\n17  고령군   31189   383.70\n18  봉화군   30287  1201.00\n19  청송군   23804   842.45\n20  군위군   20596   614.15\n21  영양군   16009   815.11\n22  울릉군    8392    72.82",
      "text/html": "<div>\n<style scoped>\n    .dataframe tbody tr th:only-of-type {\n        vertical-align: middle;\n    }\n\n    .dataframe tbody tr th {\n        vertical-align: top;\n    }\n\n    .dataframe thead th {\n        text-align: right;\n    }\n</style>\n<table border=\"1\" class=\"dataframe\">\n  <thead>\n    <tr style=\"text-align: right;\">\n      <th></th>\n      <th>행정구역</th>\n      <th>인구수</th>\n      <th>면적</th>\n    </tr>\n  </thead>\n  <tbody>\n    <tr>\n      <th>0</th>\n      <td>포항시</td>\n      <td>488395</td>\n      <td>1127.00</td>\n    </tr>\n    <tr>\n      <th>1</th>\n      <td>구미시</td>\n      <td>396685</td>\n      <td>616.10</td>\n    </tr>\n    <tr>\n      <th>2</th>\n      <td>경산시</td>\n      <td>251220</td>\n      <td>411.58</td>\n    </tr>\n    <tr>\n      <th>3</th>\n      <td>경주시</td>\n      <td>242618</td>\n      <td>1323.85</td>\n    </tr>\n    <tr>\n      <th>4</th>\n      <td>안동시</td>\n      <td>157317</td>\n      <td>1519.00</td>\n    </tr>\n    <tr>\n      <th>5</th>\n      <td>김천시</td>\n      <td>127941</td>\n      <td>1009.56</td>\n    </tr>\n    <tr>\n      <th>6</th>\n      <td>칠곡군</td>\n      <td>112446</td>\n      <td>451.00</td>\n    </tr>\n    <tr>\n      <th>7</th>\n      <td>영주시</td>\n      <td>101612</td>\n      <td>668.45</td>\n    </tr>\n    <tr>\n      <th>8</th>\n      <td>상주시</td>\n      <td>93305</td>\n      <td>1254.82</td>\n    </tr>\n    <tr>\n      <th>9</th>\n      <td>영천시</td>\n      <td>91214</td>\n      <td>919.76</td>\n    </tr>\n    <tr>\n      <th>10</th>\n      <td>문경시</td>\n      <td>67919</td>\n      <td>912.00</td>\n    </tr>\n    <tr>\n      <th>11</th>\n      <td>의성군</td>\n      <td>48776</td>\n      <td>1175.89</td>\n    </tr>\n    <tr>\n      <th>12</th>\n      <td>울진군</td>\n      <td>46748</td>\n      <td>989.06</td>\n    </tr>\n    <tr>\n      <th>13</th>\n      <td>예천군</td>\n      <td>40779</td>\n      <td>660.70</td>\n    </tr>\n    <tr>\n      <th>14</th>\n      <td>청도군</td>\n      <td>38571</td>\n      <td>696.52</td>\n    </tr>\n    <tr>\n      <th>15</th>\n      <td>성주군</td>\n      <td>38277</td>\n      <td>616.28</td>\n    </tr>\n    <tr>\n      <th>16</th>\n      <td>영덕군</td>\n      <td>34864</td>\n      <td>741.05</td>\n    </tr>\n    <tr>\n      <th>17</th>\n      <td>고령군</td>\n      <td>31189</td>\n      <td>383.70</td>\n    </tr>\n    <tr>\n      <th>18</th>\n      <td>봉화군</td>\n      <td>30287</td>\n      <td>1201.00</td>\n    </tr>\n    <tr>\n      <th>19</th>\n      <td>청송군</td>\n      <td>23804</td>\n      <td>842.45</td>\n    </tr>\n    <tr>\n      <th>20</th>\n      <td>군위군</td>\n      <td>20596</td>\n      <td>614.15</td>\n    </tr>\n    <tr>\n      <th>21</th>\n      <td>영양군</td>\n      <td>16009</td>\n      <td>815.11</td>\n    </tr>\n    <tr>\n      <th>22</th>\n      <td>울릉군</td>\n      <td>8392</td>\n      <td>72.82</td>\n    </tr>\n  </tbody>\n</table>\n</div>"
     },
     "execution_count": 3,
     "metadata": {},
     "output_type": "execute_result"
    }
   ],
   "source": [
    "# 경북에 속한 행정구역, 인구수, 면적을 출력하고 인구가 많은 순으로 정렬 후, index를 순서대로 출력\n",
    "data.loc[data['광역시도'] == '경상북도', ['행정구역', '인구수', '면적']].sort_values(by='인구수', ascending=False).reset_index(drop=True)\n",
    "\n",
    "# sort_values에서 여러 컬럼을 받아서 정렬하고 싶을 때 by=['col1', 'col2', ...] 형태로 작성하면 된다"
   ],
   "metadata": {
    "collapsed": false,
    "pycharm": {
     "name": "#%%\n"
    }
   }
  },
  {
   "cell_type": "code",
   "execution_count": 5,
   "outputs": [
    {
     "data": {
      "text/plain": "       인구수 shortName  x\n20   63227        과천  7\n21  327111        광명  3\n22  290210        광주  8\n23  175676        구리  9\n24  273302        군포  5",
      "text/html": "<div>\n<style scoped>\n    .dataframe tbody tr th:only-of-type {\n        vertical-align: middle;\n    }\n\n    .dataframe tbody tr th {\n        vertical-align: top;\n    }\n\n    .dataframe thead th {\n        text-align: right;\n    }\n</style>\n<table border=\"1\" class=\"dataframe\">\n  <thead>\n    <tr style=\"text-align: right;\">\n      <th></th>\n      <th>인구수</th>\n      <th>shortName</th>\n      <th>x</th>\n    </tr>\n  </thead>\n  <tbody>\n    <tr>\n      <th>20</th>\n      <td>63227</td>\n      <td>과천</td>\n      <td>7</td>\n    </tr>\n    <tr>\n      <th>21</th>\n      <td>327111</td>\n      <td>광명</td>\n      <td>3</td>\n    </tr>\n    <tr>\n      <th>22</th>\n      <td>290210</td>\n      <td>광주</td>\n      <td>8</td>\n    </tr>\n    <tr>\n      <th>23</th>\n      <td>175676</td>\n      <td>구리</td>\n      <td>9</td>\n    </tr>\n    <tr>\n      <th>24</th>\n      <td>273302</td>\n      <td>군포</td>\n      <td>5</td>\n    </tr>\n  </tbody>\n</table>\n</div>"
     },
     "execution_count": 5,
     "metadata": {},
     "output_type": "execute_result"
    }
   ],
   "source": [
    "# iloc 사용\n",
    "# ex) 인덱스 20~25의 행, '인구수' ~ '광역시도'의 열\n",
    "# data.loc[20:25, '인구수':'광역시도'] # 마지막 값이 포함됨, 컬럼명을 씀\n",
    "data.iloc[20:25, 1:4]   # 마지막 값이 포함되지 않음, 컬럼의 인덱스 값을 씀"
   ],
   "metadata": {
    "collapsed": false,
    "pycharm": {
     "name": "#%%\n"
    }
   }
  },
  {
   "cell_type": "code",
   "execution_count": 17,
   "outputs": [],
   "source": [
    "# 인구수가 전국평균 인구수 보다 작은 지역을 선택하고, 결과를 엑셀 파일로 저장\n",
    "pop_mean_val = data['인구수'].mean()\n",
    "# round(pop_mean_val) # Same function as pop_mean_val:.2f\n",
    "pop_mean_lt_df = data.loc[data['인구수'] < pop_mean_val, ['광역시도', '행정구역', '면적', '인구수' ]].sort_values(by='인구수').reset_index(drop=True)\n",
    "pop_mean_lt_df.to_excel('data/평균인구수미달지역.xlsx')"
   ],
   "metadata": {
    "collapsed": false,
    "pycharm": {
     "name": "#%%\n"
    }
   }
  }
 ],
 "metadata": {
  "kernelspec": {
   "display_name": "Python 3",
   "language": "python",
   "name": "python3"
  },
  "language_info": {
   "codemirror_mode": {
    "name": "ipython",
    "version": 2
   },
   "file_extension": ".py",
   "mimetype": "text/x-python",
   "name": "python",
   "nbconvert_exporter": "python",
   "pygments_lexer": "ipython2",
   "version": "2.7.6"
  }
 },
 "nbformat": 4,
 "nbformat_minor": 0
}