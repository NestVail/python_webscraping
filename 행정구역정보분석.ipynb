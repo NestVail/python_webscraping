{
 "cells": [
  {
   "cell_type": "markdown",
   "metadata": {
    "collapsed": true,
    "pycharm": {
     "name": "#%% md\n"
    }
   },
   "source": [
    "## 행정구역 정보를 읽고 분석하기"
   ]
  },
  {
   "cell_type": "code",
   "execution_count": 2,
   "outputs": [
    {
     "data": {
      "text/plain": "     Unnamed: 0     인구수 shortName  x   y      면적  광역시도 행정구역\n224         224  127462        제천  8  10  882.47  충청북도  제천시",
      "text/html": "<div>\n<style scoped>\n    .dataframe tbody tr th:only-of-type {\n        vertical-align: middle;\n    }\n\n    .dataframe tbody tr th {\n        vertical-align: top;\n    }\n\n    .dataframe thead th {\n        text-align: right;\n    }\n</style>\n<table border=\"1\" class=\"dataframe\">\n  <thead>\n    <tr style=\"text-align: right;\">\n      <th></th>\n      <th>Unnamed: 0</th>\n      <th>인구수</th>\n      <th>shortName</th>\n      <th>x</th>\n      <th>y</th>\n      <th>면적</th>\n      <th>광역시도</th>\n      <th>행정구역</th>\n    </tr>\n  </thead>\n  <tbody>\n    <tr>\n      <th>224</th>\n      <td>224</td>\n      <td>127462</td>\n      <td>제천</td>\n      <td>8</td>\n      <td>10</td>\n      <td>882.47</td>\n      <td>충청북도</td>\n      <td>제천시</td>\n    </tr>\n  </tbody>\n</table>\n</div>"
     },
     "execution_count": 2,
     "metadata": {},
     "output_type": "execute_result"
    }
   ],
   "source": [
    "import pandas as pd\n",
    "\n",
    "data = pd.read_csv('data/data_draw_korea.csv')\n",
    "data.sample()"
   ],
   "metadata": {
    "collapsed": false,
    "pycharm": {
     "name": "#%%\n"
    }
   }
  },
  {
   "cell_type": "code",
   "execution_count": 2,
   "outputs": [
    {
     "name": "stdout",
     "output_type": "stream",
     "text": [
      "<class 'pandas.core.frame.DataFrame'>\n",
      "RangeIndex: 229 entries, 0 to 228\n",
      "Data columns (total 8 columns):\n",
      " #   Column      Non-Null Count  Dtype  \n",
      "---  ------      --------------  -----  \n",
      " 0   Unnamed: 0  229 non-null    int64  \n",
      " 1   인구수         229 non-null    int64  \n",
      " 2   shortName   229 non-null    object \n",
      " 3   x           229 non-null    int64  \n",
      " 4   y           229 non-null    int64  \n",
      " 5   면적          229 non-null    float64\n",
      " 6   광역시도        229 non-null    object \n",
      " 7   행정구역        229 non-null    object \n",
      "dtypes: float64(1), int64(4), object(3)\n",
      "memory usage: 14.4+ KB\n"
     ]
    }
   ],
   "source": [
    "data.info()"
   ],
   "metadata": {
    "collapsed": false,
    "pycharm": {
     "name": "#%%\n"
    }
   }
  },
  {
   "cell_type": "code",
   "execution_count": 3,
   "outputs": [
    {
     "data": {
      "text/plain": "       Unnamed: 0           인구수           x           y           면적\ncount  229.000000  2.290000e+02  229.000000  229.000000   229.000000\nmean   114.000000  2.110898e+05    6.117904   11.262009   435.419795\nstd     66.250786  2.074378e+05    3.320469    6.040898   381.612549\nmin      0.000000  8.392000e+03    0.000000    0.000000     2.800000\n25%     57.000000  4.955900e+04    3.000000    6.000000    54.000000\n50%    114.000000  1.401590e+05    6.000000   11.000000   436.400000\n75%    171.000000  3.216180e+05    9.000000   16.000000   692.800000\nmax    228.000000  1.125461e+06   13.000000   25.000000  1817.940000",
      "text/html": "<div>\n<style scoped>\n    .dataframe tbody tr th:only-of-type {\n        vertical-align: middle;\n    }\n\n    .dataframe tbody tr th {\n        vertical-align: top;\n    }\n\n    .dataframe thead th {\n        text-align: right;\n    }\n</style>\n<table border=\"1\" class=\"dataframe\">\n  <thead>\n    <tr style=\"text-align: right;\">\n      <th></th>\n      <th>Unnamed: 0</th>\n      <th>인구수</th>\n      <th>x</th>\n      <th>y</th>\n      <th>면적</th>\n    </tr>\n  </thead>\n  <tbody>\n    <tr>\n      <th>count</th>\n      <td>229.000000</td>\n      <td>2.290000e+02</td>\n      <td>229.000000</td>\n      <td>229.000000</td>\n      <td>229.000000</td>\n    </tr>\n    <tr>\n      <th>mean</th>\n      <td>114.000000</td>\n      <td>2.110898e+05</td>\n      <td>6.117904</td>\n      <td>11.262009</td>\n      <td>435.419795</td>\n    </tr>\n    <tr>\n      <th>std</th>\n      <td>66.250786</td>\n      <td>2.074378e+05</td>\n      <td>3.320469</td>\n      <td>6.040898</td>\n      <td>381.612549</td>\n    </tr>\n    <tr>\n      <th>min</th>\n      <td>0.000000</td>\n      <td>8.392000e+03</td>\n      <td>0.000000</td>\n      <td>0.000000</td>\n      <td>2.800000</td>\n    </tr>\n    <tr>\n      <th>25%</th>\n      <td>57.000000</td>\n      <td>4.955900e+04</td>\n      <td>3.000000</td>\n      <td>6.000000</td>\n      <td>54.000000</td>\n    </tr>\n    <tr>\n      <th>50%</th>\n      <td>114.000000</td>\n      <td>1.401590e+05</td>\n      <td>6.000000</td>\n      <td>11.000000</td>\n      <td>436.400000</td>\n    </tr>\n    <tr>\n      <th>75%</th>\n      <td>171.000000</td>\n      <td>3.216180e+05</td>\n      <td>9.000000</td>\n      <td>16.000000</td>\n      <td>692.800000</td>\n    </tr>\n    <tr>\n      <th>max</th>\n      <td>228.000000</td>\n      <td>1.125461e+06</td>\n      <td>13.000000</td>\n      <td>25.000000</td>\n      <td>1817.940000</td>\n    </tr>\n  </tbody>\n</table>\n</div>"
     },
     "execution_count": 3,
     "metadata": {},
     "output_type": "execute_result"
    }
   ],
   "source": [
    "data.describe()"
   ],
   "metadata": {
    "collapsed": false,
    "pycharm": {
     "name": "#%%\n"
    }
   }
  },
  {
   "cell_type": "code",
   "execution_count": 5,
   "outputs": [
    {
     "name": "stdout",
     "output_type": "stream",
     "text": [
      "인구수 최댓값: 1125461\n",
      "인구수 최솟값: 8392\n",
      "인구수 평균값: 211089.77729257641\n",
      "인구수 표준편차값: 207437.8370475227\n"
     ]
    }
   ],
   "source": [
    "print(f\"인구수 최댓값: {data['인구수'].max()}\")\n",
    "print(f\"인구수 최솟값: {data['인구수'].min()}\")\n",
    "print(f\"인구수 평균값: {data['인구수'].mean()}\")\n",
    "print(f\"인구수 표준편차값: {data['인구수'].std()}\")"
   ],
   "metadata": {
    "collapsed": false,
    "pycharm": {
     "name": "#%%\n"
    }
   }
  },
  {
   "cell_type": "code",
   "execution_count": 7,
   "outputs": [
    {
     "data": {
      "text/plain": "array(['강원도', '경기도', '경상남도', '경상북도', '광주광역시', '대구광역시', '대전광역시', '부산광역시',\n       '서울특별시', '세종특별자치시', '울산광역시', '인천광역시', '전라남도', '전라북도', '제주특별자치도',\n       '충청남도', '충청북도'], dtype=object)"
     },
     "execution_count": 7,
     "metadata": {},
     "output_type": "execute_result"
    }
   ],
   "source": [
    "# 중복값 제거한 광역시도 출력\n",
    "data['광역시도'].unique()"
   ],
   "metadata": {
    "collapsed": false,
    "pycharm": {
     "name": "#%%\n"
    }
   }
  },
  {
   "cell_type": "code",
   "execution_count": 10,
   "outputs": [
    {
     "data": {
      "text/plain": "경기도        31\n서울특별시      25\n경상북도       23\n전라남도       22\n강원도        18\n경상남도       18\n부산광역시      16\n충청남도       15\n전라북도       14\n충청북도       11\n인천광역시      10\n대구광역시       8\n대전광역시       5\n광주광역시       5\n울산광역시       5\n제주특별자치도     2\n세종특별자치시     1\nName: 광역시도, dtype: int64"
     },
     "execution_count": 10,
     "metadata": {},
     "output_type": "execute_result"
    }
   ],
   "source": [
    "# 광역시도 값 counting\n",
    "data['광역시도'].value_counts()"
   ],
   "metadata": {
    "collapsed": false,
    "pycharm": {
     "name": "#%%\n"
    }
   }
  },
  {
   "cell_type": "code",
   "execution_count": 26,
   "outputs": [],
   "source": [
    "# 서울특별시에 속한 구에 대한 정보 선택\n",
    "def si_to_do(si):\n",
    "    return data.loc[data['광역시도'] == si].reset_index(drop=True).sort_values(by='인구수', ascending=False)"
   ],
   "metadata": {
    "collapsed": false,
    "pycharm": {
     "name": "#%%\n"
    }
   }
  },
  {
   "cell_type": "code",
   "execution_count": 27,
   "outputs": [
    {
     "data": {
      "text/plain": "    Unnamed: 0      인구수 shortName  x  y       면적 광역시도  행정구역\n12          30  1125461        수원  6  9  121.090  경기도   수원시\n1           19   955384        고양  4  2  267.330  경기도   고양시\n22          40   915005        용인  7  9  591.500  경기도   용인시\n11          29   911628        성남  7  8  141.820  경기도   성남시\n10          28   805473        부천  2  4   53.440  경기도   부천시\n14          32   668089        안산  3  6  144.780  경기도   안산시\n8           26   610300       남양주  8  3  458.440  경기도  남양주시\n16          34   566558        안양  3  4   58.520  경기도   안양시\n30          48   555129        화성  3  7  688.100  경기도   화성시\n27          45   423763        평택  5  9  452.310  경기도   평택시\n24          42   408220       의정부  7  3   81.590  경기도  의정부시\n26          44   385528        파주  3  2  672.560  경기도   파주시\n13          31   381412        시흥  3  5  134.400  경기도   시흥시\n3           21   327111        광명  3  3   38.500  경기도   광명시\n7           25   326523        김포  2  3  276.640  경기도   김포시\n4           22   290210        광주  8  7  431.840  경기도   광주시\n6           24   273302        군포  5  8   36.350  경기도   군포시\n21          39   200793        오산  3  8   42.740  경기도   오산시\n17          35   191266        양주  8  2  310.310  경기도   양주시\n25          43   190537        이천  8  8  461.020  경기도   이천시\n5           23   175676        구리  9  4   33.300  경기도   구리시\n15          33   173061        안성  4  8  554.200  경기도   안성시\n29          47   150061        하남  9  5   93.100  경기도   하남시\n23          41   149080        의왕  6  8   54.000  경기도   의왕시\n28          46   140159        포천  8  1  826.380  경기도   포천시\n19          37   100669        여주  9  7  608.640  경기도   여주시\n18          36    95614        양평  9  6  877.080  경기도   양평군\n9           27    90398       동두천  7  2   95.680  경기도  동두천시\n2           20    63227        과천  7  7   35.813  경기도   과천시\n0           18    53497        가평  9  3  843.040  경기도   가평군\n20          38    41076        연천  7  1  695.230  경기도   연천군",
      "text/html": "<div>\n<style scoped>\n    .dataframe tbody tr th:only-of-type {\n        vertical-align: middle;\n    }\n\n    .dataframe tbody tr th {\n        vertical-align: top;\n    }\n\n    .dataframe thead th {\n        text-align: right;\n    }\n</style>\n<table border=\"1\" class=\"dataframe\">\n  <thead>\n    <tr style=\"text-align: right;\">\n      <th></th>\n      <th>Unnamed: 0</th>\n      <th>인구수</th>\n      <th>shortName</th>\n      <th>x</th>\n      <th>y</th>\n      <th>면적</th>\n      <th>광역시도</th>\n      <th>행정구역</th>\n    </tr>\n  </thead>\n  <tbody>\n    <tr>\n      <th>12</th>\n      <td>30</td>\n      <td>1125461</td>\n      <td>수원</td>\n      <td>6</td>\n      <td>9</td>\n      <td>121.090</td>\n      <td>경기도</td>\n      <td>수원시</td>\n    </tr>\n    <tr>\n      <th>1</th>\n      <td>19</td>\n      <td>955384</td>\n      <td>고양</td>\n      <td>4</td>\n      <td>2</td>\n      <td>267.330</td>\n      <td>경기도</td>\n      <td>고양시</td>\n    </tr>\n    <tr>\n      <th>22</th>\n      <td>40</td>\n      <td>915005</td>\n      <td>용인</td>\n      <td>7</td>\n      <td>9</td>\n      <td>591.500</td>\n      <td>경기도</td>\n      <td>용인시</td>\n    </tr>\n    <tr>\n      <th>11</th>\n      <td>29</td>\n      <td>911628</td>\n      <td>성남</td>\n      <td>7</td>\n      <td>8</td>\n      <td>141.820</td>\n      <td>경기도</td>\n      <td>성남시</td>\n    </tr>\n    <tr>\n      <th>10</th>\n      <td>28</td>\n      <td>805473</td>\n      <td>부천</td>\n      <td>2</td>\n      <td>4</td>\n      <td>53.440</td>\n      <td>경기도</td>\n      <td>부천시</td>\n    </tr>\n    <tr>\n      <th>14</th>\n      <td>32</td>\n      <td>668089</td>\n      <td>안산</td>\n      <td>3</td>\n      <td>6</td>\n      <td>144.780</td>\n      <td>경기도</td>\n      <td>안산시</td>\n    </tr>\n    <tr>\n      <th>8</th>\n      <td>26</td>\n      <td>610300</td>\n      <td>남양주</td>\n      <td>8</td>\n      <td>3</td>\n      <td>458.440</td>\n      <td>경기도</td>\n      <td>남양주시</td>\n    </tr>\n    <tr>\n      <th>16</th>\n      <td>34</td>\n      <td>566558</td>\n      <td>안양</td>\n      <td>3</td>\n      <td>4</td>\n      <td>58.520</td>\n      <td>경기도</td>\n      <td>안양시</td>\n    </tr>\n    <tr>\n      <th>30</th>\n      <td>48</td>\n      <td>555129</td>\n      <td>화성</td>\n      <td>3</td>\n      <td>7</td>\n      <td>688.100</td>\n      <td>경기도</td>\n      <td>화성시</td>\n    </tr>\n    <tr>\n      <th>27</th>\n      <td>45</td>\n      <td>423763</td>\n      <td>평택</td>\n      <td>5</td>\n      <td>9</td>\n      <td>452.310</td>\n      <td>경기도</td>\n      <td>평택시</td>\n    </tr>\n    <tr>\n      <th>24</th>\n      <td>42</td>\n      <td>408220</td>\n      <td>의정부</td>\n      <td>7</td>\n      <td>3</td>\n      <td>81.590</td>\n      <td>경기도</td>\n      <td>의정부시</td>\n    </tr>\n    <tr>\n      <th>26</th>\n      <td>44</td>\n      <td>385528</td>\n      <td>파주</td>\n      <td>3</td>\n      <td>2</td>\n      <td>672.560</td>\n      <td>경기도</td>\n      <td>파주시</td>\n    </tr>\n    <tr>\n      <th>13</th>\n      <td>31</td>\n      <td>381412</td>\n      <td>시흥</td>\n      <td>3</td>\n      <td>5</td>\n      <td>134.400</td>\n      <td>경기도</td>\n      <td>시흥시</td>\n    </tr>\n    <tr>\n      <th>3</th>\n      <td>21</td>\n      <td>327111</td>\n      <td>광명</td>\n      <td>3</td>\n      <td>3</td>\n      <td>38.500</td>\n      <td>경기도</td>\n      <td>광명시</td>\n    </tr>\n    <tr>\n      <th>7</th>\n      <td>25</td>\n      <td>326523</td>\n      <td>김포</td>\n      <td>2</td>\n      <td>3</td>\n      <td>276.640</td>\n      <td>경기도</td>\n      <td>김포시</td>\n    </tr>\n    <tr>\n      <th>4</th>\n      <td>22</td>\n      <td>290210</td>\n      <td>광주</td>\n      <td>8</td>\n      <td>7</td>\n      <td>431.840</td>\n      <td>경기도</td>\n      <td>광주시</td>\n    </tr>\n    <tr>\n      <th>6</th>\n      <td>24</td>\n      <td>273302</td>\n      <td>군포</td>\n      <td>5</td>\n      <td>8</td>\n      <td>36.350</td>\n      <td>경기도</td>\n      <td>군포시</td>\n    </tr>\n    <tr>\n      <th>21</th>\n      <td>39</td>\n      <td>200793</td>\n      <td>오산</td>\n      <td>3</td>\n      <td>8</td>\n      <td>42.740</td>\n      <td>경기도</td>\n      <td>오산시</td>\n    </tr>\n    <tr>\n      <th>17</th>\n      <td>35</td>\n      <td>191266</td>\n      <td>양주</td>\n      <td>8</td>\n      <td>2</td>\n      <td>310.310</td>\n      <td>경기도</td>\n      <td>양주시</td>\n    </tr>\n    <tr>\n      <th>25</th>\n      <td>43</td>\n      <td>190537</td>\n      <td>이천</td>\n      <td>8</td>\n      <td>8</td>\n      <td>461.020</td>\n      <td>경기도</td>\n      <td>이천시</td>\n    </tr>\n    <tr>\n      <th>5</th>\n      <td>23</td>\n      <td>175676</td>\n      <td>구리</td>\n      <td>9</td>\n      <td>4</td>\n      <td>33.300</td>\n      <td>경기도</td>\n      <td>구리시</td>\n    </tr>\n    <tr>\n      <th>15</th>\n      <td>33</td>\n      <td>173061</td>\n      <td>안성</td>\n      <td>4</td>\n      <td>8</td>\n      <td>554.200</td>\n      <td>경기도</td>\n      <td>안성시</td>\n    </tr>\n    <tr>\n      <th>29</th>\n      <td>47</td>\n      <td>150061</td>\n      <td>하남</td>\n      <td>9</td>\n      <td>5</td>\n      <td>93.100</td>\n      <td>경기도</td>\n      <td>하남시</td>\n    </tr>\n    <tr>\n      <th>23</th>\n      <td>41</td>\n      <td>149080</td>\n      <td>의왕</td>\n      <td>6</td>\n      <td>8</td>\n      <td>54.000</td>\n      <td>경기도</td>\n      <td>의왕시</td>\n    </tr>\n    <tr>\n      <th>28</th>\n      <td>46</td>\n      <td>140159</td>\n      <td>포천</td>\n      <td>8</td>\n      <td>1</td>\n      <td>826.380</td>\n      <td>경기도</td>\n      <td>포천시</td>\n    </tr>\n    <tr>\n      <th>19</th>\n      <td>37</td>\n      <td>100669</td>\n      <td>여주</td>\n      <td>9</td>\n      <td>7</td>\n      <td>608.640</td>\n      <td>경기도</td>\n      <td>여주시</td>\n    </tr>\n    <tr>\n      <th>18</th>\n      <td>36</td>\n      <td>95614</td>\n      <td>양평</td>\n      <td>9</td>\n      <td>6</td>\n      <td>877.080</td>\n      <td>경기도</td>\n      <td>양평군</td>\n    </tr>\n    <tr>\n      <th>9</th>\n      <td>27</td>\n      <td>90398</td>\n      <td>동두천</td>\n      <td>7</td>\n      <td>2</td>\n      <td>95.680</td>\n      <td>경기도</td>\n      <td>동두천시</td>\n    </tr>\n    <tr>\n      <th>2</th>\n      <td>20</td>\n      <td>63227</td>\n      <td>과천</td>\n      <td>7</td>\n      <td>7</td>\n      <td>35.813</td>\n      <td>경기도</td>\n      <td>과천시</td>\n    </tr>\n    <tr>\n      <th>0</th>\n      <td>18</td>\n      <td>53497</td>\n      <td>가평</td>\n      <td>9</td>\n      <td>3</td>\n      <td>843.040</td>\n      <td>경기도</td>\n      <td>가평군</td>\n    </tr>\n    <tr>\n      <th>20</th>\n      <td>38</td>\n      <td>41076</td>\n      <td>연천</td>\n      <td>7</td>\n      <td>1</td>\n      <td>695.230</td>\n      <td>경기도</td>\n      <td>연천군</td>\n    </tr>\n  </tbody>\n</table>\n</div>"
     },
     "execution_count": 27,
     "metadata": {},
     "output_type": "execute_result"
    }
   ],
   "source": [
    "sel = input(\"검색하고 싶은 시 또는 도를 입력: \")\n",
    "si_to_do(sel)"
   ],
   "metadata": {
    "collapsed": false,
    "pycharm": {
     "name": "#%%\n"
    }
   }
  },
  {
   "cell_type": "code",
   "execution_count": 22,
   "outputs": [
    {
     "name": "stdout",
     "output_type": "stream",
     "text": [
      "인구수 평균: 375792.28\n",
      "인구수 표준편차: 125231.24797500289\n"
     ]
    }
   ],
   "source": [
    "# 서울특별시에 속한 구의 인구수 평균 및 표준편차\n",
    "print(f\"인구수 평균: {data.loc[data['광역시도'] == '서울특별시', '인구수'].mean()}\")\n",
    "print(f\"인구수 표준편차: {data.loc[data['광역시도'] == '서울특별시', '인구수'].std()}\")"
   ],
   "metadata": {
    "collapsed": false,
    "pycharm": {
     "name": "#%%\n"
    }
   }
  },
  {
   "cell_type": "code",
   "execution_count": 36,
   "outputs": [],
   "source": [
    "# 입력 받은 시, 도에 속한 구의 인구수 평균 및 표준편차\n",
    "# '표준편차가 크다'는 것이 어떤 의미를 가지는지 생각해볼것\n",
    "def popularity(si):\n",
    "    print(f'광역시도: {si}')\n",
    "    print(f\"인구수 평균: {data.loc[data['광역시도'] == si, '인구수'].mean()}\")\n",
    "    print(f\"인구수 표준편차: {data.loc[data['광역시도'] == si, '인구수'].std()}\")"
   ],
   "metadata": {
    "collapsed": false,
    "pycharm": {
     "name": "#%%\n"
    }
   }
  },
  {
   "cell_type": "code",
   "execution_count": 37,
   "outputs": [
    {
     "name": "stdout",
     "output_type": "stream",
     "text": [
      "인구수 평균: 378845.48387096776\n",
      "인구수 표준편차: 304548.39514203876\n"
     ]
    }
   ],
   "source": [
    "sel = input(\"검색하고 싶은 시 또는 도를 입력: \")\n",
    "popularity(sel)"
   ],
   "metadata": {
    "collapsed": false,
    "pycharm": {
     "name": "#%%\n"
    }
   }
  },
  {
   "cell_type": "code",
   "execution_count": 3,
   "outputs": [
    {
     "data": {
      "text/plain": "   행정구역     인구수       면적\n0   포항시  488395  1127.00\n1   구미시  396685   616.10\n2   경산시  251220   411.58\n3   경주시  242618  1323.85\n4   안동시  157317  1519.00\n5   김천시  127941  1009.56\n6   칠곡군  112446   451.00\n7   영주시  101612   668.45\n8   상주시   93305  1254.82\n9   영천시   91214   919.76\n10  문경시   67919   912.00\n11  의성군   48776  1175.89\n12  울진군   46748   989.06\n13  예천군   40779   660.70\n14  청도군   38571   696.52\n15  성주군   38277   616.28\n16  영덕군   34864   741.05\n17  고령군   31189   383.70\n18  봉화군   30287  1201.00\n19  청송군   23804   842.45\n20  군위군   20596   614.15\n21  영양군   16009   815.11\n22  울릉군    8392    72.82",
      "text/html": "<div>\n<style scoped>\n    .dataframe tbody tr th:only-of-type {\n        vertical-align: middle;\n    }\n\n    .dataframe tbody tr th {\n        vertical-align: top;\n    }\n\n    .dataframe thead th {\n        text-align: right;\n    }\n</style>\n<table border=\"1\" class=\"dataframe\">\n  <thead>\n    <tr style=\"text-align: right;\">\n      <th></th>\n      <th>행정구역</th>\n      <th>인구수</th>\n      <th>면적</th>\n    </tr>\n  </thead>\n  <tbody>\n    <tr>\n      <th>0</th>\n      <td>포항시</td>\n      <td>488395</td>\n      <td>1127.00</td>\n    </tr>\n    <tr>\n      <th>1</th>\n      <td>구미시</td>\n      <td>396685</td>\n      <td>616.10</td>\n    </tr>\n    <tr>\n      <th>2</th>\n      <td>경산시</td>\n      <td>251220</td>\n      <td>411.58</td>\n    </tr>\n    <tr>\n      <th>3</th>\n      <td>경주시</td>\n      <td>242618</td>\n      <td>1323.85</td>\n    </tr>\n    <tr>\n      <th>4</th>\n      <td>안동시</td>\n      <td>157317</td>\n      <td>1519.00</td>\n    </tr>\n    <tr>\n      <th>5</th>\n      <td>김천시</td>\n      <td>127941</td>\n      <td>1009.56</td>\n    </tr>\n    <tr>\n      <th>6</th>\n      <td>칠곡군</td>\n      <td>112446</td>\n      <td>451.00</td>\n    </tr>\n    <tr>\n      <th>7</th>\n      <td>영주시</td>\n      <td>101612</td>\n      <td>668.45</td>\n    </tr>\n    <tr>\n      <th>8</th>\n      <td>상주시</td>\n      <td>93305</td>\n      <td>1254.82</td>\n    </tr>\n    <tr>\n      <th>9</th>\n      <td>영천시</td>\n      <td>91214</td>\n      <td>919.76</td>\n    </tr>\n    <tr>\n      <th>10</th>\n      <td>문경시</td>\n      <td>67919</td>\n      <td>912.00</td>\n    </tr>\n    <tr>\n      <th>11</th>\n      <td>의성군</td>\n      <td>48776</td>\n      <td>1175.89</td>\n    </tr>\n    <tr>\n      <th>12</th>\n      <td>울진군</td>\n      <td>46748</td>\n      <td>989.06</td>\n    </tr>\n    <tr>\n      <th>13</th>\n      <td>예천군</td>\n      <td>40779</td>\n      <td>660.70</td>\n    </tr>\n    <tr>\n      <th>14</th>\n      <td>청도군</td>\n      <td>38571</td>\n      <td>696.52</td>\n    </tr>\n    <tr>\n      <th>15</th>\n      <td>성주군</td>\n      <td>38277</td>\n      <td>616.28</td>\n    </tr>\n    <tr>\n      <th>16</th>\n      <td>영덕군</td>\n      <td>34864</td>\n      <td>741.05</td>\n    </tr>\n    <tr>\n      <th>17</th>\n      <td>고령군</td>\n      <td>31189</td>\n      <td>383.70</td>\n    </tr>\n    <tr>\n      <th>18</th>\n      <td>봉화군</td>\n      <td>30287</td>\n      <td>1201.00</td>\n    </tr>\n    <tr>\n      <th>19</th>\n      <td>청송군</td>\n      <td>23804</td>\n      <td>842.45</td>\n    </tr>\n    <tr>\n      <th>20</th>\n      <td>군위군</td>\n      <td>20596</td>\n      <td>614.15</td>\n    </tr>\n    <tr>\n      <th>21</th>\n      <td>영양군</td>\n      <td>16009</td>\n      <td>815.11</td>\n    </tr>\n    <tr>\n      <th>22</th>\n      <td>울릉군</td>\n      <td>8392</td>\n      <td>72.82</td>\n    </tr>\n  </tbody>\n</table>\n</div>"
     },
     "execution_count": 3,
     "metadata": {},
     "output_type": "execute_result"
    }
   ],
   "source": [
    "# 경북에 속한 행정구역, 인구수, 면적을 출력하고 인구가 많은 순으로 정렬 후, index를 순서대로 출력\n",
    "data.loc[data['광역시도'] == '경상북도', ['행정구역', '인구수', '면적']].sort_values(by='인구수', ascending=False).reset_index(drop=True)\n",
    "\n",
    "# sort_values에서 여러 컬럼을 받아서 정렬하고 싶을 때 by=['col1', 'col2', ...] 형태로 작성하면 된다"
   ],
   "metadata": {
    "collapsed": false,
    "pycharm": {
     "name": "#%%\n"
    }
   }
  },
  {
   "cell_type": "code",
   "execution_count": 5,
   "outputs": [
    {
     "data": {
      "text/plain": "       인구수 shortName  x\n20   63227        과천  7\n21  327111        광명  3\n22  290210        광주  8\n23  175676        구리  9\n24  273302        군포  5",
      "text/html": "<div>\n<style scoped>\n    .dataframe tbody tr th:only-of-type {\n        vertical-align: middle;\n    }\n\n    .dataframe tbody tr th {\n        vertical-align: top;\n    }\n\n    .dataframe thead th {\n        text-align: right;\n    }\n</style>\n<table border=\"1\" class=\"dataframe\">\n  <thead>\n    <tr style=\"text-align: right;\">\n      <th></th>\n      <th>인구수</th>\n      <th>shortName</th>\n      <th>x</th>\n    </tr>\n  </thead>\n  <tbody>\n    <tr>\n      <th>20</th>\n      <td>63227</td>\n      <td>과천</td>\n      <td>7</td>\n    </tr>\n    <tr>\n      <th>21</th>\n      <td>327111</td>\n      <td>광명</td>\n      <td>3</td>\n    </tr>\n    <tr>\n      <th>22</th>\n      <td>290210</td>\n      <td>광주</td>\n      <td>8</td>\n    </tr>\n    <tr>\n      <th>23</th>\n      <td>175676</td>\n      <td>구리</td>\n      <td>9</td>\n    </tr>\n    <tr>\n      <th>24</th>\n      <td>273302</td>\n      <td>군포</td>\n      <td>5</td>\n    </tr>\n  </tbody>\n</table>\n</div>"
     },
     "execution_count": 5,
     "metadata": {},
     "output_type": "execute_result"
    }
   ],
   "source": [
    "# iloc 사용\n",
    "# ex) 인덱스 20~25의 행, '인구수' ~ '광역시도'의 열\n",
    "# data.loc[20:25, '인구수':'광역시도'] # 마지막 값이 포함됨, 컬럼명을 씀\n",
    "data.iloc[20:25, 1:4]   # 마지막 값이 포함되지 않음, 컬럼의 인덱스 값을 씀"
   ],
   "metadata": {
    "collapsed": false,
    "pycharm": {
     "name": "#%%\n"
    }
   }
  },
  {
   "cell_type": "code",
   "execution_count": 17,
   "outputs": [],
   "source": [
    "# 인구수가 전국평균 인구수 보다 작은 지역을 선택하고, 결과를 엑셀 파일로 저장\n",
    "pop_mean_val = data['인구수'].mean()\n",
    "# round(pop_mean_val) # Same function as pop_mean_val:.2f\n",
    "pop_mean_lt_df = data.loc[data['인구수'] < pop_mean_val, ['광역시도', '행정구역', '면적', '인구수' ]].sort_values(by='인구수').reset_index(drop=True)\n",
    "pop_mean_lt_df.to_excel('data/평균인구수미달지역.xlsx')"
   ],
   "metadata": {
    "collapsed": false,
    "pycharm": {
     "name": "#%%\n"
    }
   }
  },
  {
   "cell_type": "code",
   "execution_count": 20,
   "outputs": [
    {
     "data": {
      "text/plain": "   seq     인구수 shortName   x  y       면적 광역시도 행정구역\n0    0  202520        강릉  11  4  1040.07  강원도  강릉시\n1    1   25589    고성(강원)   9  0   664.19  강원도  고성군\n2    2   86747        동해  11  5   180.01  강원도  동해시\n3    3   63986        삼척  11  8  1185.80  강원도  삼척시\n4    4   76733        속초   9  1   105.25  강원도  속초시",
      "text/html": "<div>\n<style scoped>\n    .dataframe tbody tr th:only-of-type {\n        vertical-align: middle;\n    }\n\n    .dataframe tbody tr th {\n        vertical-align: top;\n    }\n\n    .dataframe thead th {\n        text-align: right;\n    }\n</style>\n<table border=\"1\" class=\"dataframe\">\n  <thead>\n    <tr style=\"text-align: right;\">\n      <th></th>\n      <th>seq</th>\n      <th>인구수</th>\n      <th>shortName</th>\n      <th>x</th>\n      <th>y</th>\n      <th>면적</th>\n      <th>광역시도</th>\n      <th>행정구역</th>\n    </tr>\n  </thead>\n  <tbody>\n    <tr>\n      <th>0</th>\n      <td>0</td>\n      <td>202520</td>\n      <td>강릉</td>\n      <td>11</td>\n      <td>4</td>\n      <td>1040.07</td>\n      <td>강원도</td>\n      <td>강릉시</td>\n    </tr>\n    <tr>\n      <th>1</th>\n      <td>1</td>\n      <td>25589</td>\n      <td>고성(강원)</td>\n      <td>9</td>\n      <td>0</td>\n      <td>664.19</td>\n      <td>강원도</td>\n      <td>고성군</td>\n    </tr>\n    <tr>\n      <th>2</th>\n      <td>2</td>\n      <td>86747</td>\n      <td>동해</td>\n      <td>11</td>\n      <td>5</td>\n      <td>180.01</td>\n      <td>강원도</td>\n      <td>동해시</td>\n    </tr>\n    <tr>\n      <th>3</th>\n      <td>3</td>\n      <td>63986</td>\n      <td>삼척</td>\n      <td>11</td>\n      <td>8</td>\n      <td>1185.80</td>\n      <td>강원도</td>\n      <td>삼척시</td>\n    </tr>\n    <tr>\n      <th>4</th>\n      <td>4</td>\n      <td>76733</td>\n      <td>속초</td>\n      <td>9</td>\n      <td>1</td>\n      <td>105.25</td>\n      <td>강원도</td>\n      <td>속초시</td>\n    </tr>\n  </tbody>\n</table>\n</div>"
     },
     "execution_count": 20,
     "metadata": {},
     "output_type": "execute_result"
    }
   ],
   "source": [
    "#컬럼명 변경\n",
    "data = data.rename(columns={'Unnamed: 0':'seq'})\n",
    "data.head()"
   ],
   "metadata": {
    "collapsed": false,
    "pycharm": {
     "name": "#%%\n"
    }
   }
  },
  {
   "cell_type": "code",
   "execution_count": 21,
   "outputs": [
    {
     "data": {
      "text/plain": "        인구수 shortName   x  y       면적 광역시도 행정구역\nseq                                            \n0    202520        강릉  11  4  1040.07  강원도  강릉시\n1     25589    고성(강원)   9  0   664.19  강원도  고성군\n2     86747        동해  11  5   180.01  강원도  동해시\n3     63986        삼척  11  8  1185.80  강원도  삼척시\n4     76733        속초   9  1   105.25  강원도  속초시",
      "text/html": "<div>\n<style scoped>\n    .dataframe tbody tr th:only-of-type {\n        vertical-align: middle;\n    }\n\n    .dataframe tbody tr th {\n        vertical-align: top;\n    }\n\n    .dataframe thead th {\n        text-align: right;\n    }\n</style>\n<table border=\"1\" class=\"dataframe\">\n  <thead>\n    <tr style=\"text-align: right;\">\n      <th></th>\n      <th>인구수</th>\n      <th>shortName</th>\n      <th>x</th>\n      <th>y</th>\n      <th>면적</th>\n      <th>광역시도</th>\n      <th>행정구역</th>\n    </tr>\n    <tr>\n      <th>seq</th>\n      <th></th>\n      <th></th>\n      <th></th>\n      <th></th>\n      <th></th>\n      <th></th>\n      <th></th>\n    </tr>\n  </thead>\n  <tbody>\n    <tr>\n      <th>0</th>\n      <td>202520</td>\n      <td>강릉</td>\n      <td>11</td>\n      <td>4</td>\n      <td>1040.07</td>\n      <td>강원도</td>\n      <td>강릉시</td>\n    </tr>\n    <tr>\n      <th>1</th>\n      <td>25589</td>\n      <td>고성(강원)</td>\n      <td>9</td>\n      <td>0</td>\n      <td>664.19</td>\n      <td>강원도</td>\n      <td>고성군</td>\n    </tr>\n    <tr>\n      <th>2</th>\n      <td>86747</td>\n      <td>동해</td>\n      <td>11</td>\n      <td>5</td>\n      <td>180.01</td>\n      <td>강원도</td>\n      <td>동해시</td>\n    </tr>\n    <tr>\n      <th>3</th>\n      <td>63986</td>\n      <td>삼척</td>\n      <td>11</td>\n      <td>8</td>\n      <td>1185.80</td>\n      <td>강원도</td>\n      <td>삼척시</td>\n    </tr>\n    <tr>\n      <th>4</th>\n      <td>76733</td>\n      <td>속초</td>\n      <td>9</td>\n      <td>1</td>\n      <td>105.25</td>\n      <td>강원도</td>\n      <td>속초시</td>\n    </tr>\n  </tbody>\n</table>\n</div>"
     },
     "execution_count": 21,
     "metadata": {},
     "output_type": "execute_result"
    }
   ],
   "source": [
    "data = data.set_index('seq')\n",
    "data.head()"
   ],
   "metadata": {
    "collapsed": false,
    "pycharm": {
     "name": "#%%\n"
    }
   }
  },
  {
   "cell_type": "code",
   "execution_count": 23,
   "outputs": [
    {
     "data": {
      "text/plain": "     행정구역      인구수\nseq               \n30    수원시  1125461\n19    고양시   955384\n40    용인시   915005\n29    성남시   911628\n28    부천시   805473\n32    안산시   668089\n26   남양주시   610300\n34    안양시   566558\n48    화성시   555129\n45    평택시   423763\n42   의정부시   408220\n44    파주시   385528\n31    시흥시   381412\n21    광명시   327111\n25    김포시   326523\n22    광주시   290210\n24    군포시   273302\n39    오산시   200793\n35    양주시   191266\n43    이천시   190537\n23    구리시   175676\n33    안성시   173061\n47    하남시   150061\n41    의왕시   149080\n46    포천시   140159\n37    여주시   100669\n36    양평군    95614\n27   동두천시    90398\n20    과천시    63227\n18    가평군    53497\n38    연천군    41076",
      "text/html": "<div>\n<style scoped>\n    .dataframe tbody tr th:only-of-type {\n        vertical-align: middle;\n    }\n\n    .dataframe tbody tr th {\n        vertical-align: top;\n    }\n\n    .dataframe thead th {\n        text-align: right;\n    }\n</style>\n<table border=\"1\" class=\"dataframe\">\n  <thead>\n    <tr style=\"text-align: right;\">\n      <th></th>\n      <th>행정구역</th>\n      <th>인구수</th>\n    </tr>\n    <tr>\n      <th>seq</th>\n      <th></th>\n      <th></th>\n    </tr>\n  </thead>\n  <tbody>\n    <tr>\n      <th>30</th>\n      <td>수원시</td>\n      <td>1125461</td>\n    </tr>\n    <tr>\n      <th>19</th>\n      <td>고양시</td>\n      <td>955384</td>\n    </tr>\n    <tr>\n      <th>40</th>\n      <td>용인시</td>\n      <td>915005</td>\n    </tr>\n    <tr>\n      <th>29</th>\n      <td>성남시</td>\n      <td>911628</td>\n    </tr>\n    <tr>\n      <th>28</th>\n      <td>부천시</td>\n      <td>805473</td>\n    </tr>\n    <tr>\n      <th>32</th>\n      <td>안산시</td>\n      <td>668089</td>\n    </tr>\n    <tr>\n      <th>26</th>\n      <td>남양주시</td>\n      <td>610300</td>\n    </tr>\n    <tr>\n      <th>34</th>\n      <td>안양시</td>\n      <td>566558</td>\n    </tr>\n    <tr>\n      <th>48</th>\n      <td>화성시</td>\n      <td>555129</td>\n    </tr>\n    <tr>\n      <th>45</th>\n      <td>평택시</td>\n      <td>423763</td>\n    </tr>\n    <tr>\n      <th>42</th>\n      <td>의정부시</td>\n      <td>408220</td>\n    </tr>\n    <tr>\n      <th>44</th>\n      <td>파주시</td>\n      <td>385528</td>\n    </tr>\n    <tr>\n      <th>31</th>\n      <td>시흥시</td>\n      <td>381412</td>\n    </tr>\n    <tr>\n      <th>21</th>\n      <td>광명시</td>\n      <td>327111</td>\n    </tr>\n    <tr>\n      <th>25</th>\n      <td>김포시</td>\n      <td>326523</td>\n    </tr>\n    <tr>\n      <th>22</th>\n      <td>광주시</td>\n      <td>290210</td>\n    </tr>\n    <tr>\n      <th>24</th>\n      <td>군포시</td>\n      <td>273302</td>\n    </tr>\n    <tr>\n      <th>39</th>\n      <td>오산시</td>\n      <td>200793</td>\n    </tr>\n    <tr>\n      <th>35</th>\n      <td>양주시</td>\n      <td>191266</td>\n    </tr>\n    <tr>\n      <th>43</th>\n      <td>이천시</td>\n      <td>190537</td>\n    </tr>\n    <tr>\n      <th>23</th>\n      <td>구리시</td>\n      <td>175676</td>\n    </tr>\n    <tr>\n      <th>33</th>\n      <td>안성시</td>\n      <td>173061</td>\n    </tr>\n    <tr>\n      <th>47</th>\n      <td>하남시</td>\n      <td>150061</td>\n    </tr>\n    <tr>\n      <th>41</th>\n      <td>의왕시</td>\n      <td>149080</td>\n    </tr>\n    <tr>\n      <th>46</th>\n      <td>포천시</td>\n      <td>140159</td>\n    </tr>\n    <tr>\n      <th>37</th>\n      <td>여주시</td>\n      <td>100669</td>\n    </tr>\n    <tr>\n      <th>36</th>\n      <td>양평군</td>\n      <td>95614</td>\n    </tr>\n    <tr>\n      <th>27</th>\n      <td>동두천시</td>\n      <td>90398</td>\n    </tr>\n    <tr>\n      <th>20</th>\n      <td>과천시</td>\n      <td>63227</td>\n    </tr>\n    <tr>\n      <th>18</th>\n      <td>가평군</td>\n      <td>53497</td>\n    </tr>\n    <tr>\n      <th>38</th>\n      <td>연천군</td>\n      <td>41076</td>\n    </tr>\n  </tbody>\n</table>\n</div>"
     },
     "execution_count": 23,
     "metadata": {},
     "output_type": "execute_result"
    }
   ],
   "source": [
    "# 광역시도별 인구수가 가장 많은 행정구역 선택\n",
    "\n",
    "# 1. Sample로 경기도에서 가장 인구수가 많은 행정구역을 확인\n",
    "data.loc[data['광역시도'] == '경기도', ['행정구역', '인구수']].sort_values(by='인구수', ascending=False)"
   ],
   "metadata": {
    "collapsed": false,
    "pycharm": {
     "name": "#%%\n"
    }
   }
  },
  {
   "cell_type": "code",
   "execution_count": 24,
   "outputs": [
    {
     "data": {
      "text/plain": "1125461"
     },
     "execution_count": 24,
     "metadata": {},
     "output_type": "execute_result"
    }
   ],
   "source": [
    "# 2. 확인한 값을 토대로 인구수 최댓값을 찾는 변수를 선언  ->  수원시,1125461\n",
    "pop_max_val = data.loc[data['광역시도'] == '경기도', '인구수'].max()\n",
    "pop_max_val"
   ],
   "metadata": {
    "collapsed": false,
    "pycharm": {
     "name": "#%%\n"
    }
   }
  },
  {
   "cell_type": "code",
   "execution_count": 26,
   "outputs": [
    {
     "data": {
      "text/plain": "         인구수 shortName  x  y      면적 광역시도 행정구역\nseq                                           \n30   1125461        수원  6  9  121.09  경기도  수원시",
      "text/html": "<div>\n<style scoped>\n    .dataframe tbody tr th:only-of-type {\n        vertical-align: middle;\n    }\n\n    .dataframe tbody tr th {\n        vertical-align: top;\n    }\n\n    .dataframe thead th {\n        text-align: right;\n    }\n</style>\n<table border=\"1\" class=\"dataframe\">\n  <thead>\n    <tr style=\"text-align: right;\">\n      <th></th>\n      <th>인구수</th>\n      <th>shortName</th>\n      <th>x</th>\n      <th>y</th>\n      <th>면적</th>\n      <th>광역시도</th>\n      <th>행정구역</th>\n    </tr>\n    <tr>\n      <th>seq</th>\n      <th></th>\n      <th></th>\n      <th></th>\n      <th></th>\n      <th></th>\n      <th></th>\n      <th></th>\n    </tr>\n  </thead>\n  <tbody>\n    <tr>\n      <th>30</th>\n      <td>1125461</td>\n      <td>수원</td>\n      <td>6</td>\n      <td>9</td>\n      <td>121.09</td>\n      <td>경기도</td>\n      <td>수원시</td>\n    </tr>\n  </tbody>\n</table>\n</div>"
     },
     "execution_count": 26,
     "metadata": {},
     "output_type": "execute_result"
    }
   ],
   "source": [
    "# 3. 두 가지 조건(광역시도 매칭, 최댓값 매칭)이 맞아야 의도한대로 결과가 도출되므로 &를 사용하여 조건문을 완성\n",
    "# data.loc[(...) & (...)]\n",
    "data.loc[(data['광역시도'] == '경기도') & (data['인구수'] == pop_max_val)]"
   ],
   "metadata": {
    "collapsed": false,
    "pycharm": {
     "name": "#%%\n"
    }
   }
  },
  {
   "cell_type": "code",
   "execution_count": 52,
   "outputs": [],
   "source": [
    "# 4. 함수화\n",
    "def get_pop_max(sido):\n",
    "    max_val = data.loc[data['광역시도'] == sido, '인구수'].max()\n",
    "    return data.loc[(data['광역시도'] == sido) & (data['인구수'] == max_val), ['광역시도','행정구역','인구수']]"
   ],
   "metadata": {
    "collapsed": false,
    "pycharm": {
     "name": "#%%\n"
    }
   }
  },
  {
   "cell_type": "code",
   "execution_count": 53,
   "outputs": [
    {
     "data": {
      "text/plain": "     광역시도 행정구역     인구수\nseq                   \n227  충청북도  청주시  790216",
      "text/html": "<div>\n<style scoped>\n    .dataframe tbody tr th:only-of-type {\n        vertical-align: middle;\n    }\n\n    .dataframe tbody tr th {\n        vertical-align: top;\n    }\n\n    .dataframe thead th {\n        text-align: right;\n    }\n</style>\n<table border=\"1\" class=\"dataframe\">\n  <thead>\n    <tr style=\"text-align: right;\">\n      <th></th>\n      <th>광역시도</th>\n      <th>행정구역</th>\n      <th>인구수</th>\n    </tr>\n    <tr>\n      <th>seq</th>\n      <th></th>\n      <th></th>\n      <th></th>\n    </tr>\n  </thead>\n  <tbody>\n    <tr>\n      <th>227</th>\n      <td>충청북도</td>\n      <td>청주시</td>\n      <td>790216</td>\n    </tr>\n  </tbody>\n</table>\n</div>"
     },
     "execution_count": 53,
     "metadata": {},
     "output_type": "execute_result"
    }
   ],
   "source": [
    "# txt = input('검색하고 싶은 광역시도를 입력: ')\n",
    "get_pop_max('충청북도')"
   ],
   "metadata": {
    "collapsed": false,
    "pycharm": {
     "name": "#%%\n"
    }
   }
  },
  {
   "cell_type": "code",
   "execution_count": 56,
   "outputs": [
    {
     "name": "stdout",
     "output_type": "stream",
     "text": [
      "<class 'pandas.core.frame.DataFrame'>\n",
      "    광역시도 행정구역     인구수\n",
      "seq                  \n",
      "8    강원도  원주시  313851\n",
      "<class 'pandas.core.frame.DataFrame'>\n",
      "    광역시도 행정구역      인구수\n",
      "seq                   \n",
      "30   경기도  수원시  1125461\n",
      "<class 'pandas.core.frame.DataFrame'>\n",
      "     광역시도 행정구역      인구수\n",
      "seq                    \n",
      "61   경상남도  창원시  1010040\n",
      "<class 'pandas.core.frame.DataFrame'>\n",
      "     광역시도 행정구역     인구수\n",
      "seq                   \n",
      "89   경상북도  포항시  488395\n",
      "<class 'pandas.core.frame.DataFrame'>\n",
      "      광역시도 행정구역     인구수\n",
      "seq                    \n",
      "93   광주광역시   북구  439683\n",
      "<class 'pandas.core.frame.DataFrame'>\n",
      "      광역시도 행정구역     인구수\n",
      "seq                    \n",
      "96   대구광역시  달서구  584517\n",
      "<class 'pandas.core.frame.DataFrame'>\n",
      "      광역시도 행정구역     인구수\n",
      "seq                    \n",
      "105  대전광역시   서구  475094\n",
      "<class 'pandas.core.frame.DataFrame'>\n",
      "      광역시도  행정구역     인구수\n",
      "seq                     \n",
      "123  부산광역시  해운대구  397134\n",
      "<class 'pandas.core.frame.DataFrame'>\n",
      "      광역시도 행정구역     인구수\n",
      "seq                    \n",
      "141  서울특별시  송파구  615487\n",
      "<class 'pandas.core.frame.DataFrame'>\n",
      "        광역시도 행정구역     인구수\n",
      "seq                      \n",
      "149  세종특별자치시  세종시  191233\n",
      "<class 'pandas.core.frame.DataFrame'>\n",
      "      광역시도 행정구역     인구수\n",
      "seq                    \n",
      "150  울산광역시   남구  327270\n",
      "<class 'pandas.core.frame.DataFrame'>\n",
      "      광역시도 행정구역     인구수\n",
      "seq                    \n",
      "160  인천광역시  부평구  527153\n",
      "<class 'pandas.core.frame.DataFrame'>\n",
      "     광역시도 행정구역     인구수\n",
      "seq                   \n",
      "177  전라남도  여수시  263166\n",
      "<class 'pandas.core.frame.DataFrame'>\n",
      "     광역시도 행정구역     인구수\n",
      "seq                   \n",
      "198  전라북도  전주시  630708\n",
      "<class 'pandas.core.frame.DataFrame'>\n",
      "        광역시도 행정구역     인구수\n",
      "seq                      \n",
      "202  제주특별자치도  제주시  430504\n",
      "<class 'pandas.core.frame.DataFrame'>\n",
      "     광역시도 행정구역     인구수\n",
      "seq                   \n",
      "214  충청남도  천안시  584912\n",
      "<class 'pandas.core.frame.DataFrame'>\n",
      "     광역시도 행정구역     인구수\n",
      "seq                   \n",
      "227  충청북도  청주시  790216\n"
     ]
    }
   ],
   "source": [
    "# 5. 광역시도별로 값을 출력해야하므로 for 문을 가동\n",
    "for sido_name in data['광역시도'].unique():\n",
    "    # print(type(get_pop_max(sido_name)))\n",
    "    print(get_pop_max(sido_name))"
   ],
   "metadata": {
    "collapsed": false,
    "pycharm": {
     "name": "#%%\n"
    }
   }
  },
  {
   "cell_type": "code",
   "execution_count": 62,
   "outputs": [
    {
     "data": {
      "text/plain": "       광역시도  행정구역      인구수\n0       경기도   수원시  1125461\n1      경상남도   창원시  1010040\n2      충청북도   청주시   790216\n3      전라북도   전주시   630708\n4     서울특별시   송파구   615487\n5      충청남도   천안시   584912\n6     대구광역시   달서구   584517\n7     인천광역시   부평구   527153\n8      경상북도   포항시   488395\n9     대전광역시    서구   475094\n10    광주광역시    북구   439683\n11  제주특별자치도   제주시   430504\n12    부산광역시  해운대구   397134\n13    울산광역시    남구   327270\n14      강원도   원주시   313851\n15     전라남도   여수시   263166\n16  세종특별자치시   세종시   191233",
      "text/html": "<div>\n<style scoped>\n    .dataframe tbody tr th:only-of-type {\n        vertical-align: middle;\n    }\n\n    .dataframe tbody tr th {\n        vertical-align: top;\n    }\n\n    .dataframe thead th {\n        text-align: right;\n    }\n</style>\n<table border=\"1\" class=\"dataframe\">\n  <thead>\n    <tr style=\"text-align: right;\">\n      <th></th>\n      <th>광역시도</th>\n      <th>행정구역</th>\n      <th>인구수</th>\n    </tr>\n  </thead>\n  <tbody>\n    <tr>\n      <th>0</th>\n      <td>경기도</td>\n      <td>수원시</td>\n      <td>1125461</td>\n    </tr>\n    <tr>\n      <th>1</th>\n      <td>경상남도</td>\n      <td>창원시</td>\n      <td>1010040</td>\n    </tr>\n    <tr>\n      <th>2</th>\n      <td>충청북도</td>\n      <td>청주시</td>\n      <td>790216</td>\n    </tr>\n    <tr>\n      <th>3</th>\n      <td>전라북도</td>\n      <td>전주시</td>\n      <td>630708</td>\n    </tr>\n    <tr>\n      <th>4</th>\n      <td>서울특별시</td>\n      <td>송파구</td>\n      <td>615487</td>\n    </tr>\n    <tr>\n      <th>5</th>\n      <td>충청남도</td>\n      <td>천안시</td>\n      <td>584912</td>\n    </tr>\n    <tr>\n      <th>6</th>\n      <td>대구광역시</td>\n      <td>달서구</td>\n      <td>584517</td>\n    </tr>\n    <tr>\n      <th>7</th>\n      <td>인천광역시</td>\n      <td>부평구</td>\n      <td>527153</td>\n    </tr>\n    <tr>\n      <th>8</th>\n      <td>경상북도</td>\n      <td>포항시</td>\n      <td>488395</td>\n    </tr>\n    <tr>\n      <th>9</th>\n      <td>대전광역시</td>\n      <td>서구</td>\n      <td>475094</td>\n    </tr>\n    <tr>\n      <th>10</th>\n      <td>광주광역시</td>\n      <td>북구</td>\n      <td>439683</td>\n    </tr>\n    <tr>\n      <th>11</th>\n      <td>제주특별자치도</td>\n      <td>제주시</td>\n      <td>430504</td>\n    </tr>\n    <tr>\n      <th>12</th>\n      <td>부산광역시</td>\n      <td>해운대구</td>\n      <td>397134</td>\n    </tr>\n    <tr>\n      <th>13</th>\n      <td>울산광역시</td>\n      <td>남구</td>\n      <td>327270</td>\n    </tr>\n    <tr>\n      <th>14</th>\n      <td>강원도</td>\n      <td>원주시</td>\n      <td>313851</td>\n    </tr>\n    <tr>\n      <th>15</th>\n      <td>전라남도</td>\n      <td>여수시</td>\n      <td>263166</td>\n    </tr>\n    <tr>\n      <th>16</th>\n      <td>세종특별자치시</td>\n      <td>세종시</td>\n      <td>191233</td>\n    </tr>\n  </tbody>\n</table>\n</div>"
     },
     "execution_count": 62,
     "metadata": {},
     "output_type": "execute_result"
    }
   ],
   "source": [
    "pop_max_df = pd.DataFrame(columns=['광역시도', '행정구역', '인구수'])\n",
    "for sido_name in data['광역시도'].unique():\n",
    "    pop_max_df = pop_max_df.append(get_pop_max(sido_name))\n",
    "\n",
    "pop_max_df = pop_max_df.sort_values(by='인구수', ascending=False).reset_index(drop=True)\n",
    "pop_max_df"
   ],
   "metadata": {
    "collapsed": false,
    "pycharm": {
     "name": "#%%\n"
    }
   }
  },
  {
   "cell_type": "code",
   "execution_count": 64,
   "outputs": [
    {
     "name": "stdout",
     "output_type": "stream",
     "text": [
      "17\n"
     ]
    },
    {
     "data": {
      "text/plain": "RangeIndex(start=0, stop=17, step=1)"
     },
     "execution_count": 64,
     "metadata": {},
     "output_type": "execute_result"
    }
   ],
   "source": [
    "print(len(pop_max_df))\n",
    "pop_max_df.index"
   ],
   "metadata": {
    "collapsed": false,
    "pycharm": {
     "name": "#%%\n"
    }
   }
  },
  {
   "cell_type": "code",
   "execution_count": 65,
   "outputs": [
    {
     "name": "stdout",
     "output_type": "stream",
     "text": [
      "[ 1  2  3  4  5  6  7  8  9 10]\n"
     ]
    }
   ],
   "source": [
    "import numpy as np\n",
    "\n",
    "print(np.arange(1, 10+1))\n",
    "pop_max_df.index = np.arange(1, len(pop_max_df)+1)"
   ],
   "metadata": {
    "collapsed": false,
    "pycharm": {
     "name": "#%%\n"
    }
   }
  },
  {
   "cell_type": "code",
   "execution_count": 66,
   "outputs": [
    {
     "name": "stdout",
     "output_type": "stream",
     "text": [
      "Int64Index([1, 2, 3, 4, 5, 6, 7, 8, 9, 10, 11, 12, 13, 14, 15, 16, 17], dtype='int64')\n"
     ]
    },
    {
     "data": {
      "text/plain": "       광역시도  행정구역      인구수\n1       경기도   수원시  1125461\n2      경상남도   창원시  1010040\n3      충청북도   청주시   790216\n4      전라북도   전주시   630708\n5     서울특별시   송파구   615487\n6      충청남도   천안시   584912\n7     대구광역시   달서구   584517\n8     인천광역시   부평구   527153\n9      경상북도   포항시   488395\n10    대전광역시    서구   475094\n11    광주광역시    북구   439683\n12  제주특별자치도   제주시   430504\n13    부산광역시  해운대구   397134\n14    울산광역시    남구   327270\n15      강원도   원주시   313851\n16     전라남도   여수시   263166\n17  세종특별자치시   세종시   191233",
      "text/html": "<div>\n<style scoped>\n    .dataframe tbody tr th:only-of-type {\n        vertical-align: middle;\n    }\n\n    .dataframe tbody tr th {\n        vertical-align: top;\n    }\n\n    .dataframe thead th {\n        text-align: right;\n    }\n</style>\n<table border=\"1\" class=\"dataframe\">\n  <thead>\n    <tr style=\"text-align: right;\">\n      <th></th>\n      <th>광역시도</th>\n      <th>행정구역</th>\n      <th>인구수</th>\n    </tr>\n  </thead>\n  <tbody>\n    <tr>\n      <th>1</th>\n      <td>경기도</td>\n      <td>수원시</td>\n      <td>1125461</td>\n    </tr>\n    <tr>\n      <th>2</th>\n      <td>경상남도</td>\n      <td>창원시</td>\n      <td>1010040</td>\n    </tr>\n    <tr>\n      <th>3</th>\n      <td>충청북도</td>\n      <td>청주시</td>\n      <td>790216</td>\n    </tr>\n    <tr>\n      <th>4</th>\n      <td>전라북도</td>\n      <td>전주시</td>\n      <td>630708</td>\n    </tr>\n    <tr>\n      <th>5</th>\n      <td>서울특별시</td>\n      <td>송파구</td>\n      <td>615487</td>\n    </tr>\n    <tr>\n      <th>6</th>\n      <td>충청남도</td>\n      <td>천안시</td>\n      <td>584912</td>\n    </tr>\n    <tr>\n      <th>7</th>\n      <td>대구광역시</td>\n      <td>달서구</td>\n      <td>584517</td>\n    </tr>\n    <tr>\n      <th>8</th>\n      <td>인천광역시</td>\n      <td>부평구</td>\n      <td>527153</td>\n    </tr>\n    <tr>\n      <th>9</th>\n      <td>경상북도</td>\n      <td>포항시</td>\n      <td>488395</td>\n    </tr>\n    <tr>\n      <th>10</th>\n      <td>대전광역시</td>\n      <td>서구</td>\n      <td>475094</td>\n    </tr>\n    <tr>\n      <th>11</th>\n      <td>광주광역시</td>\n      <td>북구</td>\n      <td>439683</td>\n    </tr>\n    <tr>\n      <th>12</th>\n      <td>제주특별자치도</td>\n      <td>제주시</td>\n      <td>430504</td>\n    </tr>\n    <tr>\n      <th>13</th>\n      <td>부산광역시</td>\n      <td>해운대구</td>\n      <td>397134</td>\n    </tr>\n    <tr>\n      <th>14</th>\n      <td>울산광역시</td>\n      <td>남구</td>\n      <td>327270</td>\n    </tr>\n    <tr>\n      <th>15</th>\n      <td>강원도</td>\n      <td>원주시</td>\n      <td>313851</td>\n    </tr>\n    <tr>\n      <th>16</th>\n      <td>전라남도</td>\n      <td>여수시</td>\n      <td>263166</td>\n    </tr>\n    <tr>\n      <th>17</th>\n      <td>세종특별자치시</td>\n      <td>세종시</td>\n      <td>191233</td>\n    </tr>\n  </tbody>\n</table>\n</div>"
     },
     "execution_count": 66,
     "metadata": {},
     "output_type": "execute_result"
    }
   ],
   "source": [
    "print(pop_max_df.index)\n",
    "pop_max_df"
   ],
   "metadata": {
    "collapsed": false,
    "pycharm": {
     "name": "#%%\n"
    }
   }
  },
  {
   "cell_type": "markdown",
   "source": [],
   "metadata": {
    "collapsed": false,
    "pycharm": {
     "name": "#%% md\n"
    }
   }
  },
  {
   "cell_type": "code",
   "execution_count": 67,
   "outputs": [
    {
     "data": {
      "text/plain": "-0.3460351605045768"
     },
     "execution_count": 67,
     "metadata": {},
     "output_type": "execute_result"
    }
   ],
   "source": [
    "data['면적'].corr(data['인구수'])"
   ],
   "metadata": {
    "collapsed": false,
    "pycharm": {
     "name": "#%%\n"
    }
   }
  },
  {
   "cell_type": "markdown",
   "source": [
    "### Problem -> 광역시도별 인구수가 가장 많고, 면적이 가장 넓은 행정구역 선택\n",
    "* unique(), value_counts(), max() 함수 사용\n",
    "* 사용자 정의 함수 선언\n",
    "* 출력된 데이터 프레임의 인덱스를 1~17로 변경"
   ],
   "metadata": {
    "collapsed": false
   }
  },
  {
   "cell_type": "markdown",
   "source": [
    "### problem -> 인구수와 면적간 상관계수 구하기\n",
    "* 상관계수를 구하고 그 값을 표 형식으로 깔끔하게 출력"
   ],
   "metadata": {
    "collapsed": false,
    "pycharm": {
     "name": "#%% md\n"
    }
   }
  },
  {
   "cell_type": "code",
   "execution_count": 69,
   "outputs": [
    {
     "data": {
      "text/plain": "0.6644268188909778"
     },
     "execution_count": 69,
     "metadata": {},
     "output_type": "execute_result"
    }
   ],
   "source": [
    "# 서울특별시 면적과 인구수 상관관계\n",
    "seoul_area = data.loc[data['광역시도'] == '서울특별시', '면적']\n",
    "seoul_pop = data.loc[data['광역시도'] == '서울특별시', '인구수']\n",
    "seoul_area.corr(seoul_pop)"
   ],
   "metadata": {
    "collapsed": false,
    "pycharm": {
     "name": "#%%\n"
    }
   }
  },
  {
   "cell_type": "code",
   "execution_count": 72,
   "outputs": [
    {
     "data": {
      "text/plain": "광역시도\n경기도        11744210\n서울특별시       9394807\n부산광역시       3323591\n경상남도        3144487\n인천광역시       2766575\n경상북도        2508964\n대구광역시       2378450\n충청남도        1946129\n전라북도        1739048\n전라남도        1700563\n충청북도        1484720\n대전광역시       1467677\n광주광역시       1438209\n강원도         1429438\n울산광역시       1105585\n제주특별자치도      575873\n세종특별자치시      191233\nName: 인구수, dtype: int64"
     },
     "execution_count": 72,
     "metadata": {},
     "output_type": "execute_result"
    }
   ],
   "source": [
    "# Series 객체를 사용 - 광역시도별 인구수 합계 계산\n",
    "# SeriesGroupby Object\n",
    "data['인구수'].groupby(data['광역시도']).sum().sort_values(ascending=False)\n",
    "# Series 에서 쓰이는 sort_values 에는 by 옵션을 써주지 않아도 됨 - 컬럼이 하나밖에 없음"
   ],
   "metadata": {
    "collapsed": false,
    "pycharm": {
     "name": "#%%\n"
    }
   }
  },
  {
   "cell_type": "code",
   "execution_count": 77,
   "outputs": [
    {
     "data": {
      "text/plain": "              인구수    x    y         면적\n광역시도                                  \n강원도       1429438  173   68  16874.810\n경기도      11744210  182  162  10179.743\n경상남도      3144487  123  313  10437.460\n경상북도      2508964  229  240  19021.850\n광주광역시     1438209   12   99    501.280\n대구광역시     2378450   74  111    885.690\n대전광역시     1467677   23   66    539.640\n부산광역시     3323591  162  276    763.240\n서울특별시     9394807  142  111    605.390\n세종특별자치시    191233    4   11    465.230\n울산광역시     1105585   58   71    980.220\n인천광역시     2766575   13   61   1022.910\n전라남도      1700563   44  438  12008.390\n전라북도      1739048   46  219   7907.220\n제주특별자치도    575873    8   49   1848.480\n충청남도      1946129   39  160   8272.270\n충청북도      1484720   69  124   7397.310",
      "text/html": "<div>\n<style scoped>\n    .dataframe tbody tr th:only-of-type {\n        vertical-align: middle;\n    }\n\n    .dataframe tbody tr th {\n        vertical-align: top;\n    }\n\n    .dataframe thead th {\n        text-align: right;\n    }\n</style>\n<table border=\"1\" class=\"dataframe\">\n  <thead>\n    <tr style=\"text-align: right;\">\n      <th></th>\n      <th>인구수</th>\n      <th>x</th>\n      <th>y</th>\n      <th>면적</th>\n    </tr>\n    <tr>\n      <th>광역시도</th>\n      <th></th>\n      <th></th>\n      <th></th>\n      <th></th>\n    </tr>\n  </thead>\n  <tbody>\n    <tr>\n      <th>강원도</th>\n      <td>1429438</td>\n      <td>173</td>\n      <td>68</td>\n      <td>16874.810</td>\n    </tr>\n    <tr>\n      <th>경기도</th>\n      <td>11744210</td>\n      <td>182</td>\n      <td>162</td>\n      <td>10179.743</td>\n    </tr>\n    <tr>\n      <th>경상남도</th>\n      <td>3144487</td>\n      <td>123</td>\n      <td>313</td>\n      <td>10437.460</td>\n    </tr>\n    <tr>\n      <th>경상북도</th>\n      <td>2508964</td>\n      <td>229</td>\n      <td>240</td>\n      <td>19021.850</td>\n    </tr>\n    <tr>\n      <th>광주광역시</th>\n      <td>1438209</td>\n      <td>12</td>\n      <td>99</td>\n      <td>501.280</td>\n    </tr>\n    <tr>\n      <th>대구광역시</th>\n      <td>2378450</td>\n      <td>74</td>\n      <td>111</td>\n      <td>885.690</td>\n    </tr>\n    <tr>\n      <th>대전광역시</th>\n      <td>1467677</td>\n      <td>23</td>\n      <td>66</td>\n      <td>539.640</td>\n    </tr>\n    <tr>\n      <th>부산광역시</th>\n      <td>3323591</td>\n      <td>162</td>\n      <td>276</td>\n      <td>763.240</td>\n    </tr>\n    <tr>\n      <th>서울특별시</th>\n      <td>9394807</td>\n      <td>142</td>\n      <td>111</td>\n      <td>605.390</td>\n    </tr>\n    <tr>\n      <th>세종특별자치시</th>\n      <td>191233</td>\n      <td>4</td>\n      <td>11</td>\n      <td>465.230</td>\n    </tr>\n    <tr>\n      <th>울산광역시</th>\n      <td>1105585</td>\n      <td>58</td>\n      <td>71</td>\n      <td>980.220</td>\n    </tr>\n    <tr>\n      <th>인천광역시</th>\n      <td>2766575</td>\n      <td>13</td>\n      <td>61</td>\n      <td>1022.910</td>\n    </tr>\n    <tr>\n      <th>전라남도</th>\n      <td>1700563</td>\n      <td>44</td>\n      <td>438</td>\n      <td>12008.390</td>\n    </tr>\n    <tr>\n      <th>전라북도</th>\n      <td>1739048</td>\n      <td>46</td>\n      <td>219</td>\n      <td>7907.220</td>\n    </tr>\n    <tr>\n      <th>제주특별자치도</th>\n      <td>575873</td>\n      <td>8</td>\n      <td>49</td>\n      <td>1848.480</td>\n    </tr>\n    <tr>\n      <th>충청남도</th>\n      <td>1946129</td>\n      <td>39</td>\n      <td>160</td>\n      <td>8272.270</td>\n    </tr>\n    <tr>\n      <th>충청북도</th>\n      <td>1484720</td>\n      <td>69</td>\n      <td>124</td>\n      <td>7397.310</td>\n    </tr>\n  </tbody>\n</table>\n</div>"
     },
     "execution_count": 77,
     "metadata": {},
     "output_type": "execute_result"
    }
   ],
   "source": [
    "# DataFrame 객체 사용 = 광역시도별 인구수 합계\n",
    "data.groupby('광역시도').sum()"
   ],
   "metadata": {
    "collapsed": false,
    "pycharm": {
     "name": "#%%\n"
    }
   }
  },
  {
   "cell_type": "code",
   "execution_count": 78,
   "outputs": [
    {
     "data": {
      "text/plain": "광역시도\n강원도         1429438\n경기도        11744210\n경상남도        3144487\n경상북도        2508964\n광주광역시       1438209\n대구광역시       2378450\n대전광역시       1467677\n부산광역시       3323591\n서울특별시       9394807\n세종특별자치시      191233\n울산광역시       1105585\n인천광역시       2766575\n전라남도        1700563\n전라북도        1739048\n제주특별자치도      575873\n충청남도        1946129\n충청북도        1484720\nName: 인구수, dtype: int64"
     },
     "execution_count": 78,
     "metadata": {},
     "output_type": "execute_result"
    }
   ],
   "source": [
    "# DataFrameGroupby Object\n",
    "data.groupby('광역시도')['인구수'].sum()"
   ],
   "metadata": {
    "collapsed": false,
    "pycharm": {
     "name": "#%%\n"
    }
   }
  },
  {
   "cell_type": "code",
   "execution_count": 82,
   "outputs": [],
   "source": [
    "groupby_df = data.groupby(['광역시도', '행정구역'])['인구수'].sum()\n",
    "groupby_df.to_excel('data/광역시도별행정구역인구수합계.xlsx', sheet_name='인구수')"
   ],
   "metadata": {
    "collapsed": false,
    "pycharm": {
     "name": "#%%\n"
    }
   }
  },
  {
   "cell_type": "markdown",
   "source": [
    "## 엑셀 수치 데이터에 comma ( , ) 찍기"
   ],
   "metadata": {
    "collapsed": false,
    "pycharm": {
     "name": "#%% md\n"
    }
   }
  },
  {
   "cell_type": "code",
   "execution_count": 83,
   "outputs": [],
   "source": [
    "# Create a Pandas Excel writer using XlsxWriter as the engine.\n",
    "writer = pd.ExcelWriter('data/광역시도별인구수의합계1.xlsx', engine='xlsxwriter')\n",
    "\n",
    "# Convert the dataframe to an XlsxWriter Excel object.\n",
    "groupby_df.to_excel(writer, sheet_name='인구수합계')\n",
    "\n",
    "# Get the xlsxwriter workbook and worksheet objects.\n",
    "workbook  = writer.book\n",
    "worksheet = writer.sheets['인구수합계']\n",
    "\n",
    "# Set a currency number format for a column.\n",
    "num_format = workbook.add_format({'num_format': '#,###'})\n",
    "worksheet.set_column('C:C', None, num_format)\n",
    "\n",
    "# Close the Pandas Excel writer and output the Excel file.\n",
    "writer.save()"
   ],
   "metadata": {
    "collapsed": false,
    "pycharm": {
     "name": "#%%\n"
    }
   }
  },
  {
   "cell_type": "markdown",
   "source": [
    "## 광역시도별 인구수 max, mean, std 를 한 번에 조회\n",
    "* DataFrame agg() 함수 사용"
   ],
   "metadata": {
    "collapsed": false,
    "pycharm": {
     "name": "#%% md\n"
    }
   }
  },
  {
   "cell_type": "code",
   "execution_count": 102,
   "outputs": [
    {
     "data": {
      "text/plain": "             max           mean            std\n광역시도                                          \n경기도      1125461  378845.483871  304548.395142\n경상남도     1010040  174693.722222  245796.465077\n충청북도      790216  134974.545455  223460.356657\n제주특별자치도   430504  287936.500000  201620.892054\n인천광역시     527153  276657.500000  199353.596491\n대구광역시     584517  297306.250000  174375.394380\n전라북도      630708  124217.714286  168327.134821\n충청남도      584912  129741.933333  141125.108080\n광주광역시     439683  287641.800000  137076.683206\n서울특별시     615487  375792.280000  125231.247975\n경상북도      488395  109085.391304  124954.740885\n대전광역시     475094  293535.400000  111853.571882\n부산광역시     397134  207724.437500  106246.041384\n강원도       313851   79413.222222   87316.383238\n전라남도      263166   77298.318182   74413.253230\n울산광역시     327270  221117.000000   64163.286582\n세종특별자치시   191233  191233.000000       0.000000",
      "text/html": "<div>\n<style scoped>\n    .dataframe tbody tr th:only-of-type {\n        vertical-align: middle;\n    }\n\n    .dataframe tbody tr th {\n        vertical-align: top;\n    }\n\n    .dataframe thead th {\n        text-align: right;\n    }\n</style>\n<table border=\"1\" class=\"dataframe\">\n  <thead>\n    <tr style=\"text-align: right;\">\n      <th></th>\n      <th>max</th>\n      <th>mean</th>\n      <th>std</th>\n    </tr>\n    <tr>\n      <th>광역시도</th>\n      <th></th>\n      <th></th>\n      <th></th>\n    </tr>\n  </thead>\n  <tbody>\n    <tr>\n      <th>경기도</th>\n      <td>1125461</td>\n      <td>378845.483871</td>\n      <td>304548.395142</td>\n    </tr>\n    <tr>\n      <th>경상남도</th>\n      <td>1010040</td>\n      <td>174693.722222</td>\n      <td>245796.465077</td>\n    </tr>\n    <tr>\n      <th>충청북도</th>\n      <td>790216</td>\n      <td>134974.545455</td>\n      <td>223460.356657</td>\n    </tr>\n    <tr>\n      <th>제주특별자치도</th>\n      <td>430504</td>\n      <td>287936.500000</td>\n      <td>201620.892054</td>\n    </tr>\n    <tr>\n      <th>인천광역시</th>\n      <td>527153</td>\n      <td>276657.500000</td>\n      <td>199353.596491</td>\n    </tr>\n    <tr>\n      <th>대구광역시</th>\n      <td>584517</td>\n      <td>297306.250000</td>\n      <td>174375.394380</td>\n    </tr>\n    <tr>\n      <th>전라북도</th>\n      <td>630708</td>\n      <td>124217.714286</td>\n      <td>168327.134821</td>\n    </tr>\n    <tr>\n      <th>충청남도</th>\n      <td>584912</td>\n      <td>129741.933333</td>\n      <td>141125.108080</td>\n    </tr>\n    <tr>\n      <th>광주광역시</th>\n      <td>439683</td>\n      <td>287641.800000</td>\n      <td>137076.683206</td>\n    </tr>\n    <tr>\n      <th>서울특별시</th>\n      <td>615487</td>\n      <td>375792.280000</td>\n      <td>125231.247975</td>\n    </tr>\n    <tr>\n      <th>경상북도</th>\n      <td>488395</td>\n      <td>109085.391304</td>\n      <td>124954.740885</td>\n    </tr>\n    <tr>\n      <th>대전광역시</th>\n      <td>475094</td>\n      <td>293535.400000</td>\n      <td>111853.571882</td>\n    </tr>\n    <tr>\n      <th>부산광역시</th>\n      <td>397134</td>\n      <td>207724.437500</td>\n      <td>106246.041384</td>\n    </tr>\n    <tr>\n      <th>강원도</th>\n      <td>313851</td>\n      <td>79413.222222</td>\n      <td>87316.383238</td>\n    </tr>\n    <tr>\n      <th>전라남도</th>\n      <td>263166</td>\n      <td>77298.318182</td>\n      <td>74413.253230</td>\n    </tr>\n    <tr>\n      <th>울산광역시</th>\n      <td>327270</td>\n      <td>221117.000000</td>\n      <td>64163.286582</td>\n    </tr>\n    <tr>\n      <th>세종특별자치시</th>\n      <td>191233</td>\n      <td>191233.000000</td>\n      <td>0.000000</td>\n    </tr>\n  </tbody>\n</table>\n</div>"
     },
     "execution_count": 102,
     "metadata": {},
     "output_type": "execute_result"
    }
   ],
   "source": [
    "groupby_agg_df = data.groupby('광역시도')['인구수'].agg(['max','mean','std']).fillna(0).sort_values(by='std', ascending=False)\n",
    "groupby_agg_df"
   ],
   "metadata": {
    "collapsed": false,
    "pycharm": {
     "name": "#%%\n"
    }
   }
  },
  {
   "cell_type": "code",
   "execution_count": 106,
   "outputs": [
    {
     "data": {
      "text/plain": "       광역시도      max           mean            std\n0       경기도  1125461  378845.483871  304548.395142\n1      경상남도  1010040  174693.722222  245796.465077\n2      충청북도   790216  134974.545455  223460.356657\n3   제주특별자치도   430504  287936.500000  201620.892054\n4     인천광역시   527153  276657.500000  199353.596491\n5     대구광역시   584517  297306.250000  174375.394380\n6      전라북도   630708  124217.714286  168327.134821\n7      충청남도   584912  129741.933333  141125.108080\n8     광주광역시   439683  287641.800000  137076.683206\n9     서울특별시   615487  375792.280000  125231.247975\n10     경상북도   488395  109085.391304  124954.740885\n11    대전광역시   475094  293535.400000  111853.571882\n12    부산광역시   397134  207724.437500  106246.041384\n13      강원도   313851   79413.222222   87316.383238\n14     전라남도   263166   77298.318182   74413.253230\n15    울산광역시   327270  221117.000000   64163.286582\n16  세종특별자치시   191233  191233.000000       0.000000",
      "text/html": "<div>\n<style scoped>\n    .dataframe tbody tr th:only-of-type {\n        vertical-align: middle;\n    }\n\n    .dataframe tbody tr th {\n        vertical-align: top;\n    }\n\n    .dataframe thead th {\n        text-align: right;\n    }\n</style>\n<table border=\"1\" class=\"dataframe\">\n  <thead>\n    <tr style=\"text-align: right;\">\n      <th></th>\n      <th>광역시도</th>\n      <th>max</th>\n      <th>mean</th>\n      <th>std</th>\n    </tr>\n  </thead>\n  <tbody>\n    <tr>\n      <th>0</th>\n      <td>경기도</td>\n      <td>1125461</td>\n      <td>378845.483871</td>\n      <td>304548.395142</td>\n    </tr>\n    <tr>\n      <th>1</th>\n      <td>경상남도</td>\n      <td>1010040</td>\n      <td>174693.722222</td>\n      <td>245796.465077</td>\n    </tr>\n    <tr>\n      <th>2</th>\n      <td>충청북도</td>\n      <td>790216</td>\n      <td>134974.545455</td>\n      <td>223460.356657</td>\n    </tr>\n    <tr>\n      <th>3</th>\n      <td>제주특별자치도</td>\n      <td>430504</td>\n      <td>287936.500000</td>\n      <td>201620.892054</td>\n    </tr>\n    <tr>\n      <th>4</th>\n      <td>인천광역시</td>\n      <td>527153</td>\n      <td>276657.500000</td>\n      <td>199353.596491</td>\n    </tr>\n    <tr>\n      <th>5</th>\n      <td>대구광역시</td>\n      <td>584517</td>\n      <td>297306.250000</td>\n      <td>174375.394380</td>\n    </tr>\n    <tr>\n      <th>6</th>\n      <td>전라북도</td>\n      <td>630708</td>\n      <td>124217.714286</td>\n      <td>168327.134821</td>\n    </tr>\n    <tr>\n      <th>7</th>\n      <td>충청남도</td>\n      <td>584912</td>\n      <td>129741.933333</td>\n      <td>141125.108080</td>\n    </tr>\n    <tr>\n      <th>8</th>\n      <td>광주광역시</td>\n      <td>439683</td>\n      <td>287641.800000</td>\n      <td>137076.683206</td>\n    </tr>\n    <tr>\n      <th>9</th>\n      <td>서울특별시</td>\n      <td>615487</td>\n      <td>375792.280000</td>\n      <td>125231.247975</td>\n    </tr>\n    <tr>\n      <th>10</th>\n      <td>경상북도</td>\n      <td>488395</td>\n      <td>109085.391304</td>\n      <td>124954.740885</td>\n    </tr>\n    <tr>\n      <th>11</th>\n      <td>대전광역시</td>\n      <td>475094</td>\n      <td>293535.400000</td>\n      <td>111853.571882</td>\n    </tr>\n    <tr>\n      <th>12</th>\n      <td>부산광역시</td>\n      <td>397134</td>\n      <td>207724.437500</td>\n      <td>106246.041384</td>\n    </tr>\n    <tr>\n      <th>13</th>\n      <td>강원도</td>\n      <td>313851</td>\n      <td>79413.222222</td>\n      <td>87316.383238</td>\n    </tr>\n    <tr>\n      <th>14</th>\n      <td>전라남도</td>\n      <td>263166</td>\n      <td>77298.318182</td>\n      <td>74413.253230</td>\n    </tr>\n    <tr>\n      <th>15</th>\n      <td>울산광역시</td>\n      <td>327270</td>\n      <td>221117.000000</td>\n      <td>64163.286582</td>\n    </tr>\n    <tr>\n      <th>16</th>\n      <td>세종특별자치시</td>\n      <td>191233</td>\n      <td>191233.000000</td>\n      <td>0.000000</td>\n    </tr>\n  </tbody>\n</table>\n</div>"
     },
     "execution_count": 106,
     "metadata": {},
     "output_type": "execute_result"
    }
   ],
   "source": [
    "groupby_agg_df.reset_index()    # same as groupby_agg_df.reset_index(level='광역시도')"
   ],
   "metadata": {
    "collapsed": false,
    "pycharm": {
     "name": "#%%\n"
    }
   }
  },
  {
   "cell_type": "code",
   "execution_count": 107,
   "outputs": [
    {
     "data": {
      "text/plain": "       광역시도      max           mean            std\n0       경기도  1125461  378845.483871  304548.395142\n1      경상남도  1010040  174693.722222  245796.465077\n2      충청북도   790216  134974.545455  223460.356657\n3   제주특별자치도   430504  287936.500000  201620.892054\n4     인천광역시   527153  276657.500000  199353.596491\n5     대구광역시   584517  297306.250000  174375.394380\n6      전라북도   630708  124217.714286  168327.134821\n7      충청남도   584912  129741.933333  141125.108080\n8     광주광역시   439683  287641.800000  137076.683206\n9     서울특별시   615487  375792.280000  125231.247975\n10     경상북도   488395  109085.391304  124954.740885\n11    대전광역시   475094  293535.400000  111853.571882\n12    부산광역시   397134  207724.437500  106246.041384\n13      강원도   313851   79413.222222   87316.383238\n14     전라남도   263166   77298.318182   74413.253230\n15    울산광역시   327270  221117.000000   64163.286582\n16  세종특별자치시   191233  191233.000000       0.000000",
      "text/html": "<div>\n<style scoped>\n    .dataframe tbody tr th:only-of-type {\n        vertical-align: middle;\n    }\n\n    .dataframe tbody tr th {\n        vertical-align: top;\n    }\n\n    .dataframe thead th {\n        text-align: right;\n    }\n</style>\n<table border=\"1\" class=\"dataframe\">\n  <thead>\n    <tr style=\"text-align: right;\">\n      <th></th>\n      <th>광역시도</th>\n      <th>max</th>\n      <th>mean</th>\n      <th>std</th>\n    </tr>\n  </thead>\n  <tbody>\n    <tr>\n      <th>0</th>\n      <td>경기도</td>\n      <td>1125461</td>\n      <td>378845.483871</td>\n      <td>304548.395142</td>\n    </tr>\n    <tr>\n      <th>1</th>\n      <td>경상남도</td>\n      <td>1010040</td>\n      <td>174693.722222</td>\n      <td>245796.465077</td>\n    </tr>\n    <tr>\n      <th>2</th>\n      <td>충청북도</td>\n      <td>790216</td>\n      <td>134974.545455</td>\n      <td>223460.356657</td>\n    </tr>\n    <tr>\n      <th>3</th>\n      <td>제주특별자치도</td>\n      <td>430504</td>\n      <td>287936.500000</td>\n      <td>201620.892054</td>\n    </tr>\n    <tr>\n      <th>4</th>\n      <td>인천광역시</td>\n      <td>527153</td>\n      <td>276657.500000</td>\n      <td>199353.596491</td>\n    </tr>\n    <tr>\n      <th>5</th>\n      <td>대구광역시</td>\n      <td>584517</td>\n      <td>297306.250000</td>\n      <td>174375.394380</td>\n    </tr>\n    <tr>\n      <th>6</th>\n      <td>전라북도</td>\n      <td>630708</td>\n      <td>124217.714286</td>\n      <td>168327.134821</td>\n    </tr>\n    <tr>\n      <th>7</th>\n      <td>충청남도</td>\n      <td>584912</td>\n      <td>129741.933333</td>\n      <td>141125.108080</td>\n    </tr>\n    <tr>\n      <th>8</th>\n      <td>광주광역시</td>\n      <td>439683</td>\n      <td>287641.800000</td>\n      <td>137076.683206</td>\n    </tr>\n    <tr>\n      <th>9</th>\n      <td>서울특별시</td>\n      <td>615487</td>\n      <td>375792.280000</td>\n      <td>125231.247975</td>\n    </tr>\n    <tr>\n      <th>10</th>\n      <td>경상북도</td>\n      <td>488395</td>\n      <td>109085.391304</td>\n      <td>124954.740885</td>\n    </tr>\n    <tr>\n      <th>11</th>\n      <td>대전광역시</td>\n      <td>475094</td>\n      <td>293535.400000</td>\n      <td>111853.571882</td>\n    </tr>\n    <tr>\n      <th>12</th>\n      <td>부산광역시</td>\n      <td>397134</td>\n      <td>207724.437500</td>\n      <td>106246.041384</td>\n    </tr>\n    <tr>\n      <th>13</th>\n      <td>강원도</td>\n      <td>313851</td>\n      <td>79413.222222</td>\n      <td>87316.383238</td>\n    </tr>\n    <tr>\n      <th>14</th>\n      <td>전라남도</td>\n      <td>263166</td>\n      <td>77298.318182</td>\n      <td>74413.253230</td>\n    </tr>\n    <tr>\n      <th>15</th>\n      <td>울산광역시</td>\n      <td>327270</td>\n      <td>221117.000000</td>\n      <td>64163.286582</td>\n    </tr>\n    <tr>\n      <th>16</th>\n      <td>세종특별자치시</td>\n      <td>191233</td>\n      <td>191233.000000</td>\n      <td>0.000000</td>\n    </tr>\n  </tbody>\n</table>\n</div>"
     },
     "execution_count": 107,
     "metadata": {},
     "output_type": "execute_result"
    }
   ],
   "source": [
    "# reset_index 에서 inplace=False 를 주면 변경된 사항을 화면에만 출력하고 원본에 영향 주지 않는다\n",
    "# 반대로 inplace=True를 주면 변경된 사항을 원본에도 적용한다 - 일일이 변수 선언을 통해 적용해줄 필요 없음\n",
    "groupby_agg_df.reset_index(level='광역시도', inplace=False)"
   ],
   "metadata": {
    "collapsed": false,
    "pycharm": {
     "name": "#%%\n"
    }
   }
  },
  {
   "cell_type": "code",
   "execution_count": 109,
   "outputs": [
    {
     "data": {
      "text/plain": "광역시도           경기도          경상남도           충청북도        제주특별자치도          인천광역시  \\\nmax   1.125461e+06  1.010040e+06  790216.000000  430504.000000  527153.000000   \nmean  3.788455e+05  1.746937e+05  134974.545455  287936.500000  276657.500000   \nstd   3.045484e+05  2.457965e+05  223460.356657  201620.892054  199353.596491   \n\n광역시도         대구광역시           전라북도           충청남도          광주광역시  \\\nmax   584517.00000  630708.000000  584912.000000  439683.000000   \nmean  297306.25000  124217.714286  129741.933333  287641.800000   \nstd   174375.39438  168327.134821  141125.108080  137076.683206   \n\n광역시도          서울특별시           경상북도          대전광역시          부산광역시  \\\nmax   615487.000000  488395.000000  475094.000000  397134.000000   \nmean  375792.280000  109085.391304  293535.400000  207724.437500   \nstd   125231.247975  124954.740885  111853.571882  106246.041384   \n\n광역시도            강원도           전라남도          울산광역시   세종특별자치시  \nmax   313851.000000  263166.000000  327270.000000  191233.0  \nmean   79413.222222   77298.318182  221117.000000  191233.0  \nstd    87316.383238   74413.253230   64163.286582       0.0  ",
      "text/html": "<div>\n<style scoped>\n    .dataframe tbody tr th:only-of-type {\n        vertical-align: middle;\n    }\n\n    .dataframe tbody tr th {\n        vertical-align: top;\n    }\n\n    .dataframe thead th {\n        text-align: right;\n    }\n</style>\n<table border=\"1\" class=\"dataframe\">\n  <thead>\n    <tr style=\"text-align: right;\">\n      <th>광역시도</th>\n      <th>경기도</th>\n      <th>경상남도</th>\n      <th>충청북도</th>\n      <th>제주특별자치도</th>\n      <th>인천광역시</th>\n      <th>대구광역시</th>\n      <th>전라북도</th>\n      <th>충청남도</th>\n      <th>광주광역시</th>\n      <th>서울특별시</th>\n      <th>경상북도</th>\n      <th>대전광역시</th>\n      <th>부산광역시</th>\n      <th>강원도</th>\n      <th>전라남도</th>\n      <th>울산광역시</th>\n      <th>세종특별자치시</th>\n    </tr>\n  </thead>\n  <tbody>\n    <tr>\n      <th>max</th>\n      <td>1.125461e+06</td>\n      <td>1.010040e+06</td>\n      <td>790216.000000</td>\n      <td>430504.000000</td>\n      <td>527153.000000</td>\n      <td>584517.00000</td>\n      <td>630708.000000</td>\n      <td>584912.000000</td>\n      <td>439683.000000</td>\n      <td>615487.000000</td>\n      <td>488395.000000</td>\n      <td>475094.000000</td>\n      <td>397134.000000</td>\n      <td>313851.000000</td>\n      <td>263166.000000</td>\n      <td>327270.000000</td>\n      <td>191233.0</td>\n    </tr>\n    <tr>\n      <th>mean</th>\n      <td>3.788455e+05</td>\n      <td>1.746937e+05</td>\n      <td>134974.545455</td>\n      <td>287936.500000</td>\n      <td>276657.500000</td>\n      <td>297306.25000</td>\n      <td>124217.714286</td>\n      <td>129741.933333</td>\n      <td>287641.800000</td>\n      <td>375792.280000</td>\n      <td>109085.391304</td>\n      <td>293535.400000</td>\n      <td>207724.437500</td>\n      <td>79413.222222</td>\n      <td>77298.318182</td>\n      <td>221117.000000</td>\n      <td>191233.0</td>\n    </tr>\n    <tr>\n      <th>std</th>\n      <td>3.045484e+05</td>\n      <td>2.457965e+05</td>\n      <td>223460.356657</td>\n      <td>201620.892054</td>\n      <td>199353.596491</td>\n      <td>174375.39438</td>\n      <td>168327.134821</td>\n      <td>141125.108080</td>\n      <td>137076.683206</td>\n      <td>125231.247975</td>\n      <td>124954.740885</td>\n      <td>111853.571882</td>\n      <td>106246.041384</td>\n      <td>87316.383238</td>\n      <td>74413.253230</td>\n      <td>64163.286582</td>\n      <td>0.0</td>\n    </tr>\n  </tbody>\n</table>\n</div>"
     },
     "execution_count": 109,
     "metadata": {},
     "output_type": "execute_result"
    }
   ],
   "source": [
    "groupby_agg_df.transpose()"
   ],
   "metadata": {
    "collapsed": false,
    "pycharm": {
     "name": "#%%\n"
    }
   }
  },
  {
   "cell_type": "markdown",
   "source": [
    "#### 시각화\n",
    "* plot이 출력되려면 원칙적으로 show()를 호출해야 하지만, jupyter 한정으로 show()를 호출하지 않아도 됨\n",
    "* %matplotlib inline 설정을 해야함\n",
    "* 한글 폰트 설정이 필요함\n",
    "* plot에 대한 설정은 matplotlib 함수를 사용, plot을 그리는 설정은 seaborn 함수를 사용"
   ],
   "metadata": {
    "collapsed": false,
    "pycharm": {
     "name": "#%% md\n"
    }
   }
  },
  {
   "cell_type": "code",
   "execution_count": 111,
   "outputs": [],
   "source": [
    "%matplotlib inline"
   ],
   "metadata": {
    "collapsed": false,
    "pycharm": {
     "name": "#%%\n"
    }
   }
  },
  {
   "cell_type": "code",
   "execution_count": 114,
   "outputs": [
    {
     "name": "stdout",
     "output_type": "stream",
     "text": [
      "matplotlib  3.4.3\n",
      "seaborn  0.11.2\n"
     ]
    }
   ],
   "source": [
    "import matplotlib\n",
    "import matplotlib.pyplot as plt\n",
    "import matplotlib.font_manager as fm\n",
    "\n",
    "import seaborn as sns\n",
    "\n",
    "print('matplotlib ', matplotlib.__version__)\n",
    "print('seaborn ', sns.__version__)"
   ],
   "metadata": {
    "collapsed": false,
    "pycharm": {
     "name": "#%%\n"
    }
   }
  },
  {
   "cell_type": "code",
   "execution_count": 116,
   "outputs": [
    {
     "data": {
      "text/plain": "[('Magic R', 'C:\\\\Windows\\\\Fonts\\\\HMKMMAG.TTF'),\n ('Maiandra GD', 'C:\\\\WINDOWS\\\\Fonts\\\\MAIAN.TTF'),\n ('Malgun Gothic', 'C:\\\\Windows\\\\Fonts\\\\malgunsl.ttf'),\n ('Magneto', 'C:\\\\Windows\\\\Fonts\\\\MAGNETOB.TTF'),\n ('Malgun Gothic', 'C:\\\\WINDOWS\\\\Fonts\\\\malgunbd.ttf'),\n ('Malgun Gothic', 'C:\\\\WINDOWS\\\\Fonts\\\\malgun.ttf'),\n ('Malgun Gothic', 'C:\\\\WINDOWS\\\\Fonts\\\\malgunsl.ttf'),\n ('Malgun Gothic', 'C:\\\\Windows\\\\Fonts\\\\malgunbd.ttf'),\n ('Matura MT Script Capitals', 'C:\\\\WINDOWS\\\\Fonts\\\\MATURASC.TTF'),\n ('Maiandra GD', 'C:\\\\Windows\\\\Fonts\\\\MAIAN.TTF'),\n ('Magic R', 'C:\\\\WINDOWS\\\\Fonts\\\\HMKMMAG.TTF'),\n ('Magneto', 'C:\\\\WINDOWS\\\\Fonts\\\\MAGNETOB.TTF'),\n ('Marlett', 'C:\\\\WINDOWS\\\\Fonts\\\\marlett.ttf'),\n ('Malgun Gothic', 'C:\\\\Windows\\\\Fonts\\\\malgun.ttf'),\n ('Matura MT Script Capitals', 'C:\\\\Windows\\\\Fonts\\\\MATURASC.TTF')]"
     },
     "execution_count": 116,
     "metadata": {},
     "output_type": "execute_result"
    }
   ],
   "source": [
    "# 폰트 이름과 파일 정보 출력 - List Comprehension Ver.\n",
    "[(font.name, font.fname)for font in fm.fontManager.ttflist if 'Ma' in font.name]"
   ],
   "metadata": {
    "collapsed": false,
    "pycharm": {
     "name": "#%%\n"
    }
   }
  }
 ],
 "metadata": {
  "kernelspec": {
   "display_name": "Python 3",
   "language": "python",
   "name": "python3"
  },
  "language_info": {
   "codemirror_mode": {
    "name": "ipython",
    "version": 2
   },
   "file_extension": ".py",
   "mimetype": "text/x-python",
   "name": "python",
   "nbconvert_exporter": "python",
   "pygments_lexer": "ipython2",
   "version": "2.7.6"
  }
 },
 "nbformat": 4,
 "nbformat_minor": 0
}