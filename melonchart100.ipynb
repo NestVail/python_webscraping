{
 "cells": [
  {
   "cell_type": "markdown",
   "source": [
    "### Melon100 Chart\n",
    "* 100개의 곡 제목과 songID를 추출한 뒤 List에 추가\n",
    "* songID를 통해 곡 상세 정보를 추출한 뒤 List와 Dict에 추가, json 파일로 저장\n",
    "* json 파일을 pandas의 DataFrame에 추가\n",
    "* DB에 저장"
   ],
   "metadata": {
    "collapsed": false,
    "pycharm": {
     "name": "#%% md\n"
    }
   }
  },
  {
   "cell_type": "code",
   "execution_count": 1,
   "outputs": [],
   "source": [
    "import requests\n",
    "from bs4 import BeautifulSoup\n",
    "import re"
   ],
   "metadata": {
    "collapsed": false,
    "pycharm": {
     "name": "#%%\n"
    }
   }
  },
  {
   "cell_type": "code",
   "execution_count": 31,
   "outputs": [
    {
     "name": "stdout",
     "output_type": "stream",
     "text": [
      "100 [{'song_title': '사랑은 늘 도망가', 'song_id': '34061322', 'song_detail_url': 'https://www.melon.com/song/detail.htm?songId=34061322'}, {'song_title': '취중고백', 'song_id': '34431086', 'song_detail_url': 'https://www.melon.com/song/detail.htm?songId=34431086'}, {'song_title': '호랑수월가', 'song_id': '34535898', 'song_detail_url': 'https://www.melon.com/song/detail.htm?songId=34535898'}, {'song_title': 'Step Back', 'song_id': '34494149', 'song_detail_url': 'https://www.melon.com/song/detail.htm?songId=34494149'}, {'song_title': '회전목마 (Feat. Zion.T, 원슈타인) (Prod. Slom)', 'song_id': '34256568', 'song_detail_url': 'https://www.melon.com/song/detail.htm?songId=34256568'}, {'song_title': 'ELEVEN', 'song_id': '34349913', 'song_detail_url': 'https://www.melon.com/song/detail.htm?songId=34349913'}, {'song_title': '리무진 (Feat. MINO) (Prod. GRAY)', 'song_id': '34298499', 'song_detail_url': 'https://www.melon.com/song/detail.htm?songId=34298499'}, {'song_title': 'Counting Stars (Feat. Beenzino)', 'song_id': '34398735', 'song_detail_url': 'https://www.melon.com/song/detail.htm?songId=34398735'}, {'song_title': 'Dreams Come True', 'song_id': '34436674', 'song_detail_url': 'https://www.melon.com/song/detail.htm?songId=34436674'}, {'song_title': '눈이 오잖아(Feat.헤이즈)', 'song_id': '34360855', 'song_detail_url': 'https://www.melon.com/song/detail.htm?songId=34360855'}, {'song_title': '이제 나만 믿어요', 'song_id': '32508053', 'song_detail_url': 'https://www.melon.com/song/detail.htm?songId=32508053'}, {'song_title': \"Can't Control Myself\", 'song_id': '34540831', 'song_detail_url': 'https://www.melon.com/song/detail.htm?songId=34540831'}, {'song_title': '겨울잠', 'song_id': '34481682', 'song_detail_url': 'https://www.melon.com/song/detail.htm?songId=34481682'}, {'song_title': '다정히 내 이름을 부르면', 'song_id': '33496587', 'song_detail_url': 'https://www.melon.com/song/detail.htm?songId=33496587'}, {'song_title': '다시 사랑한다면 (김필 Ver.)', 'song_id': '33514925', 'song_detail_url': 'https://www.melon.com/song/detail.htm?songId=33514925'}, {'song_title': '그대라는 사치', 'song_id': '33652821', 'song_detail_url': 'https://www.melon.com/song/detail.htm?songId=33652821'}, {'song_title': '별빛 같은 나의 사랑아', 'song_id': '33337651', 'song_detail_url': 'https://www.melon.com/song/detail.htm?songId=33337651'}, {'song_title': 'SMILEY (Feat. BIBI)', 'song_id': '34538515', 'song_detail_url': 'https://www.melon.com/song/detail.htm?songId=34538515'}, {'song_title': '잊었니', 'song_id': '33606505', 'song_detail_url': 'https://www.melon.com/song/detail.htm?songId=33606505'}, {'song_title': '신호등', 'song_id': '33480898', 'song_detail_url': 'https://www.melon.com/song/detail.htm?songId=33480898'}, {'song_title': '만남은 쉽고 이별은 어려워 (Feat. Leellamarz) (Prod. TOIL)', 'song_id': '34298496', 'song_detail_url': 'https://www.melon.com/song/detail.htm?songId=34298496'}, {'song_title': 'HERO', 'song_id': '33036660', 'song_detail_url': 'https://www.melon.com/song/detail.htm?songId=33036660'}, {'song_title': 'Christmas Tree', 'song_id': '34461065', 'song_detail_url': 'https://www.melon.com/song/detail.htm?songId=34461065'}, {'song_title': 'STAY', 'song_id': '33658563', 'song_detail_url': 'https://www.melon.com/song/detail.htm?songId=33658563'}, {'song_title': '끝사랑', 'song_id': '33630420', 'song_detail_url': 'https://www.melon.com/song/detail.htm?songId=33630420'}, {'song_title': 'strawberry moon', 'song_id': '34101563', 'song_detail_url': 'https://www.melon.com/song/detail.htm?songId=34101563'}, {'song_title': 'Next Level', 'song_id': '33487342', 'song_detail_url': 'https://www.melon.com/song/detail.htm?songId=33487342'}, {'song_title': '언덕나무', 'song_id': '34495462', 'song_detail_url': 'https://www.melon.com/song/detail.htm?songId=34495462'}, {'song_title': '드라마', 'song_id': '34481680', 'song_detail_url': 'https://www.melon.com/song/detail.htm?songId=34481680'}, {'song_title': 'Bk Love', 'song_id': '33599821', 'song_detail_url': 'https://www.melon.com/song/detail.htm?songId=33599821'}, {'song_title': 'Savage', 'song_id': '34041584', 'song_detail_url': 'https://www.melon.com/song/detail.htm?songId=34041584'}, {'song_title': '너 아니면 안돼', 'song_id': '34592758', 'song_detail_url': 'https://www.melon.com/song/detail.htm?songId=34592758'}, {'song_title': '우리가 헤어져야 했던 이유', 'song_id': '34399272', 'song_detail_url': 'https://www.melon.com/song/detail.htm?songId=34399272'}, {'song_title': '서랍', 'song_id': '34373632', 'song_detail_url': 'https://www.melon.com/song/detail.htm?songId=34373632'}, {'song_title': '흰눈', 'song_id': '34397419', 'song_detail_url': 'https://www.melon.com/song/detail.htm?songId=34397419'}, {'song_title': '사랑이 아니었다고 말하지 마요', 'song_id': '34513916', 'song_detail_url': 'https://www.melon.com/song/detail.htm?songId=34513916'}, {'song_title': 'abcdefu', 'song_id': '33808429', 'song_detail_url': 'https://www.melon.com/song/detail.htm?songId=33808429'}, {'song_title': 'Butter', 'song_id': '33507137', 'song_detail_url': 'https://www.melon.com/song/detail.htm?songId=33507137'}, {'song_title': '너를 생각해', 'song_id': '33978183', 'song_detail_url': 'https://www.melon.com/song/detail.htm?songId=33978183'}, {'song_title': 'Child', 'song_id': '34599641', 'song_detail_url': 'https://www.melon.com/song/detail.htm?songId=34599641'}, {'song_title': '계단말고 엘리베이터', 'song_id': '31254010', 'song_detail_url': 'https://www.melon.com/song/detail.htm?songId=31254010'}, {'song_title': 'OHAYO MY NIGHT', 'song_id': '32698101', 'song_detail_url': 'https://www.melon.com/song/detail.htm?songId=32698101'}, {'song_title': 'Dynamite', 'song_id': '32872978', 'song_detail_url': 'https://www.melon.com/song/detail.htm?songId=32872978'}, {'song_title': '문득', 'song_id': '33448767', 'song_detail_url': 'https://www.melon.com/song/detail.htm?songId=33448767'}, {'song_title': '불협화음 (Feat. AKMU) (Prod. GRAY)', 'song_id': '34331506', 'song_detail_url': 'https://www.melon.com/song/detail.htm?songId=34331506'}, {'song_title': '네가 없는 밤 (Feat. ASH ISLAND) (Prod. GRAY)', 'song_id': '34366006', 'song_detail_url': 'https://www.melon.com/song/detail.htm?songId=34366006'}, {'song_title': '여름비', 'song_id': '34514465', 'song_detail_url': 'https://www.melon.com/song/detail.htm?songId=34514465'}, {'song_title': 'Permission to Dance', 'song_id': '33666269', 'song_detail_url': 'https://www.melon.com/song/detail.htm?songId=33666269'}, {'song_title': '바라만 본다', 'song_id': '33625988', 'song_detail_url': 'https://www.melon.com/song/detail.htm?songId=33625988'}, {'song_title': 'My Universe', 'song_id': '33998510', 'song_detail_url': 'https://www.melon.com/song/detail.htm?songId=33998510'}, {'song_title': 'Weekend', 'song_id': '33655994', 'song_detail_url': 'https://www.melon.com/song/detail.htm?songId=33655994'}, {'song_title': '쉬어 (Feat. MINO) (Prod. GRAY)', 'song_id': '34215822', 'song_detail_url': 'https://www.melon.com/song/detail.htm?songId=34215822'}, {'song_title': '그게 더 편할 것 같아 (N번째 연애 X 멜로망스)', 'song_id': '34326186', 'song_detail_url': 'https://www.melon.com/song/detail.htm?songId=34326186'}, {'song_title': '강변북로', 'song_id': '34598904', 'song_detail_url': 'https://www.melon.com/song/detail.htm?songId=34598904'}, {'song_title': \"Good Night (Feat. BE'O)\", 'song_id': '34562040', 'song_detail_url': 'https://www.melon.com/song/detail.htm?songId=34562040'}, {'song_title': '낙하 (with 아이유)', 'song_id': '33725775', 'song_detail_url': 'https://www.melon.com/song/detail.htm?songId=33725775'}, {'song_title': 'Celebrity', 'song_id': '33239419', 'song_detail_url': 'https://www.melon.com/song/detail.htm?songId=33239419'}, {'song_title': 'Wake Up (Prod. 코드 쿤스트)', 'song_id': '34215821', 'song_detail_url': 'https://www.melon.com/song/detail.htm?songId=34215821'}, {'song_title': '대낮에 한 이별', 'song_id': '34596035', 'song_detail_url': 'https://www.melon.com/song/detail.htm?songId=34596035'}, {'song_title': '이별후회', 'song_id': '34437341', 'song_detail_url': 'https://www.melon.com/song/detail.htm?songId=34437341'}, {'song_title': '밤하늘의 별을(2020)', 'song_id': '33061995', 'song_detail_url': 'https://www.melon.com/song/detail.htm?songId=33061995'}, {'song_title': '라일락', 'song_id': '33372781', 'song_detail_url': 'https://www.melon.com/song/detail.htm?songId=33372781'}, {'song_title': '헤픈 우연', 'song_id': '33503722', 'song_detail_url': 'https://www.melon.com/song/detail.htm?songId=33503722'}, {'song_title': 'Bad Habits', 'song_id': '33623210', 'song_detail_url': 'https://www.melon.com/song/detail.htm?songId=33623210'}, {'song_title': '찰나가 영원이 될 때 (The Eternal Moment)', 'song_id': '33976677', 'song_detail_url': 'https://www.melon.com/song/detail.htm?songId=33976677'}, {'song_title': '사이렌 Remix (Feat. UNEDUCATED KID, Paul Blanco)', 'song_id': '33359725', 'song_detail_url': 'https://www.melon.com/song/detail.htm?songId=33359725'}, {'song_title': 'DM', 'song_id': '34539150', 'song_detail_url': 'https://www.melon.com/song/detail.htm?songId=34539150'}, {'song_title': '어떻게 이별까지 사랑하겠어, 널 사랑하는 거지', 'song_id': '32061975', 'song_detail_url': 'https://www.melon.com/song/detail.htm?songId=32061975'}, {'song_title': '고백', 'song_id': '33868791', 'song_detail_url': 'https://www.melon.com/song/detail.htm?songId=33868791'}, {'song_title': '모든 날, 모든 순간 (Every day, Every Moment)', 'song_id': '30962526', 'song_detail_url': 'https://www.melon.com/song/detail.htm?songId=30962526'}, {'song_title': '너의 모든 순간', 'song_id': '4446485', 'song_detail_url': 'https://www.melon.com/song/detail.htm?songId=4446485'}, {'song_title': '내 손을 잡아', 'song_id': '3414749', 'song_detail_url': 'https://www.melon.com/song/detail.htm?songId=3414749'}, {'song_title': '안녕 우린 헤어져야만 해', 'song_id': '34465082', 'song_detail_url': 'https://www.melon.com/song/detail.htm?songId=34465082'}, {'song_title': 'Because', 'song_id': '34564047', 'song_detail_url': 'https://www.melon.com/song/detail.htm?songId=34564047'}, {'song_title': 'Off My Face', 'song_id': '33359309', 'song_detail_url': 'https://www.melon.com/song/detail.htm?songId=33359309'}, {'song_title': '추억은 만남보다 이별에 남아', 'song_id': '33248758', 'song_detail_url': 'https://www.melon.com/song/detail.htm?songId=33248758'}, {'song_title': \"롤린 (Rollin')\", 'song_id': '30287019', 'song_detail_url': 'https://www.melon.com/song/detail.htm?songId=30287019'}, {'song_title': '밝게 빛나는 별이 되어 비춰줄게', 'song_id': '33167063', 'song_detail_url': 'https://www.melon.com/song/detail.htm?songId=33167063'}, {'song_title': '봄날', 'song_id': '30244931', 'song_detail_url': 'https://www.melon.com/song/detail.htm?songId=30244931'}, {'song_title': 'Dun Dun Dance', 'song_id': '33464805', 'song_detail_url': 'https://www.melon.com/song/detail.htm?songId=33464805'}, {'song_title': 'Blueming', 'song_id': '32183386', 'song_detail_url': 'https://www.melon.com/song/detail.htm?songId=32183386'}, {'song_title': '작은 것들을 위한 시 (Boy With Luv) (Feat. Halsey)', 'song_id': '31737197', 'song_detail_url': 'https://www.melon.com/song/detail.htm?songId=31737197'}, {'song_title': \"검정색하트 (Feat. Leellamarz, BE'O)\", 'song_id': '34588190', 'song_detail_url': 'https://www.melon.com/song/detail.htm?songId=34588190'}, {'song_title': '못해준 게 많아서', 'song_id': '34598809', 'song_detail_url': 'https://www.melon.com/song/detail.htm?songId=34598809'}, {'song_title': '오늘도 빛나는 너에게 (To You My Light) (Feat.이라온)', 'song_id': '31853557', 'song_detail_url': 'https://www.melon.com/song/detail.htm?songId=31853557'}, {'song_title': '오묘해', 'song_id': '34536107', 'song_detail_url': 'https://www.melon.com/song/detail.htm?songId=34536107'}, {'song_title': '그날에 나는 맘이 편했을까', 'song_id': '33107649', 'song_detail_url': 'https://www.melon.com/song/detail.htm?songId=33107649'}, {'song_title': '시간을 거슬러 (낮에 뜨는 달 X 케이윌)', 'song_id': '33878014', 'song_detail_url': 'https://www.melon.com/song/detail.htm?songId=33878014'}, {'song_title': '취기를 빌려 (취향저격 그녀 X 산들)', 'song_id': '32794652', 'song_detail_url': 'https://www.melon.com/song/detail.htm?songId=32794652'}, {'song_title': 'Savage Love (Laxed - Siren Beat) (BTS Remix)', 'song_id': '32962258', 'song_detail_url': 'https://www.melon.com/song/detail.htm?songId=32962258'}, {'song_title': 'WA DA DA', 'song_id': '34491913', 'song_detail_url': 'https://www.melon.com/song/detail.htm?songId=34491913'}, {'song_title': '비가 오는 날엔 (2021)', 'song_id': '33759183', 'song_detail_url': 'https://www.melon.com/song/detail.htm?songId=33759183'}, {'song_title': '깨우지 마', 'song_id': '34553700', 'song_detail_url': 'https://www.melon.com/song/detail.htm?songId=34553700'}, {'song_title': 'Queendom', 'song_id': '33805289', 'song_detail_url': 'https://www.melon.com/song/detail.htm?songId=33805289'}, {'song_title': 'Still I Love You', 'song_id': '34431340', 'song_detail_url': 'https://www.melon.com/song/detail.htm?songId=34431340'}, {'song_title': '멜로디', 'song_id': '33315511', 'song_detail_url': 'https://www.melon.com/song/detail.htm?songId=33315511'}, {'song_title': 'Life Goes On', 'song_id': '33077234', 'song_detail_url': 'https://www.melon.com/song/detail.htm?songId=33077234'}, {'song_title': '나 그댈위해 시 한편을 쓰겠어', 'song_id': '34171026', 'song_detail_url': 'https://www.melon.com/song/detail.htm?songId=34171026'}, {'song_title': '정거장', 'song_id': '34481681', 'song_detail_url': 'https://www.melon.com/song/detail.htm?songId=34481681'}, {'song_title': '좋아좋아', 'song_id': '33691794', 'song_detail_url': 'https://www.melon.com/song/detail.htm?songId=33691794'}]\n"
     ]
    }
   ],
   "source": [
    "url = 'https://www.melon.com/chart/index.htm'\n",
    "req_header_dict = {\n",
    "        'user-agent': 'Mozilla/5.0 (Windows NT 10.0; Win64; x64) AppleWebKit/537.36 (KHTML, like Gecko) Chrome/97.0.4692.99 Safari/537.36'\n",
    "    }\n",
    "res = requests.get(url, headers=req_header_dict)\n",
    "\n",
    "if res.ok:\n",
    "    html = res.text\n",
    "    soup = BeautifulSoup(html, 'lxml')\n",
    "    # print(len(soup.select(\"div#tb_list tr a[href*='playSong']\")))\n",
    "\n",
    "    # div id가 tb_list 이면서 하위 태그가 tr > a 이고 a 태그 href 에서 playSong 이 포함된 내용을 scraping\n",
    "    a_tags = soup.select(\"div#tb_list tr a[href*='playSong']\")\n",
    "\n",
    "    song_list = []\n",
    "\n",
    "    for i, a_tag in enumerate(a_tags, 1):\n",
    "        song_dict = {}\n",
    "        song_title = a_tag.text\n",
    "        song_dict['song_title'] = song_title\n",
    "        href_value = a_tag['href']\n",
    "        # print(href_value)\n",
    "        # print(a_tag)\n",
    "        # print(i, song_title)\n",
    "        match = re.search(r'(\\d+)\\);', href_value)  # 숫자를 추출 -> );가 포함된 숫자도 추출\n",
    "        if match:\n",
    "            # print(match.group(0), match.group(1))\n",
    "            song_id = match.group(1)\n",
    "            song_dict['song_id'] = song_id\n",
    "            # print(song_id, song_title)\n",
    "            song_detail_url = f'https://www.melon.com/song/detail.htm?songId={song_id}'\n",
    "            song_dict['song_detail_url'] = song_detail_url\n",
    "            # print(song_dict)\n",
    "        song_list.append(song_dict)\n",
    "\n",
    "    print(len(song_list), song_list)\n"
   ],
   "metadata": {
    "collapsed": false,
    "pycharm": {
     "name": "#%%\n"
    }
   }
  },
  {
   "cell_type": "code",
   "execution_count": null,
   "outputs": [],
   "source": [],
   "metadata": {
    "collapsed": false,
    "pycharm": {
     "name": "#%%\n"
    }
   }
  },
  {
   "cell_type": "markdown",
   "source": [],
   "metadata": {
    "collapsed": false
   }
  }
 ],
 "metadata": {
  "kernelspec": {
   "display_name": "Python 3",
   "language": "python",
   "name": "python3"
  },
  "language_info": {
   "codemirror_mode": {
    "name": "ipython",
    "version": 2
   },
   "file_extension": ".py",
   "mimetype": "text/x-python",
   "name": "python",
   "nbconvert_exporter": "python",
   "pygments_lexer": "ipython2",
   "version": "2.7.6"
  }
 },
 "nbformat": 4,
 "nbformat_minor": 0
}