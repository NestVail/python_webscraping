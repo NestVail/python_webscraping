{
 "cells": [
  {
   "cell_type": "markdown",
   "source": [
    "### 국회의원 현황 정보 수집, 분석, 저장, 시각화\n",
    "* 국회의원의 이름, ID 추출\n",
    "* 상세 페이지 정보 추출 및 json 파일로 저장\n",
    "* 상세 정보 json -> DataFrame 으로 변환\n",
    "* 시각화 (막대그래프, 히스토그램, 파이차트, 히트맵)\n",
    "* DB 테이블로 저장"
   ],
   "metadata": {
    "collapsed": false
   }
  },
  {
   "cell_type": "code",
   "execution_count": 2,
   "outputs": [],
   "source": [
    "import json\n",
    "import requests\n",
    "from bs4 import BeautifulSoup\n",
    "import re\n",
    "from urllib.parse import urljoin\n",
    "import pandas as pd\n",
    "from datetime import date\n",
    "import matplotlib\n",
    "import matplotlib.pyplot as plt\n",
    "import matplotlib.font_manager as fm\n",
    "import seaborn as sns"
   ],
   "metadata": {
    "collapsed": false,
    "pycharm": {
     "name": "#%%\n"
    }
   }
  },
  {
   "cell_type": "code",
   "execution_count": 41,
   "outputs": [
    {
     "name": "stdout",
     "output_type": "stream",
     "text": [
      "['9771230', '9771142', '9771174', '9771233', '9771283', '9770933', '9771116', '9771276', '9771168', '9771007', '9771109', '9771180', '9770931', '9771224', '9771165', '9770679', '9771108', '9770977', '9771259', '9770998', '9770927', '9771258', '9770712', '9771152', '9771164', '9771181', '9770719', '9770997', '9771136', '9770723', '9771120', '9771173', '9770941', '9770984', '9771285', '9771268', '9770725', '9770527', '9771024', '9771195', '9770985', '9771208', '9771089', '9771210', '9771220', '9771144', '9771169', '9771111', '9771225', '9770975', '9770981', '9770934', '9771249', '9771186', '9771147', '9771127', '9771214', '9771206', '9771171', '9771288', '9771023', '9771090', '9771009', '9771192', '9770982', '9770986', '9770741', '9771237', '9770742', '9770991', '9771223', '9771270', '9771216', '9771134', '9771228', '9770752', '9770753', '9770755', '9771141', '9771274', '9771091', '9771187', '9771204', '9771175', '9771159', '9770764', '9770911', '9771248', '9770767', '9770768', '9770770', '9770090', '9771193', '9771163', '9771107', '9770944', '9771135', '9771162', '9771030', '9770774', '9770929', '9770950', '9770995', '9770932', '9771125', '9770963', '9771226', '9770779', '9771148', '9771277', '9771128', '9771137', '9770980', '9770356', '9771218', '9771166', '9771133', '9771092', '9770784', '9771176', '9771236', '9771254', '9770786', '9771008', '9771217', '9770999', '9771093', '9771001', '9770996', '9771094', '9770967', '9771058', '9771238', '9770968', '9771209', '9771246', '9771219', '9771257', '9770869', '9770587', '9770372', '9771132', '9771017', '9771273', '9771143', '9771178', '9771287', '9771271', '9771155', '9771010', '9771202', '9771113', '9771172', '9771037', '9771261', '9770871', '9770872', '9771038', '9771126', '9771121', '9770966', '9771199', '9770912', '9771266', '9771118', '9770808', '9771227', '9771263', '9770598', '9771153', '9770811', '9771170', '9771221', '9770812', '9771239', '9771212', '9771240', '9771032', '9770876', '9770813', '9770905', '9771198', '9771232', '9771260', '9771028', '9770602', '9771154', '9770414', '9771207', '9771098', '9771151', '9771185', '9771284', '9771269', '9771003', '9771251', '9771255', '9771158', '9771115', '9771184', '9771015', '9770826', '9771213', '9771278', '9770878', '9771201', '9771060', '9771205', '9770914', '9771242', '9771138', '9770835', '9771002', '9771190', '9771280', '9770836', '9771129', '9770837', '9771157', '9770839', '9771177', '9771041', '9771000', '9771203', '9771110', '9770954', '9771160', '9771275', '9771139', '9771272', '9770951', '9771253', '9770846', '9770926', '9771245', '9771140', '9770881', '9771012', '9771150', '9771103', '9771006', '9771189', '9771114', '9771068', '9771122', '9771264', '9771229', '9770450', '9771247', '9771243', '9770973', '9771156', '9770990', '9770456', '9771262', '9771244', '9771235', '9771215', '9770883', '9771250', '9770852', '9771117', '9771112', '9771282', '9771119', '9771252', '9771279', '9770952', '9771188', '9771194', '9771231', '9771267', '9770962', '9771286', '9771234', '9770858', '9771197', '9771241', '9771211', '9770859', '9771182', '9771196', '9771256', '9771149', '9771179', '9770886', '9771146', '9771167', '9770676', '9770864', '9771183', '9771145', '9771130', '9771161', '9770936']\n"
     ]
    }
   ],
   "source": [
    "url = 'https://www.assembly.go.kr/assm/memact/congressman/memCond/memCondListAjax.do'\n",
    "req_param_dict = {\n",
    "    'currentPage':1,\n",
    "    'rowPerPage':500\n",
    "}\n",
    "\n",
    "res = requests.get(url, params=req_param_dict)\n",
    "# print(res.status_code)\n",
    "\n",
    "if res.ok:\n",
    "    soup = BeautifulSoup(res.text, 'lxml')\n",
    "    # print(len(soup.select('div.memberna_list dl dt a')))\n",
    "    atag_list = soup.select('div.memberna_list dl dt a')\n",
    "    # for atag in atag_list:\n",
    "        # print(atag)\n",
    "\n",
    "    mem_id_list = []\n",
    "    for atag in atag_list:\n",
    "        href = atag['href']\n",
    "        # print(href)\n",
    "        match = re.search(r'(\\d+)', href)\n",
    "        # print(match)\n",
    "        if match:\n",
    "            mem_id = match.group(0)\n",
    "            # print(match.group(0))\n",
    "            mem_id_list.append(mem_id)\n",
    "    print(mem_id_list)"
   ],
   "metadata": {
    "collapsed": false,
    "pycharm": {
     "name": "#%%\n"
    }
   }
  },
  {
   "cell_type": "code",
   "execution_count": 44,
   "outputs": [
    {
     "name": "stdout",
     "output_type": "stream",
     "text": [
      "9771230\n",
      "1 https://www.assembly.go.kr/assm/memPop/memPopup.do?dept_cd=9771230\n",
      "9771142\n",
      "2 https://www.assembly.go.kr/assm/memPop/memPopup.do?dept_cd=9771142\n",
      "9771174\n",
      "3 https://www.assembly.go.kr/assm/memPop/memPopup.do?dept_cd=9771174\n",
      "9771233\n",
      "4 https://www.assembly.go.kr/assm/memPop/memPopup.do?dept_cd=9771233\n",
      "9771283\n",
      "5 https://www.assembly.go.kr/assm/memPop/memPopup.do?dept_cd=9771283\n",
      "9770933\n",
      "6 https://www.assembly.go.kr/assm/memPop/memPopup.do?dept_cd=9770933\n",
      "9771116\n",
      "7 https://www.assembly.go.kr/assm/memPop/memPopup.do?dept_cd=9771116\n",
      "9771276\n",
      "8 https://www.assembly.go.kr/assm/memPop/memPopup.do?dept_cd=9771276\n",
      "9771168\n",
      "9 https://www.assembly.go.kr/assm/memPop/memPopup.do?dept_cd=9771168\n",
      "9771007\n",
      "10 https://www.assembly.go.kr/assm/memPop/memPopup.do?dept_cd=9771007\n",
      "9771109\n",
      "11 https://www.assembly.go.kr/assm/memPop/memPopup.do?dept_cd=9771109\n",
      "9771180\n",
      "12 https://www.assembly.go.kr/assm/memPop/memPopup.do?dept_cd=9771180\n",
      "9770931\n",
      "13 https://www.assembly.go.kr/assm/memPop/memPopup.do?dept_cd=9770931\n",
      "9771224\n",
      "14 https://www.assembly.go.kr/assm/memPop/memPopup.do?dept_cd=9771224\n",
      "9771165\n",
      "15 https://www.assembly.go.kr/assm/memPop/memPopup.do?dept_cd=9771165\n",
      "9770679\n",
      "16 https://www.assembly.go.kr/assm/memPop/memPopup.do?dept_cd=9770679\n",
      "9771108\n",
      "17 https://www.assembly.go.kr/assm/memPop/memPopup.do?dept_cd=9771108\n",
      "9770977\n",
      "18 https://www.assembly.go.kr/assm/memPop/memPopup.do?dept_cd=9770977\n",
      "9771259\n",
      "19 https://www.assembly.go.kr/assm/memPop/memPopup.do?dept_cd=9771259\n",
      "9770998\n",
      "20 https://www.assembly.go.kr/assm/memPop/memPopup.do?dept_cd=9770998\n",
      "9770927\n",
      "21 https://www.assembly.go.kr/assm/memPop/memPopup.do?dept_cd=9770927\n",
      "9771258\n",
      "22 https://www.assembly.go.kr/assm/memPop/memPopup.do?dept_cd=9771258\n",
      "9770712\n",
      "23 https://www.assembly.go.kr/assm/memPop/memPopup.do?dept_cd=9770712\n",
      "9771152\n",
      "24 https://www.assembly.go.kr/assm/memPop/memPopup.do?dept_cd=9771152\n",
      "9771164\n",
      "25 https://www.assembly.go.kr/assm/memPop/memPopup.do?dept_cd=9771164\n",
      "9771181\n",
      "26 https://www.assembly.go.kr/assm/memPop/memPopup.do?dept_cd=9771181\n",
      "9770719\n",
      "27 https://www.assembly.go.kr/assm/memPop/memPopup.do?dept_cd=9770719\n",
      "9770997\n",
      "28 https://www.assembly.go.kr/assm/memPop/memPopup.do?dept_cd=9770997\n",
      "9771136\n",
      "29 https://www.assembly.go.kr/assm/memPop/memPopup.do?dept_cd=9771136\n",
      "9770723\n",
      "30 https://www.assembly.go.kr/assm/memPop/memPopup.do?dept_cd=9770723\n",
      "9771120\n",
      "31 https://www.assembly.go.kr/assm/memPop/memPopup.do?dept_cd=9771120\n",
      "9771173\n",
      "32 https://www.assembly.go.kr/assm/memPop/memPopup.do?dept_cd=9771173\n",
      "9770941\n",
      "33 https://www.assembly.go.kr/assm/memPop/memPopup.do?dept_cd=9770941\n",
      "9770984\n",
      "34 https://www.assembly.go.kr/assm/memPop/memPopup.do?dept_cd=9770984\n",
      "9771285\n",
      "35 https://www.assembly.go.kr/assm/memPop/memPopup.do?dept_cd=9771285\n",
      "9771268\n",
      "36 https://www.assembly.go.kr/assm/memPop/memPopup.do?dept_cd=9771268\n",
      "9770725\n",
      "37 https://www.assembly.go.kr/assm/memPop/memPopup.do?dept_cd=9770725\n",
      "9770527\n",
      "38 https://www.assembly.go.kr/assm/memPop/memPopup.do?dept_cd=9770527\n",
      "9771024\n",
      "39 https://www.assembly.go.kr/assm/memPop/memPopup.do?dept_cd=9771024\n",
      "9771195\n",
      "40 https://www.assembly.go.kr/assm/memPop/memPopup.do?dept_cd=9771195\n",
      "9770985\n",
      "41 https://www.assembly.go.kr/assm/memPop/memPopup.do?dept_cd=9770985\n",
      "9771208\n",
      "42 https://www.assembly.go.kr/assm/memPop/memPopup.do?dept_cd=9771208\n",
      "9771089\n",
      "43 https://www.assembly.go.kr/assm/memPop/memPopup.do?dept_cd=9771089\n",
      "9771210\n",
      "44 https://www.assembly.go.kr/assm/memPop/memPopup.do?dept_cd=9771210\n",
      "9771220\n",
      "45 https://www.assembly.go.kr/assm/memPop/memPopup.do?dept_cd=9771220\n",
      "9771144\n",
      "46 https://www.assembly.go.kr/assm/memPop/memPopup.do?dept_cd=9771144\n",
      "9771169\n",
      "47 https://www.assembly.go.kr/assm/memPop/memPopup.do?dept_cd=9771169\n",
      "9771111\n",
      "48 https://www.assembly.go.kr/assm/memPop/memPopup.do?dept_cd=9771111\n",
      "9771225\n",
      "49 https://www.assembly.go.kr/assm/memPop/memPopup.do?dept_cd=9771225\n",
      "9770975\n",
      "50 https://www.assembly.go.kr/assm/memPop/memPopup.do?dept_cd=9770975\n",
      "9770981\n",
      "51 https://www.assembly.go.kr/assm/memPop/memPopup.do?dept_cd=9770981\n",
      "9770934\n",
      "52 https://www.assembly.go.kr/assm/memPop/memPopup.do?dept_cd=9770934\n",
      "9771249\n",
      "53 https://www.assembly.go.kr/assm/memPop/memPopup.do?dept_cd=9771249\n",
      "9771186\n",
      "54 https://www.assembly.go.kr/assm/memPop/memPopup.do?dept_cd=9771186\n",
      "9771147\n",
      "55 https://www.assembly.go.kr/assm/memPop/memPopup.do?dept_cd=9771147\n",
      "9771127\n",
      "56 https://www.assembly.go.kr/assm/memPop/memPopup.do?dept_cd=9771127\n",
      "9771214\n",
      "57 https://www.assembly.go.kr/assm/memPop/memPopup.do?dept_cd=9771214\n",
      "9771206\n",
      "58 https://www.assembly.go.kr/assm/memPop/memPopup.do?dept_cd=9771206\n",
      "9771171\n",
      "59 https://www.assembly.go.kr/assm/memPop/memPopup.do?dept_cd=9771171\n",
      "9771288\n",
      "60 https://www.assembly.go.kr/assm/memPop/memPopup.do?dept_cd=9771288\n",
      "9771023\n",
      "61 https://www.assembly.go.kr/assm/memPop/memPopup.do?dept_cd=9771023\n",
      "9771090\n",
      "62 https://www.assembly.go.kr/assm/memPop/memPopup.do?dept_cd=9771090\n",
      "9771009\n",
      "63 https://www.assembly.go.kr/assm/memPop/memPopup.do?dept_cd=9771009\n",
      "9771192\n",
      "64 https://www.assembly.go.kr/assm/memPop/memPopup.do?dept_cd=9771192\n",
      "9770982\n",
      "65 https://www.assembly.go.kr/assm/memPop/memPopup.do?dept_cd=9770982\n",
      "9770986\n",
      "66 https://www.assembly.go.kr/assm/memPop/memPopup.do?dept_cd=9770986\n",
      "9770741\n",
      "67 https://www.assembly.go.kr/assm/memPop/memPopup.do?dept_cd=9770741\n",
      "9771237\n",
      "68 https://www.assembly.go.kr/assm/memPop/memPopup.do?dept_cd=9771237\n",
      "9770742\n",
      "69 https://www.assembly.go.kr/assm/memPop/memPopup.do?dept_cd=9770742\n",
      "9770991\n",
      "70 https://www.assembly.go.kr/assm/memPop/memPopup.do?dept_cd=9770991\n",
      "9771223\n",
      "71 https://www.assembly.go.kr/assm/memPop/memPopup.do?dept_cd=9771223\n",
      "9771270\n",
      "72 https://www.assembly.go.kr/assm/memPop/memPopup.do?dept_cd=9771270\n",
      "9771216\n",
      "73 https://www.assembly.go.kr/assm/memPop/memPopup.do?dept_cd=9771216\n",
      "9771134\n",
      "74 https://www.assembly.go.kr/assm/memPop/memPopup.do?dept_cd=9771134\n",
      "9771228\n",
      "75 https://www.assembly.go.kr/assm/memPop/memPopup.do?dept_cd=9771228\n",
      "9770752\n",
      "76 https://www.assembly.go.kr/assm/memPop/memPopup.do?dept_cd=9770752\n",
      "9770753\n",
      "77 https://www.assembly.go.kr/assm/memPop/memPopup.do?dept_cd=9770753\n",
      "9770755\n",
      "78 https://www.assembly.go.kr/assm/memPop/memPopup.do?dept_cd=9770755\n",
      "9771141\n",
      "79 https://www.assembly.go.kr/assm/memPop/memPopup.do?dept_cd=9771141\n",
      "9771274\n",
      "80 https://www.assembly.go.kr/assm/memPop/memPopup.do?dept_cd=9771274\n",
      "9771091\n",
      "81 https://www.assembly.go.kr/assm/memPop/memPopup.do?dept_cd=9771091\n",
      "9771187\n",
      "82 https://www.assembly.go.kr/assm/memPop/memPopup.do?dept_cd=9771187\n",
      "9771204\n",
      "83 https://www.assembly.go.kr/assm/memPop/memPopup.do?dept_cd=9771204\n",
      "9771175\n",
      "84 https://www.assembly.go.kr/assm/memPop/memPopup.do?dept_cd=9771175\n",
      "9771159\n",
      "85 https://www.assembly.go.kr/assm/memPop/memPopup.do?dept_cd=9771159\n",
      "9770764\n",
      "86 https://www.assembly.go.kr/assm/memPop/memPopup.do?dept_cd=9770764\n",
      "9770911\n",
      "87 https://www.assembly.go.kr/assm/memPop/memPopup.do?dept_cd=9770911\n",
      "9771248\n",
      "88 https://www.assembly.go.kr/assm/memPop/memPopup.do?dept_cd=9771248\n",
      "9770767\n",
      "89 https://www.assembly.go.kr/assm/memPop/memPopup.do?dept_cd=9770767\n",
      "9770768\n",
      "90 https://www.assembly.go.kr/assm/memPop/memPopup.do?dept_cd=9770768\n",
      "9770770\n",
      "91 https://www.assembly.go.kr/assm/memPop/memPopup.do?dept_cd=9770770\n",
      "9770090\n",
      "92 https://www.assembly.go.kr/assm/memPop/memPopup.do?dept_cd=9770090\n",
      "9771193\n",
      "93 https://www.assembly.go.kr/assm/memPop/memPopup.do?dept_cd=9771193\n",
      "9771163\n",
      "94 https://www.assembly.go.kr/assm/memPop/memPopup.do?dept_cd=9771163\n",
      "9771107\n",
      "95 https://www.assembly.go.kr/assm/memPop/memPopup.do?dept_cd=9771107\n",
      "9770944\n",
      "96 https://www.assembly.go.kr/assm/memPop/memPopup.do?dept_cd=9770944\n",
      "9771135\n",
      "97 https://www.assembly.go.kr/assm/memPop/memPopup.do?dept_cd=9771135\n",
      "9771162\n",
      "98 https://www.assembly.go.kr/assm/memPop/memPopup.do?dept_cd=9771162\n",
      "9771030\n",
      "99 https://www.assembly.go.kr/assm/memPop/memPopup.do?dept_cd=9771030\n",
      "9770774\n",
      "100 https://www.assembly.go.kr/assm/memPop/memPopup.do?dept_cd=9770774\n",
      "9770929\n",
      "101 https://www.assembly.go.kr/assm/memPop/memPopup.do?dept_cd=9770929\n",
      "9770950\n",
      "102 https://www.assembly.go.kr/assm/memPop/memPopup.do?dept_cd=9770950\n",
      "9770995\n",
      "103 https://www.assembly.go.kr/assm/memPop/memPopup.do?dept_cd=9770995\n",
      "9770932\n",
      "104 https://www.assembly.go.kr/assm/memPop/memPopup.do?dept_cd=9770932\n",
      "9771125\n",
      "105 https://www.assembly.go.kr/assm/memPop/memPopup.do?dept_cd=9771125\n",
      "9770963\n",
      "106 https://www.assembly.go.kr/assm/memPop/memPopup.do?dept_cd=9770963\n",
      "9771226\n",
      "107 https://www.assembly.go.kr/assm/memPop/memPopup.do?dept_cd=9771226\n",
      "9770779\n",
      "108 https://www.assembly.go.kr/assm/memPop/memPopup.do?dept_cd=9770779\n",
      "9771148\n",
      "109 https://www.assembly.go.kr/assm/memPop/memPopup.do?dept_cd=9771148\n",
      "9771277\n",
      "110 https://www.assembly.go.kr/assm/memPop/memPopup.do?dept_cd=9771277\n",
      "9771128\n",
      "111 https://www.assembly.go.kr/assm/memPop/memPopup.do?dept_cd=9771128\n",
      "9771137\n",
      "112 https://www.assembly.go.kr/assm/memPop/memPopup.do?dept_cd=9771137\n",
      "9770980\n",
      "113 https://www.assembly.go.kr/assm/memPop/memPopup.do?dept_cd=9770980\n",
      "9770356\n",
      "114 https://www.assembly.go.kr/assm/memPop/memPopup.do?dept_cd=9770356\n",
      "9771218\n",
      "115 https://www.assembly.go.kr/assm/memPop/memPopup.do?dept_cd=9771218\n",
      "9771166\n",
      "116 https://www.assembly.go.kr/assm/memPop/memPopup.do?dept_cd=9771166\n",
      "9771133\n",
      "117 https://www.assembly.go.kr/assm/memPop/memPopup.do?dept_cd=9771133\n",
      "9771092\n",
      "118 https://www.assembly.go.kr/assm/memPop/memPopup.do?dept_cd=9771092\n",
      "9770784\n",
      "119 https://www.assembly.go.kr/assm/memPop/memPopup.do?dept_cd=9770784\n",
      "9771176\n",
      "120 https://www.assembly.go.kr/assm/memPop/memPopup.do?dept_cd=9771176\n",
      "9771236\n",
      "121 https://www.assembly.go.kr/assm/memPop/memPopup.do?dept_cd=9771236\n",
      "9771254\n",
      "122 https://www.assembly.go.kr/assm/memPop/memPopup.do?dept_cd=9771254\n",
      "9770786\n",
      "123 https://www.assembly.go.kr/assm/memPop/memPopup.do?dept_cd=9770786\n",
      "9771008\n",
      "124 https://www.assembly.go.kr/assm/memPop/memPopup.do?dept_cd=9771008\n",
      "9771217\n",
      "125 https://www.assembly.go.kr/assm/memPop/memPopup.do?dept_cd=9771217\n",
      "9770999\n",
      "126 https://www.assembly.go.kr/assm/memPop/memPopup.do?dept_cd=9770999\n",
      "9771093\n",
      "127 https://www.assembly.go.kr/assm/memPop/memPopup.do?dept_cd=9771093\n",
      "9771001\n",
      "128 https://www.assembly.go.kr/assm/memPop/memPopup.do?dept_cd=9771001\n",
      "9770996\n",
      "129 https://www.assembly.go.kr/assm/memPop/memPopup.do?dept_cd=9770996\n",
      "9771094\n",
      "130 https://www.assembly.go.kr/assm/memPop/memPopup.do?dept_cd=9771094\n",
      "9770967\n",
      "131 https://www.assembly.go.kr/assm/memPop/memPopup.do?dept_cd=9770967\n",
      "9771058\n",
      "132 https://www.assembly.go.kr/assm/memPop/memPopup.do?dept_cd=9771058\n",
      "9771238\n",
      "133 https://www.assembly.go.kr/assm/memPop/memPopup.do?dept_cd=9771238\n",
      "9770968\n",
      "134 https://www.assembly.go.kr/assm/memPop/memPopup.do?dept_cd=9770968\n",
      "9771209\n",
      "135 https://www.assembly.go.kr/assm/memPop/memPopup.do?dept_cd=9771209\n",
      "9771246\n",
      "136 https://www.assembly.go.kr/assm/memPop/memPopup.do?dept_cd=9771246\n",
      "9771219\n",
      "137 https://www.assembly.go.kr/assm/memPop/memPopup.do?dept_cd=9771219\n",
      "9771257\n",
      "138 https://www.assembly.go.kr/assm/memPop/memPopup.do?dept_cd=9771257\n",
      "9770869\n",
      "139 https://www.assembly.go.kr/assm/memPop/memPopup.do?dept_cd=9770869\n",
      "9770587\n",
      "140 https://www.assembly.go.kr/assm/memPop/memPopup.do?dept_cd=9770587\n",
      "9770372\n",
      "141 https://www.assembly.go.kr/assm/memPop/memPopup.do?dept_cd=9770372\n",
      "9771132\n",
      "142 https://www.assembly.go.kr/assm/memPop/memPopup.do?dept_cd=9771132\n",
      "9771017\n",
      "143 https://www.assembly.go.kr/assm/memPop/memPopup.do?dept_cd=9771017\n",
      "9771273\n",
      "144 https://www.assembly.go.kr/assm/memPop/memPopup.do?dept_cd=9771273\n",
      "9771143\n",
      "145 https://www.assembly.go.kr/assm/memPop/memPopup.do?dept_cd=9771143\n",
      "9771178\n",
      "146 https://www.assembly.go.kr/assm/memPop/memPopup.do?dept_cd=9771178\n",
      "9771287\n",
      "147 https://www.assembly.go.kr/assm/memPop/memPopup.do?dept_cd=9771287\n",
      "9771271\n",
      "148 https://www.assembly.go.kr/assm/memPop/memPopup.do?dept_cd=9771271\n",
      "9771155\n",
      "149 https://www.assembly.go.kr/assm/memPop/memPopup.do?dept_cd=9771155\n",
      "9771010\n",
      "150 https://www.assembly.go.kr/assm/memPop/memPopup.do?dept_cd=9771010\n",
      "9771202\n",
      "151 https://www.assembly.go.kr/assm/memPop/memPopup.do?dept_cd=9771202\n",
      "9771113\n",
      "152 https://www.assembly.go.kr/assm/memPop/memPopup.do?dept_cd=9771113\n",
      "9771172\n",
      "153 https://www.assembly.go.kr/assm/memPop/memPopup.do?dept_cd=9771172\n",
      "9771037\n",
      "154 https://www.assembly.go.kr/assm/memPop/memPopup.do?dept_cd=9771037\n",
      "9771261\n",
      "155 https://www.assembly.go.kr/assm/memPop/memPopup.do?dept_cd=9771261\n",
      "9770871\n",
      "156 https://www.assembly.go.kr/assm/memPop/memPopup.do?dept_cd=9770871\n",
      "9770872\n",
      "157 https://www.assembly.go.kr/assm/memPop/memPopup.do?dept_cd=9770872\n",
      "9771038\n",
      "158 https://www.assembly.go.kr/assm/memPop/memPopup.do?dept_cd=9771038\n",
      "9771126\n",
      "159 https://www.assembly.go.kr/assm/memPop/memPopup.do?dept_cd=9771126\n",
      "9771121\n",
      "160 https://www.assembly.go.kr/assm/memPop/memPopup.do?dept_cd=9771121\n",
      "9770966\n",
      "161 https://www.assembly.go.kr/assm/memPop/memPopup.do?dept_cd=9770966\n",
      "9771199\n",
      "162 https://www.assembly.go.kr/assm/memPop/memPopup.do?dept_cd=9771199\n",
      "9770912\n",
      "163 https://www.assembly.go.kr/assm/memPop/memPopup.do?dept_cd=9770912\n",
      "9771266\n",
      "164 https://www.assembly.go.kr/assm/memPop/memPopup.do?dept_cd=9771266\n",
      "9771118\n",
      "165 https://www.assembly.go.kr/assm/memPop/memPopup.do?dept_cd=9771118\n",
      "9770808\n",
      "166 https://www.assembly.go.kr/assm/memPop/memPopup.do?dept_cd=9770808\n",
      "9771227\n",
      "167 https://www.assembly.go.kr/assm/memPop/memPopup.do?dept_cd=9771227\n",
      "9771263\n",
      "168 https://www.assembly.go.kr/assm/memPop/memPopup.do?dept_cd=9771263\n",
      "9770598\n",
      "169 https://www.assembly.go.kr/assm/memPop/memPopup.do?dept_cd=9770598\n",
      "9771153\n",
      "170 https://www.assembly.go.kr/assm/memPop/memPopup.do?dept_cd=9771153\n",
      "9770811\n",
      "171 https://www.assembly.go.kr/assm/memPop/memPopup.do?dept_cd=9770811\n",
      "9771170\n",
      "172 https://www.assembly.go.kr/assm/memPop/memPopup.do?dept_cd=9771170\n",
      "9771221\n",
      "173 https://www.assembly.go.kr/assm/memPop/memPopup.do?dept_cd=9771221\n",
      "9770812\n",
      "174 https://www.assembly.go.kr/assm/memPop/memPopup.do?dept_cd=9770812\n",
      "9771239\n",
      "175 https://www.assembly.go.kr/assm/memPop/memPopup.do?dept_cd=9771239\n",
      "9771212\n",
      "176 https://www.assembly.go.kr/assm/memPop/memPopup.do?dept_cd=9771212\n",
      "9771240\n",
      "177 https://www.assembly.go.kr/assm/memPop/memPopup.do?dept_cd=9771240\n",
      "9771032\n",
      "178 https://www.assembly.go.kr/assm/memPop/memPopup.do?dept_cd=9771032\n",
      "9770876\n",
      "179 https://www.assembly.go.kr/assm/memPop/memPopup.do?dept_cd=9770876\n",
      "9770813\n",
      "180 https://www.assembly.go.kr/assm/memPop/memPopup.do?dept_cd=9770813\n",
      "9770905\n",
      "181 https://www.assembly.go.kr/assm/memPop/memPopup.do?dept_cd=9770905\n",
      "9771198\n",
      "182 https://www.assembly.go.kr/assm/memPop/memPopup.do?dept_cd=9771198\n",
      "9771232\n",
      "183 https://www.assembly.go.kr/assm/memPop/memPopup.do?dept_cd=9771232\n",
      "9771260\n",
      "184 https://www.assembly.go.kr/assm/memPop/memPopup.do?dept_cd=9771260\n",
      "9771028\n",
      "185 https://www.assembly.go.kr/assm/memPop/memPopup.do?dept_cd=9771028\n",
      "9770602\n",
      "186 https://www.assembly.go.kr/assm/memPop/memPopup.do?dept_cd=9770602\n",
      "9771154\n",
      "187 https://www.assembly.go.kr/assm/memPop/memPopup.do?dept_cd=9771154\n",
      "9770414\n",
      "188 https://www.assembly.go.kr/assm/memPop/memPopup.do?dept_cd=9770414\n",
      "9771207\n",
      "189 https://www.assembly.go.kr/assm/memPop/memPopup.do?dept_cd=9771207\n",
      "9771098\n",
      "190 https://www.assembly.go.kr/assm/memPop/memPopup.do?dept_cd=9771098\n",
      "9771151\n",
      "191 https://www.assembly.go.kr/assm/memPop/memPopup.do?dept_cd=9771151\n",
      "9771185\n",
      "192 https://www.assembly.go.kr/assm/memPop/memPopup.do?dept_cd=9771185\n",
      "9771284\n",
      "193 https://www.assembly.go.kr/assm/memPop/memPopup.do?dept_cd=9771284\n",
      "9771269\n",
      "194 https://www.assembly.go.kr/assm/memPop/memPopup.do?dept_cd=9771269\n",
      "9771003\n",
      "195 https://www.assembly.go.kr/assm/memPop/memPopup.do?dept_cd=9771003\n",
      "9771251\n",
      "196 https://www.assembly.go.kr/assm/memPop/memPopup.do?dept_cd=9771251\n",
      "9771255\n",
      "197 https://www.assembly.go.kr/assm/memPop/memPopup.do?dept_cd=9771255\n",
      "9771158\n",
      "198 https://www.assembly.go.kr/assm/memPop/memPopup.do?dept_cd=9771158\n",
      "9771115\n",
      "199 https://www.assembly.go.kr/assm/memPop/memPopup.do?dept_cd=9771115\n",
      "9771184\n",
      "200 https://www.assembly.go.kr/assm/memPop/memPopup.do?dept_cd=9771184\n",
      "9771015\n",
      "201 https://www.assembly.go.kr/assm/memPop/memPopup.do?dept_cd=9771015\n",
      "9770826\n",
      "202 https://www.assembly.go.kr/assm/memPop/memPopup.do?dept_cd=9770826\n",
      "9771213\n",
      "203 https://www.assembly.go.kr/assm/memPop/memPopup.do?dept_cd=9771213\n",
      "9771278\n",
      "204 https://www.assembly.go.kr/assm/memPop/memPopup.do?dept_cd=9771278\n",
      "9770878\n",
      "205 https://www.assembly.go.kr/assm/memPop/memPopup.do?dept_cd=9770878\n",
      "9771201\n",
      "206 https://www.assembly.go.kr/assm/memPop/memPopup.do?dept_cd=9771201\n",
      "9771060\n",
      "207 https://www.assembly.go.kr/assm/memPop/memPopup.do?dept_cd=9771060\n",
      "9771205\n",
      "208 https://www.assembly.go.kr/assm/memPop/memPopup.do?dept_cd=9771205\n",
      "9770914\n",
      "209 https://www.assembly.go.kr/assm/memPop/memPopup.do?dept_cd=9770914\n",
      "9771242\n",
      "210 https://www.assembly.go.kr/assm/memPop/memPopup.do?dept_cd=9771242\n",
      "9771138\n",
      "211 https://www.assembly.go.kr/assm/memPop/memPopup.do?dept_cd=9771138\n",
      "9770835\n",
      "212 https://www.assembly.go.kr/assm/memPop/memPopup.do?dept_cd=9770835\n",
      "9771002\n",
      "213 https://www.assembly.go.kr/assm/memPop/memPopup.do?dept_cd=9771002\n",
      "9771190\n",
      "214 https://www.assembly.go.kr/assm/memPop/memPopup.do?dept_cd=9771190\n",
      "9771280\n",
      "215 https://www.assembly.go.kr/assm/memPop/memPopup.do?dept_cd=9771280\n",
      "9770836\n",
      "216 https://www.assembly.go.kr/assm/memPop/memPopup.do?dept_cd=9770836\n",
      "9771129\n",
      "217 https://www.assembly.go.kr/assm/memPop/memPopup.do?dept_cd=9771129\n",
      "9770837\n",
      "218 https://www.assembly.go.kr/assm/memPop/memPopup.do?dept_cd=9770837\n",
      "9771157\n",
      "219 https://www.assembly.go.kr/assm/memPop/memPopup.do?dept_cd=9771157\n",
      "9770839\n",
      "220 https://www.assembly.go.kr/assm/memPop/memPopup.do?dept_cd=9770839\n",
      "9771177\n",
      "221 https://www.assembly.go.kr/assm/memPop/memPopup.do?dept_cd=9771177\n",
      "9771041\n",
      "222 https://www.assembly.go.kr/assm/memPop/memPopup.do?dept_cd=9771041\n",
      "9771000\n",
      "223 https://www.assembly.go.kr/assm/memPop/memPopup.do?dept_cd=9771000\n",
      "9771203\n",
      "224 https://www.assembly.go.kr/assm/memPop/memPopup.do?dept_cd=9771203\n",
      "9771110\n",
      "225 https://www.assembly.go.kr/assm/memPop/memPopup.do?dept_cd=9771110\n",
      "9770954\n",
      "226 https://www.assembly.go.kr/assm/memPop/memPopup.do?dept_cd=9770954\n",
      "9771160\n",
      "227 https://www.assembly.go.kr/assm/memPop/memPopup.do?dept_cd=9771160\n",
      "9771275\n",
      "228 https://www.assembly.go.kr/assm/memPop/memPopup.do?dept_cd=9771275\n",
      "9771139\n",
      "229 https://www.assembly.go.kr/assm/memPop/memPopup.do?dept_cd=9771139\n",
      "9771272\n",
      "230 https://www.assembly.go.kr/assm/memPop/memPopup.do?dept_cd=9771272\n",
      "9770951\n",
      "231 https://www.assembly.go.kr/assm/memPop/memPopup.do?dept_cd=9770951\n",
      "9771253\n",
      "232 https://www.assembly.go.kr/assm/memPop/memPopup.do?dept_cd=9771253\n",
      "9770846\n",
      "233 https://www.assembly.go.kr/assm/memPop/memPopup.do?dept_cd=9770846\n",
      "9770926\n",
      "234 https://www.assembly.go.kr/assm/memPop/memPopup.do?dept_cd=9770926\n",
      "9771245\n",
      "235 https://www.assembly.go.kr/assm/memPop/memPopup.do?dept_cd=9771245\n",
      "9771140\n",
      "236 https://www.assembly.go.kr/assm/memPop/memPopup.do?dept_cd=9771140\n",
      "9770881\n",
      "237 https://www.assembly.go.kr/assm/memPop/memPopup.do?dept_cd=9770881\n",
      "9771012\n",
      "238 https://www.assembly.go.kr/assm/memPop/memPopup.do?dept_cd=9771012\n",
      "9771150\n",
      "239 https://www.assembly.go.kr/assm/memPop/memPopup.do?dept_cd=9771150\n",
      "9771103\n",
      "240 https://www.assembly.go.kr/assm/memPop/memPopup.do?dept_cd=9771103\n",
      "9771006\n",
      "241 https://www.assembly.go.kr/assm/memPop/memPopup.do?dept_cd=9771006\n",
      "9771189\n",
      "242 https://www.assembly.go.kr/assm/memPop/memPopup.do?dept_cd=9771189\n",
      "9771114\n",
      "243 https://www.assembly.go.kr/assm/memPop/memPopup.do?dept_cd=9771114\n",
      "9771068\n",
      "244 https://www.assembly.go.kr/assm/memPop/memPopup.do?dept_cd=9771068\n",
      "9771122\n",
      "245 https://www.assembly.go.kr/assm/memPop/memPopup.do?dept_cd=9771122\n",
      "9771264\n",
      "246 https://www.assembly.go.kr/assm/memPop/memPopup.do?dept_cd=9771264\n",
      "9771229\n",
      "247 https://www.assembly.go.kr/assm/memPop/memPopup.do?dept_cd=9771229\n",
      "9770450\n",
      "248 https://www.assembly.go.kr/assm/memPop/memPopup.do?dept_cd=9770450\n",
      "9771247\n",
      "249 https://www.assembly.go.kr/assm/memPop/memPopup.do?dept_cd=9771247\n",
      "9771243\n",
      "250 https://www.assembly.go.kr/assm/memPop/memPopup.do?dept_cd=9771243\n",
      "9770973\n",
      "251 https://www.assembly.go.kr/assm/memPop/memPopup.do?dept_cd=9770973\n",
      "9771156\n",
      "252 https://www.assembly.go.kr/assm/memPop/memPopup.do?dept_cd=9771156\n",
      "9770990\n",
      "253 https://www.assembly.go.kr/assm/memPop/memPopup.do?dept_cd=9770990\n",
      "9770456\n",
      "254 https://www.assembly.go.kr/assm/memPop/memPopup.do?dept_cd=9770456\n",
      "9771262\n",
      "255 https://www.assembly.go.kr/assm/memPop/memPopup.do?dept_cd=9771262\n",
      "9771244\n",
      "256 https://www.assembly.go.kr/assm/memPop/memPopup.do?dept_cd=9771244\n",
      "9771235\n",
      "257 https://www.assembly.go.kr/assm/memPop/memPopup.do?dept_cd=9771235\n",
      "9771215\n",
      "258 https://www.assembly.go.kr/assm/memPop/memPopup.do?dept_cd=9771215\n",
      "9770883\n",
      "259 https://www.assembly.go.kr/assm/memPop/memPopup.do?dept_cd=9770883\n",
      "9771250\n",
      "260 https://www.assembly.go.kr/assm/memPop/memPopup.do?dept_cd=9771250\n",
      "9770852\n",
      "261 https://www.assembly.go.kr/assm/memPop/memPopup.do?dept_cd=9770852\n",
      "9771117\n",
      "262 https://www.assembly.go.kr/assm/memPop/memPopup.do?dept_cd=9771117\n",
      "9771112\n",
      "263 https://www.assembly.go.kr/assm/memPop/memPopup.do?dept_cd=9771112\n",
      "9771282\n",
      "264 https://www.assembly.go.kr/assm/memPop/memPopup.do?dept_cd=9771282\n",
      "9771119\n",
      "265 https://www.assembly.go.kr/assm/memPop/memPopup.do?dept_cd=9771119\n",
      "9771252\n",
      "266 https://www.assembly.go.kr/assm/memPop/memPopup.do?dept_cd=9771252\n",
      "9771279\n",
      "267 https://www.assembly.go.kr/assm/memPop/memPopup.do?dept_cd=9771279\n",
      "9770952\n",
      "268 https://www.assembly.go.kr/assm/memPop/memPopup.do?dept_cd=9770952\n",
      "9771188\n",
      "269 https://www.assembly.go.kr/assm/memPop/memPopup.do?dept_cd=9771188\n",
      "9771194\n",
      "270 https://www.assembly.go.kr/assm/memPop/memPopup.do?dept_cd=9771194\n",
      "9771231\n",
      "271 https://www.assembly.go.kr/assm/memPop/memPopup.do?dept_cd=9771231\n",
      "9771267\n",
      "272 https://www.assembly.go.kr/assm/memPop/memPopup.do?dept_cd=9771267\n",
      "9770962\n",
      "273 https://www.assembly.go.kr/assm/memPop/memPopup.do?dept_cd=9770962\n",
      "9771286\n",
      "274 https://www.assembly.go.kr/assm/memPop/memPopup.do?dept_cd=9771286\n",
      "9771234\n",
      "275 https://www.assembly.go.kr/assm/memPop/memPopup.do?dept_cd=9771234\n",
      "9770858\n",
      "276 https://www.assembly.go.kr/assm/memPop/memPopup.do?dept_cd=9770858\n",
      "9771197\n",
      "277 https://www.assembly.go.kr/assm/memPop/memPopup.do?dept_cd=9771197\n",
      "9771241\n",
      "278 https://www.assembly.go.kr/assm/memPop/memPopup.do?dept_cd=9771241\n",
      "9771211\n",
      "279 https://www.assembly.go.kr/assm/memPop/memPopup.do?dept_cd=9771211\n",
      "9770859\n",
      "280 https://www.assembly.go.kr/assm/memPop/memPopup.do?dept_cd=9770859\n",
      "9771182\n",
      "281 https://www.assembly.go.kr/assm/memPop/memPopup.do?dept_cd=9771182\n",
      "9771196\n",
      "282 https://www.assembly.go.kr/assm/memPop/memPopup.do?dept_cd=9771196\n",
      "9771256\n",
      "283 https://www.assembly.go.kr/assm/memPop/memPopup.do?dept_cd=9771256\n",
      "9771149\n",
      "284 https://www.assembly.go.kr/assm/memPop/memPopup.do?dept_cd=9771149\n",
      "9771179\n",
      "285 https://www.assembly.go.kr/assm/memPop/memPopup.do?dept_cd=9771179\n",
      "9770886\n",
      "286 https://www.assembly.go.kr/assm/memPop/memPopup.do?dept_cd=9770886\n",
      "9771146\n",
      "287 https://www.assembly.go.kr/assm/memPop/memPopup.do?dept_cd=9771146\n",
      "9771167\n",
      "288 https://www.assembly.go.kr/assm/memPop/memPopup.do?dept_cd=9771167\n",
      "9770676\n",
      "289 https://www.assembly.go.kr/assm/memPop/memPopup.do?dept_cd=9770676\n",
      "9770864\n",
      "290 https://www.assembly.go.kr/assm/memPop/memPopup.do?dept_cd=9770864\n",
      "9771183\n",
      "291 https://www.assembly.go.kr/assm/memPop/memPopup.do?dept_cd=9771183\n",
      "9771145\n",
      "292 https://www.assembly.go.kr/assm/memPop/memPopup.do?dept_cd=9771145\n",
      "9771130\n",
      "293 https://www.assembly.go.kr/assm/memPop/memPopup.do?dept_cd=9771130\n",
      "9771161\n",
      "294 https://www.assembly.go.kr/assm/memPop/memPopup.do?dept_cd=9771161\n",
      "9770936\n",
      "295 https://www.assembly.go.kr/assm/memPop/memPopup.do?dept_cd=9770936\n",
      "295\n",
      "------ Scraping Done. ------\n"
     ]
    }
   ],
   "source": [
    "# 국회의원의 상세 페이지에서 상세 정보 추출 및 dict에 저장\n",
    "\n",
    "mem_detail_list = []\n",
    "\n",
    "for idx, member_id in enumerate(mem_id_list, 1):\n",
    "    print(member_id)\n",
    "    detail_url = f\"https://www.assembly.go.kr/assm/memPop/memPopup.do?dept_cd={member_id}\"\n",
    "    print(idx, detail_url)\n",
    "    res = requests.get(detail_url)\n",
    "\n",
    "    if res.ok:\n",
    "        soup = BeautifulSoup(res.text, 'lxml')\n",
    "\n",
    "        # html 문서를 분석해보면 dl 태그 pro_detail 클래스 하위에 dt와 dd 태그가 번갈아 가면서 배치되어 있는데\n",
    "        # dt는 키, dd는 값 형태로 표현된다. 이에 dt와 dd 값을 각각 리스트로 담아서 zip 함수를 통해 한번에 dict로\n",
    "        # 담는다.\n",
    "\n",
    "        mem_detail_dict = {}\n",
    "\n",
    "        dt_list = []\n",
    "        for dt_tag in soup.select('dl.pro_detail dt'):\n",
    "            pattern = re.compile(f'[\\n\\r\\t]')\n",
    "            dt_txt = pattern.sub('', dt_tag.text.strip()).replace(\" \",\"\")\n",
    "            dt_list.append(dt_txt)\n",
    "\n",
    "        dd_list = []\n",
    "        for dd_tag in soup.select('dl.pro_detail dd'):\n",
    "            pattern = re.compile(f'[\\n\\r\\t]')\n",
    "            dd_txt = pattern.sub('', dd_tag.text.strip()).replace(\" \",\"\")\n",
    "            dd_list.append(dd_txt)\n",
    "\n",
    "        mem_detail_dict = dict(zip(dt_list, dd_list))\n",
    "\n",
    "        # print(len(soup.select('div.profile')))\n",
    "        for div_tag in soup.select('div.profile'):\n",
    "            # print(div_tag)\n",
    "            # print(div_tag.find('h4').text)\n",
    "            mem_detail_dict['이름']=div_tag.find('h4').text\n",
    "\n",
    "            img_tag = div_tag.select('img')\n",
    "            if img_tag:\n",
    "                mem_detail_dict['이미지'] = urljoin(detail_url, img_tag[0]['src'])\n",
    "\n",
    "            mem_detail_dict['생년월일'] = div_tag.select_one('li:nth-of-type(4)').text\n",
    "        # print(mem_detail_dict)\n",
    "\n",
    "        mem_detail_list.append(mem_detail_dict)\n",
    "\n",
    "print(len(mem_detail_list))\n",
    "print('------ Scraping Done. ------')\n"
   ],
   "metadata": {
    "collapsed": false,
    "pycharm": {
     "name": "#%%\n"
    }
   }
  },
  {
   "cell_type": "code",
   "execution_count": 49,
   "outputs": [],
   "source": [
    "with open('data/member.json', 'w', encoding='utf-8') as file:\n",
    "    json.dump(mem_detail_list, file)"
   ],
   "metadata": {
    "collapsed": false,
    "pycharm": {
     "name": "#%%\n"
    }
   }
  },
  {
   "cell_type": "code",
   "execution_count": 3,
   "outputs": [
    {
     "name": "stdout",
     "output_type": "stream",
     "text": [
      "(295, 16)\n"
     ]
    }
   ],
   "source": [
    "mem_df = pd.read_json('data/member.json')\n",
    "print(mem_df.shape)"
   ],
   "metadata": {
    "collapsed": false,
    "pycharm": {
     "name": "#%%\n"
    }
   }
  },
  {
   "cell_type": "code",
   "source": [
    "mem_df['정당'].value_counts()"
   ],
   "metadata": {
    "collapsed": false,
    "pycharm": {
     "name": "#%%\n"
    }
   },
   "execution_count": 51,
   "outputs": [
    {
     "data": {
      "text/plain": "더불어민주당    172\n국민의힘      106\n정의당         6\n무소속         6\n국민의당        3\n기본소득당       1\n시대전환        1\nName: 정당, dtype: int64"
     },
     "execution_count": 51,
     "metadata": {},
     "output_type": "execute_result"
    }
   ]
  },
  {
   "cell_type": "code",
   "execution_count": 52,
   "outputs": [
    {
     "data": {
      "text/plain": "비례대표              47\n경남창원시성산구           1\n광주광산구갑             1\n전남담양군함평군영광군장성군     1\n강원원주시갑             1\n                  ..\n경남창원시의창구           1\n충남천안시을             1\n서울강북구을             1\n부산남구을              1\n서울양천구갑             1\nName: 선거구, Length: 249, dtype: int64"
     },
     "execution_count": 52,
     "metadata": {},
     "output_type": "execute_result"
    }
   ],
   "source": [
    "mem_df['선거구'].value_counts()"
   ],
   "metadata": {
    "collapsed": false,
    "pycharm": {
     "name": "#%%\n"
    }
   }
  },
  {
   "cell_type": "code",
   "execution_count": 4,
   "outputs": [
    {
     "name": "stdout",
     "output_type": "stream",
     "text": [
      "<class 'pandas.core.series.Series'>\n",
      "<class 'pandas.core.strings.accessor.StringMethods'>\n"
     ]
    },
    {
     "data": {
      "text/plain": "          당선횟수 당선횟수2\n0  재선(19대,21대)    재선\n1      초선(21대)    초선\n2      초선(21대)    초선\n3      초선(21대)    초선",
      "text/html": "<div>\n<style scoped>\n    .dataframe tbody tr th:only-of-type {\n        vertical-align: middle;\n    }\n\n    .dataframe tbody tr th {\n        vertical-align: top;\n    }\n\n    .dataframe thead th {\n        text-align: right;\n    }\n</style>\n<table border=\"1\" class=\"dataframe\">\n  <thead>\n    <tr style=\"text-align: right;\">\n      <th></th>\n      <th>당선횟수</th>\n      <th>당선횟수2</th>\n    </tr>\n  </thead>\n  <tbody>\n    <tr>\n      <th>0</th>\n      <td>재선(19대,21대)</td>\n      <td>재선</td>\n    </tr>\n    <tr>\n      <th>1</th>\n      <td>초선(21대)</td>\n      <td>초선</td>\n    </tr>\n    <tr>\n      <th>2</th>\n      <td>초선(21대)</td>\n      <td>초선</td>\n    </tr>\n    <tr>\n      <th>3</th>\n      <td>초선(21대)</td>\n      <td>초선</td>\n    </tr>\n  </tbody>\n</table>\n</div>"
     },
     "execution_count": 4,
     "metadata": {},
     "output_type": "execute_result"
    }
   ],
   "source": [
    "print(type(mem_df['당선횟수']))\n",
    "print(type(mem_df['당선횟수']).str)\n",
    "\n",
    "temp_str = mem_df['당선횟수'].str\n",
    "\n",
    "mem_df['당선횟수2'] = temp_str[:2]\n",
    "\n",
    "mem_df.loc[0:3, ['당선횟수', '당선횟수2']]"
   ],
   "metadata": {
    "collapsed": false,
    "pycharm": {
     "name": "#%%\n"
    }
   }
  },
  {
   "cell_type": "code",
   "execution_count": 56,
   "outputs": [
    {
     "data": {
      "text/plain": "초선    149\n재선     72\n3선     42\n4선     19\n5선     12\n6선      1\nName: 당선횟수2, dtype: int64"
     },
     "execution_count": 56,
     "metadata": {},
     "output_type": "execute_result"
    }
   ],
   "source": [
    "mem_df['당선횟수2'].value_counts()"
   ],
   "metadata": {
    "collapsed": false,
    "pycharm": {
     "name": "#%%\n"
    }
   }
  },
  {
   "cell_type": "code",
   "execution_count": 57,
   "outputs": [
    {
     "data": {
      "text/plain": "     정당    선거구 소속위원회                         당선횟수         사무실전화     사무실호실  \\\n91  무소속  대전서구갑        6선(16대,17대,18대,19대,20대,21대)  02-6788-6461  의원회관804호   \n\n   홈페이지                이메일      보좌관      비서관                   비서 취미,특기 의원실안내  \\\n91       pbs2100@gmail.com  박승규,송석근  김민숙,좌승택  이영해,조연길,최지연,임규보,이초롱               \n\n     이름                                           이미지        생년월일 당선횟수2  \n91  박병석  https://www.assembly.go.kr/photo/9770090.jpg  1952-01-25    6선  ",
      "text/html": "<div>\n<style scoped>\n    .dataframe tbody tr th:only-of-type {\n        vertical-align: middle;\n    }\n\n    .dataframe tbody tr th {\n        vertical-align: top;\n    }\n\n    .dataframe thead th {\n        text-align: right;\n    }\n</style>\n<table border=\"1\" class=\"dataframe\">\n  <thead>\n    <tr style=\"text-align: right;\">\n      <th></th>\n      <th>정당</th>\n      <th>선거구</th>\n      <th>소속위원회</th>\n      <th>당선횟수</th>\n      <th>사무실전화</th>\n      <th>사무실호실</th>\n      <th>홈페이지</th>\n      <th>이메일</th>\n      <th>보좌관</th>\n      <th>비서관</th>\n      <th>비서</th>\n      <th>취미,특기</th>\n      <th>의원실안내</th>\n      <th>이름</th>\n      <th>이미지</th>\n      <th>생년월일</th>\n      <th>당선횟수2</th>\n    </tr>\n  </thead>\n  <tbody>\n    <tr>\n      <th>91</th>\n      <td>무소속</td>\n      <td>대전서구갑</td>\n      <td></td>\n      <td>6선(16대,17대,18대,19대,20대,21대)</td>\n      <td>02-6788-6461</td>\n      <td>의원회관804호</td>\n      <td></td>\n      <td>pbs2100@gmail.com</td>\n      <td>박승규,송석근</td>\n      <td>김민숙,좌승택</td>\n      <td>이영해,조연길,최지연,임규보,이초롱</td>\n      <td></td>\n      <td></td>\n      <td>박병석</td>\n      <td>https://www.assembly.go.kr/photo/9770090.jpg</td>\n      <td>1952-01-25</td>\n      <td>6선</td>\n    </tr>\n  </tbody>\n</table>\n</div>"
     },
     "execution_count": 57,
     "metadata": {},
     "output_type": "execute_result"
    }
   ],
   "source": [
    "mem_df.loc[mem_df['당선횟수2'] == '6선']"
   ],
   "metadata": {
    "collapsed": false,
    "pycharm": {
     "name": "#%%\n"
    }
   }
  },
  {
   "cell_type": "code",
   "execution_count": 5,
   "outputs": [
    {
     "data": {
      "text/plain": "        선거구 선거구2\n0  경남창원시성산구   경남\n1     대구동구을   대구\n2  경기안양시만안구   경기\n3    경남진주시을   경남",
      "text/html": "<div>\n<style scoped>\n    .dataframe tbody tr th:only-of-type {\n        vertical-align: middle;\n    }\n\n    .dataframe tbody tr th {\n        vertical-align: top;\n    }\n\n    .dataframe thead th {\n        text-align: right;\n    }\n</style>\n<table border=\"1\" class=\"dataframe\">\n  <thead>\n    <tr style=\"text-align: right;\">\n      <th></th>\n      <th>선거구</th>\n      <th>선거구2</th>\n    </tr>\n  </thead>\n  <tbody>\n    <tr>\n      <th>0</th>\n      <td>경남창원시성산구</td>\n      <td>경남</td>\n    </tr>\n    <tr>\n      <th>1</th>\n      <td>대구동구을</td>\n      <td>대구</td>\n    </tr>\n    <tr>\n      <th>2</th>\n      <td>경기안양시만안구</td>\n      <td>경기</td>\n    </tr>\n    <tr>\n      <th>3</th>\n      <td>경남진주시을</td>\n      <td>경남</td>\n    </tr>\n  </tbody>\n</table>\n</div>"
     },
     "execution_count": 5,
     "metadata": {},
     "output_type": "execute_result"
    }
   ],
   "source": [
    "temp_str = mem_df['선거구'].str\n",
    "mem_df['선거구2'] = temp_str[:2]\n",
    "mem_df.loc[0:3, ['선거구', '선거구2']]"
   ],
   "metadata": {
    "collapsed": false,
    "pycharm": {
     "name": "#%%\n"
    }
   }
  },
  {
   "cell_type": "code",
   "execution_count": 60,
   "outputs": [
    {
     "data": {
      "text/plain": "경기    0.196610\n비례    0.159322\n서울    0.159322\n부산    0.061017\n경남    0.054237\n경북    0.044068\n인천    0.044068\n충남    0.037288\n대구    0.037288\n전북    0.033898\n전남    0.033898\n광주    0.027119\n강원    0.027119\n충북    0.023729\n대전    0.023729\n울산    0.020339\n제주    0.010169\n세종    0.006780\nName: 선거구2, dtype: float64"
     },
     "execution_count": 60,
     "metadata": {},
     "output_type": "execute_result"
    }
   ],
   "source": [
    "mem_df['선거구2'].value_counts(normalize=True)"
   ],
   "metadata": {
    "collapsed": false,
    "pycharm": {
     "name": "#%%\n"
    }
   }
  },
  {
   "cell_type": "code",
   "execution_count": 62,
   "outputs": [
    {
     "data": {
      "text/plain": "0    1960-06-04\n1    1959-11-02\n2    1963-05-27\nName: 생년월일, dtype: object"
     },
     "execution_count": 62,
     "metadata": {},
     "output_type": "execute_result"
    }
   ],
   "source": [
    "mem_df['생년월일'].head(3)"
   ],
   "metadata": {
    "collapsed": false,
    "pycharm": {
     "name": "#%%\n"
    }
   }
  },
  {
   "cell_type": "code",
   "execution_count": 6,
   "outputs": [
    {
     "name": "stdout",
     "output_type": "stream",
     "text": [
      "int64\n"
     ]
    },
    {
     "data": {
      "text/plain": "   year  month  day\n0  1960      6    4\n1  1959     11    2\n2  1963      5   27\n3  1971      3    3",
      "text/html": "<div>\n<style scoped>\n    .dataframe tbody tr th:only-of-type {\n        vertical-align: middle;\n    }\n\n    .dataframe tbody tr th {\n        vertical-align: top;\n    }\n\n    .dataframe thead th {\n        text-align: right;\n    }\n</style>\n<table border=\"1\" class=\"dataframe\">\n  <thead>\n    <tr style=\"text-align: right;\">\n      <th></th>\n      <th>year</th>\n      <th>month</th>\n      <th>day</th>\n    </tr>\n  </thead>\n  <tbody>\n    <tr>\n      <th>0</th>\n      <td>1960</td>\n      <td>6</td>\n      <td>4</td>\n    </tr>\n    <tr>\n      <th>1</th>\n      <td>1959</td>\n      <td>11</td>\n      <td>2</td>\n    </tr>\n    <tr>\n      <th>2</th>\n      <td>1963</td>\n      <td>5</td>\n      <td>27</td>\n    </tr>\n    <tr>\n      <th>3</th>\n      <td>1971</td>\n      <td>3</td>\n      <td>3</td>\n    </tr>\n  </tbody>\n</table>\n</div>"
     },
     "execution_count": 6,
     "metadata": {},
     "output_type": "execute_result"
    }
   ],
   "source": [
    "mem_df['year'] = pd.DatetimeIndex(mem_df['생년월일']).year\n",
    "mem_df['month'] = pd.DatetimeIndex(mem_df['생년월일']).month\n",
    "mem_df['day'] = pd.DatetimeIndex(mem_df['생년월일']).day\n",
    "\n",
    "print(mem_df['year'].dtypes)\n",
    "\n",
    "mem_df.loc[0:3, ['year', 'month','day']]"
   ],
   "metadata": {
    "collapsed": false,
    "pycharm": {
     "name": "#%%\n"
    }
   }
  },
  {
   "cell_type": "code",
   "execution_count": 7,
   "outputs": [],
   "source": [
    "def calc_age(birth):\n",
    "    today = date.today()\n",
    "    # print(today)\n",
    "    age = today.year - birth.year - ((today.month, today.day) < (birth.month, birth.day))\n",
    "    return age"
   ],
   "metadata": {
    "collapsed": false,
    "pycharm": {
     "name": "#%%\n"
    }
   }
  },
  {
   "cell_type": "code",
   "execution_count": 74,
   "outputs": [
    {
     "data": {
      "text/plain": "32"
     },
     "execution_count": 74,
     "metadata": {},
     "output_type": "execute_result"
    }
   ],
   "source": [
    "calc_age(date(1990,1,1))"
   ],
   "metadata": {
    "collapsed": false,
    "pycharm": {
     "name": "#%%\n"
    }
   }
  },
  {
   "cell_type": "code",
   "execution_count": 8,
   "outputs": [
    {
     "name": "stdout",
     "output_type": "stream",
     "text": [
      "295\n"
     ]
    },
    {
     "data": {
      "text/plain": "[61, 62, 58, 50, 60, 50, 43, 51, 57, 48]"
     },
     "execution_count": 8,
     "metadata": {},
     "output_type": "execute_result"
    }
   ],
   "source": [
    "# row 별 년,월,일 col 값으로 나이를 계산하고 그 값을 age_list에 추가\n",
    "\n",
    "age_list = []\n",
    "for idx, row in mem_df.iterrows():\n",
    "    age = calc_age(date(row['year'],row['month'],row['day']))\n",
    "    age_list.append(age)\n",
    "\n",
    "print(len(age_list))\n",
    "age_list[:10]"
   ],
   "metadata": {
    "collapsed": false,
    "pycharm": {
     "name": "#%%\n"
    }
   }
  },
  {
   "cell_type": "code",
   "execution_count": 9,
   "outputs": [
    {
     "data": {
      "text/plain": "         생년월일  나이\n0  1960-06-04  61\n1  1959-11-02  62\n2  1963-05-27  58\n3  1971-03-03  50\n4  1961-04-26  60",
      "text/html": "<div>\n<style scoped>\n    .dataframe tbody tr th:only-of-type {\n        vertical-align: middle;\n    }\n\n    .dataframe tbody tr th {\n        vertical-align: top;\n    }\n\n    .dataframe thead th {\n        text-align: right;\n    }\n</style>\n<table border=\"1\" class=\"dataframe\">\n  <thead>\n    <tr style=\"text-align: right;\">\n      <th></th>\n      <th>생년월일</th>\n      <th>나이</th>\n    </tr>\n  </thead>\n  <tbody>\n    <tr>\n      <th>0</th>\n      <td>1960-06-04</td>\n      <td>61</td>\n    </tr>\n    <tr>\n      <th>1</th>\n      <td>1959-11-02</td>\n      <td>62</td>\n    </tr>\n    <tr>\n      <th>2</th>\n      <td>1963-05-27</td>\n      <td>58</td>\n    </tr>\n    <tr>\n      <th>3</th>\n      <td>1971-03-03</td>\n      <td>50</td>\n    </tr>\n    <tr>\n      <th>4</th>\n      <td>1961-04-26</td>\n      <td>60</td>\n    </tr>\n  </tbody>\n</table>\n</div>"
     },
     "execution_count": 9,
     "metadata": {},
     "output_type": "execute_result"
    }
   ],
   "source": [
    "# 나이 col에 추가\n",
    "mem_df['나이'] = age_list\n",
    "mem_df[['생년월일','나이']].head()"
   ],
   "metadata": {
    "collapsed": false,
    "pycharm": {
     "name": "#%%\n"
    }
   }
  },
  {
   "cell_type": "code",
   "execution_count": 80,
   "outputs": [
    {
     "data": {
      "text/plain": "count    295.000000\nmean      56.667797\nstd        7.352968\nmin       29.000000\n25%       54.000000\n50%       58.000000\n75%       61.000000\nmax       74.000000\nName: 나이, dtype: float64"
     },
     "execution_count": 80,
     "metadata": {},
     "output_type": "execute_result"
    }
   ],
   "source": [
    "mem_df['나이'].describe()"
   ],
   "metadata": {
    "collapsed": false,
    "pycharm": {
     "name": "#%%\n"
    }
   }
  },
  {
   "cell_type": "code",
   "execution_count": 10,
   "outputs": [
    {
     "data": {
      "text/plain": "Index(['정당', '선거구', '소속위원회', '당선횟수', '사무실전화', '사무실호실', '홈페이지', '이메일', '보좌관',\n       '비서관', '비서', '취미,특기', '의원실안내', '이름', '이미지', '생년월일', '당선횟수2', '선거구2',\n       'year', 'month', 'day', '나이'],\n      dtype='object')"
     },
     "execution_count": 10,
     "metadata": {},
     "output_type": "execute_result"
    }
   ],
   "source": [
    "mem_df.columns"
   ],
   "metadata": {
    "collapsed": false,
    "pycharm": {
     "name": "#%%\n"
    }
   }
  },
  {
   "cell_type": "code",
   "execution_count": 83,
   "outputs": [
    {
     "data": {
      "text/plain": "290    https://www.assembly.go.kr/photo/9771183.jpg\n291    https://www.assembly.go.kr/photo/9771145.jpg\n292    https://www.assembly.go.kr/photo/9771130.jpg\n293    https://www.assembly.go.kr/photo/9771161.jpg\n294    https://www.assembly.go.kr/photo/9770936.jpg\nName: 이미지, dtype: object"
     },
     "execution_count": 83,
     "metadata": {},
     "output_type": "execute_result"
    }
   ],
   "source": [
    "mem_df['이미지'].tail()"
   ],
   "metadata": {
    "collapsed": false,
    "pycharm": {
     "name": "#%%\n"
    }
   }
  },
  {
   "cell_type": "code",
   "execution_count": 85,
   "outputs": [
    {
     "name": "stdout",
     "output_type": "stream",
     "text": [
      "https://www.assembly.go.kr/photo/9771241.jpg\n",
      "https://www.assembly.go.kr/photo/9771174.jpg\n"
     ]
    }
   ],
   "source": [
    "for img_url in mem_df['이미지'].sample(2):\n",
    "    print(img_url)"
   ],
   "metadata": {
    "collapsed": false,
    "pycharm": {
     "name": "#%%\n"
    }
   }
  },
  {
   "cell_type": "code",
   "execution_count": 11,
   "outputs": [],
   "source": [
    "%matplotlib inline\n",
    "plt.rcParams['font.family'] = 'Malgun Gothic'"
   ],
   "metadata": {
    "collapsed": false,
    "pycharm": {
     "name": "#%%\n"
    }
   }
  },
  {
   "cell_type": "code",
   "execution_count": 89,
   "outputs": [
    {
     "data": {
      "text/plain": "<AxesSubplot:xlabel='당선횟수2', ylabel='count'>"
     },
     "execution_count": 89,
     "metadata": {},
     "output_type": "execute_result"
    },
    {
     "data": {
      "text/plain": "<Figure size 1296x864 with 2 Axes>",
      "image/png": "[encoded data removed]"
     },
     "metadata": {
      "needs_background": "light"
     },
     "output_type": "display_data"
    }
   ],
   "source": [
    "figure, (axes1, axes2) = plt.subplots(nrows=2, ncols=1)\n",
    "figure.set_size_inches(18,12)\n",
    "\n",
    "sns.countplot(data=mem_df, x='정당', ax=axes1, order=mem_df['정당'].value_counts().index)\n",
    "sns.countplot(data=mem_df, x='당선횟수2', ax=axes2, order=mem_df['당선횟수2'].value_counts().index)"
   ],
   "metadata": {
    "collapsed": false,
    "pycharm": {
     "name": "#%%\n"
    }
   }
  },
  {
   "cell_type": "code",
   "execution_count": 14,
   "outputs": [
    {
     "name": "stderr",
     "output_type": "stream",
     "text": [
      "C:\\Users\\PEOPLECOM\\anaconda3\\lib\\site-packages\\seaborn\\distributions.py:2619: FutureWarning: `distplot` is a deprecated function and will be removed in a future version. Please adapt your code to use either `displot` (a figure-level function with similar flexibility) or `kdeplot` (an axes-level function for kernel density plots).\n",
      "  warnings.warn(msg, FutureWarning)\n"
     ]
    },
    {
     "data": {
      "text/plain": "<AxesSubplot:xlabel='나이', ylabel='Density'>"
     },
     "execution_count": 14,
     "metadata": {},
     "output_type": "execute_result"
    },
    {
     "data": {
      "text/plain": "<Figure size 1296x864 with 1 Axes>",
      "image/png": "[encoded data removed]"
     },
     "metadata": {
      "needs_background": "light"
     },
     "output_type": "display_data"
    }
   ],
   "source": [
    "# seaborn의 히스토그램 draw\n",
    "\n",
    "figure, axes1 = plt.subplots(nrows=1, ncols=1)\n",
    "figure.set_size_inches(18, 12)\n",
    "\n",
    "sns.distplot(mem_df['나이'], hist=False, ax=axes1)"
   ],
   "metadata": {
    "collapsed": false,
    "pycharm": {
     "name": "#%%\n"
    }
   }
  },
  {
   "cell_type": "code",
   "execution_count": null,
   "outputs": [],
   "source": [
    "# row count를 %(퍼센티지) 비율로 출력하려면 normalize=True 로 설정\n",
    "cdf = mem_df['선거구2'].value_counts(normalize=True)\n",
    "print(cdf.index)\n",
    "cdf"
   ],
   "metadata": {
    "collapsed": false,
    "pycharm": {
     "name": "#%%\n"
    }
   }
  },
  {
   "cell_type": "code",
   "execution_count": 15,
   "outputs": [
    {
     "data": {
      "text/plain": "<Figure size 1440x864 with 0 Axes>"
     },
     "metadata": {},
     "output_type": "display_data"
    }
   ],
   "source": [
    "# matplotlib의 pie chart 그리기\n",
    "# figure size 설정\n",
    "figure = plt.figure(figsize=(20,12))\n",
    "# autopct는 값의 퍼센티지 포맷을 설정\n",
    "# startangle은 첫번째 pie의 각도 설정\n",
    "plt.pie(cdf,labels=cdf.index, autopct='%1.1f%%', startangle=140, shadow=True)\n",
    "# pie plot를 그릴때 원의 형태를 유지하도록 하는 설정\n",
    "plt.axis('equal')\n",
    "plt.title('선거구 분포값')"
   ],
   "metadata": {
    "collapsed": false,
    "pycharm": {
     "name": "#%%\n"
    }
   }
  },
  {
   "cell_type": "code",
   "execution_count": 16,
   "outputs": [
    {
     "data": {
      "text/plain": "정당  국민의당  국민의힘  기본소득당  더불어민주당  무소속  시대전환  정의당\n나이                                           \n29   0.0   0.0    0.0     0.0  0.0   0.0  1.0\n30   0.0   0.0    0.0     1.0  0.0   0.0  0.0\n31   0.0   0.0    1.0     0.0  0.0   0.0  0.0\n34   0.0   0.0    0.0     1.0  0.0   0.0  1.0\n37   0.0   0.0    0.0     1.0  0.0   0.0  0.0\n38   0.0   1.0    0.0     2.0  0.0   0.0  0.0\n39   0.0   1.0    0.0     1.0  0.0   0.0  0.0\n41   0.0   1.0    0.0     1.0  0.0   0.0  0.0\n42   0.0   0.0    0.0     2.0  0.0   0.0  0.0\n43   0.0   1.0    0.0     3.0  0.0   0.0  0.0\n44   0.0   1.0    0.0     0.0  0.0   0.0  0.0\n45   0.0   2.0    0.0     1.0  0.0   0.0  0.0\n46   0.0   1.0    0.0     1.0  0.0   0.0  0.0\n47   1.0   0.0    0.0     2.0  0.0   0.0  0.0\n48   0.0   1.0    0.0     3.0  0.0   0.0  0.0\n49   0.0   3.0    0.0     2.0  0.0   1.0  0.0\n50   0.0   2.0    0.0     6.0  0.0   0.0  0.0\n51   0.0   4.0    0.0     2.0  0.0   0.0  1.0\n52   0.0   2.0    0.0     9.0  0.0   0.0  1.0\n53   0.0   1.0    0.0     5.0  0.0   0.0  1.0\n54   0.0   6.0    0.0    13.0  1.0   0.0  0.0\n55   0.0   4.0    0.0    10.0  0.0   0.0  0.0\n56   0.0   5.0    0.0    10.0  1.0   0.0  0.0\n57   1.0   5.0    0.0    17.0  1.0   0.0  0.0\n58   0.0   7.0    0.0    16.0  1.0   0.0  0.0\n59   0.0   8.0    0.0    13.0  1.0   0.0  0.0\n60   0.0   6.0    0.0    15.0  0.0   0.0  0.0\n61   1.0  10.0    0.0     4.0  0.0   0.0  0.0\n62   0.0   6.0    0.0     5.0  0.0   0.0  1.0\n63   0.0   5.0    0.0     5.0  0.0   0.0  0.0\n64   0.0   6.0    0.0     8.0  0.0   0.0  0.0\n65   0.0   3.0    0.0     1.0  0.0   0.0  0.0\n66   0.0   4.0    0.0     3.0  0.0   0.0  0.0\n67   0.0   4.0    0.0     4.0  0.0   0.0  0.0\n68   0.0   3.0    0.0     2.0  0.0   0.0  0.0\n69   0.0   1.0    0.0     1.0  0.0   0.0  0.0\n70   0.0   1.0    0.0     0.0  1.0   0.0  0.0\n73   0.0   0.0    0.0     1.0  0.0   0.0  0.0\n74   0.0   1.0    0.0     1.0  0.0   0.0  0.0",
      "text/html": "<div>\n<style scoped>\n    .dataframe tbody tr th:only-of-type {\n        vertical-align: middle;\n    }\n\n    .dataframe tbody tr th {\n        vertical-align: top;\n    }\n\n    .dataframe thead th {\n        text-align: right;\n    }\n</style>\n<table border=\"1\" class=\"dataframe\">\n  <thead>\n    <tr style=\"text-align: right;\">\n      <th>정당</th>\n      <th>국민의당</th>\n      <th>국민의힘</th>\n      <th>기본소득당</th>\n      <th>더불어민주당</th>\n      <th>무소속</th>\n      <th>시대전환</th>\n      <th>정의당</th>\n    </tr>\n    <tr>\n      <th>나이</th>\n      <th></th>\n      <th></th>\n      <th></th>\n      <th></th>\n      <th></th>\n      <th></th>\n      <th></th>\n    </tr>\n  </thead>\n  <tbody>\n    <tr>\n      <th>29</th>\n      <td>0.0</td>\n      <td>0.0</td>\n      <td>0.0</td>\n      <td>0.0</td>\n      <td>0.0</td>\n      <td>0.0</td>\n      <td>1.0</td>\n    </tr>\n    <tr>\n      <th>30</th>\n      <td>0.0</td>\n      <td>0.0</td>\n      <td>0.0</td>\n      <td>1.0</td>\n      <td>0.0</td>\n      <td>0.0</td>\n      <td>0.0</td>\n    </tr>\n    <tr>\n      <th>31</th>\n      <td>0.0</td>\n      <td>0.0</td>\n      <td>1.0</td>\n      <td>0.0</td>\n      <td>0.0</td>\n      <td>0.0</td>\n      <td>0.0</td>\n    </tr>\n    <tr>\n      <th>34</th>\n      <td>0.0</td>\n      <td>0.0</td>\n      <td>0.0</td>\n      <td>1.0</td>\n      <td>0.0</td>\n      <td>0.0</td>\n      <td>1.0</td>\n    </tr>\n    <tr>\n      <th>37</th>\n      <td>0.0</td>\n      <td>0.0</td>\n      <td>0.0</td>\n      <td>1.0</td>\n      <td>0.0</td>\n      <td>0.0</td>\n      <td>0.0</td>\n    </tr>\n    <tr>\n      <th>38</th>\n      <td>0.0</td>\n      <td>1.0</td>\n      <td>0.0</td>\n      <td>2.0</td>\n      <td>0.0</td>\n      <td>0.0</td>\n      <td>0.0</td>\n    </tr>\n    <tr>\n      <th>39</th>\n      <td>0.0</td>\n      <td>1.0</td>\n      <td>0.0</td>\n      <td>1.0</td>\n      <td>0.0</td>\n      <td>0.0</td>\n      <td>0.0</td>\n    </tr>\n    <tr>\n      <th>41</th>\n      <td>0.0</td>\n      <td>1.0</td>\n      <td>0.0</td>\n      <td>1.0</td>\n      <td>0.0</td>\n      <td>0.0</td>\n      <td>0.0</td>\n    </tr>\n    <tr>\n      <th>42</th>\n      <td>0.0</td>\n      <td>0.0</td>\n      <td>0.0</td>\n      <td>2.0</td>\n      <td>0.0</td>\n      <td>0.0</td>\n      <td>0.0</td>\n    </tr>\n    <tr>\n      <th>43</th>\n      <td>0.0</td>\n      <td>1.0</td>\n      <td>0.0</td>\n      <td>3.0</td>\n      <td>0.0</td>\n      <td>0.0</td>\n      <td>0.0</td>\n    </tr>\n    <tr>\n      <th>44</th>\n      <td>0.0</td>\n      <td>1.0</td>\n      <td>0.0</td>\n      <td>0.0</td>\n      <td>0.0</td>\n      <td>0.0</td>\n      <td>0.0</td>\n    </tr>\n    <tr>\n      <th>45</th>\n      <td>0.0</td>\n      <td>2.0</td>\n      <td>0.0</td>\n      <td>1.0</td>\n      <td>0.0</td>\n      <td>0.0</td>\n      <td>0.0</td>\n    </tr>\n    <tr>\n      <th>46</th>\n      <td>0.0</td>\n      <td>1.0</td>\n      <td>0.0</td>\n      <td>1.0</td>\n      <td>0.0</td>\n      <td>0.0</td>\n      <td>0.0</td>\n    </tr>\n    <tr>\n      <th>47</th>\n      <td>1.0</td>\n      <td>0.0</td>\n      <td>0.0</td>\n      <td>2.0</td>\n      <td>0.0</td>\n      <td>0.0</td>\n      <td>0.0</td>\n    </tr>\n    <tr>\n      <th>48</th>\n      <td>0.0</td>\n      <td>1.0</td>\n      <td>0.0</td>\n      <td>3.0</td>\n      <td>0.0</td>\n      <td>0.0</td>\n      <td>0.0</td>\n    </tr>\n    <tr>\n      <th>49</th>\n      <td>0.0</td>\n      <td>3.0</td>\n      <td>0.0</td>\n      <td>2.0</td>\n      <td>0.0</td>\n      <td>1.0</td>\n      <td>0.0</td>\n    </tr>\n    <tr>\n      <th>50</th>\n      <td>0.0</td>\n      <td>2.0</td>\n      <td>0.0</td>\n      <td>6.0</td>\n      <td>0.0</td>\n      <td>0.0</td>\n      <td>0.0</td>\n    </tr>\n    <tr>\n      <th>51</th>\n      <td>0.0</td>\n      <td>4.0</td>\n      <td>0.0</td>\n      <td>2.0</td>\n      <td>0.0</td>\n      <td>0.0</td>\n      <td>1.0</td>\n    </tr>\n    <tr>\n      <th>52</th>\n      <td>0.0</td>\n      <td>2.0</td>\n      <td>0.0</td>\n      <td>9.0</td>\n      <td>0.0</td>\n      <td>0.0</td>\n      <td>1.0</td>\n    </tr>\n    <tr>\n      <th>53</th>\n      <td>0.0</td>\n      <td>1.0</td>\n      <td>0.0</td>\n      <td>5.0</td>\n      <td>0.0</td>\n      <td>0.0</td>\n      <td>1.0</td>\n    </tr>\n    <tr>\n      <th>54</th>\n      <td>0.0</td>\n      <td>6.0</td>\n      <td>0.0</td>\n      <td>13.0</td>\n      <td>1.0</td>\n      <td>0.0</td>\n      <td>0.0</td>\n    </tr>\n    <tr>\n      <th>55</th>\n      <td>0.0</td>\n      <td>4.0</td>\n      <td>0.0</td>\n      <td>10.0</td>\n      <td>0.0</td>\n      <td>0.0</td>\n      <td>0.0</td>\n    </tr>\n    <tr>\n      <th>56</th>\n      <td>0.0</td>\n      <td>5.0</td>\n      <td>0.0</td>\n      <td>10.0</td>\n      <td>1.0</td>\n      <td>0.0</td>\n      <td>0.0</td>\n    </tr>\n    <tr>\n      <th>57</th>\n      <td>1.0</td>\n      <td>5.0</td>\n      <td>0.0</td>\n      <td>17.0</td>\n      <td>1.0</td>\n      <td>0.0</td>\n      <td>0.0</td>\n    </tr>\n    <tr>\n      <th>58</th>\n      <td>0.0</td>\n      <td>7.0</td>\n      <td>0.0</td>\n      <td>16.0</td>\n      <td>1.0</td>\n      <td>0.0</td>\n      <td>0.0</td>\n    </tr>\n    <tr>\n      <th>59</th>\n      <td>0.0</td>\n      <td>8.0</td>\n      <td>0.0</td>\n      <td>13.0</td>\n      <td>1.0</td>\n      <td>0.0</td>\n      <td>0.0</td>\n    </tr>\n    <tr>\n      <th>60</th>\n      <td>0.0</td>\n      <td>6.0</td>\n      <td>0.0</td>\n      <td>15.0</td>\n      <td>0.0</td>\n      <td>0.0</td>\n      <td>0.0</td>\n    </tr>\n    <tr>\n      <th>61</th>\n      <td>1.0</td>\n      <td>10.0</td>\n      <td>0.0</td>\n      <td>4.0</td>\n      <td>0.0</td>\n      <td>0.0</td>\n      <td>0.0</td>\n    </tr>\n    <tr>\n      <th>62</th>\n      <td>0.0</td>\n      <td>6.0</td>\n      <td>0.0</td>\n      <td>5.0</td>\n      <td>0.0</td>\n      <td>0.0</td>\n      <td>1.0</td>\n    </tr>\n    <tr>\n      <th>63</th>\n      <td>0.0</td>\n      <td>5.0</td>\n      <td>0.0</td>\n      <td>5.0</td>\n      <td>0.0</td>\n      <td>0.0</td>\n      <td>0.0</td>\n    </tr>\n    <tr>\n      <th>64</th>\n      <td>0.0</td>\n      <td>6.0</td>\n      <td>0.0</td>\n      <td>8.0</td>\n      <td>0.0</td>\n      <td>0.0</td>\n      <td>0.0</td>\n    </tr>\n    <tr>\n      <th>65</th>\n      <td>0.0</td>\n      <td>3.0</td>\n      <td>0.0</td>\n      <td>1.0</td>\n      <td>0.0</td>\n      <td>0.0</td>\n      <td>0.0</td>\n    </tr>\n    <tr>\n      <th>66</th>\n      <td>0.0</td>\n      <td>4.0</td>\n      <td>0.0</td>\n      <td>3.0</td>\n      <td>0.0</td>\n      <td>0.0</td>\n      <td>0.0</td>\n    </tr>\n    <tr>\n      <th>67</th>\n      <td>0.0</td>\n      <td>4.0</td>\n      <td>0.0</td>\n      <td>4.0</td>\n      <td>0.0</td>\n      <td>0.0</td>\n      <td>0.0</td>\n    </tr>\n    <tr>\n      <th>68</th>\n      <td>0.0</td>\n      <td>3.0</td>\n      <td>0.0</td>\n      <td>2.0</td>\n      <td>0.0</td>\n      <td>0.0</td>\n      <td>0.0</td>\n    </tr>\n    <tr>\n      <th>69</th>\n      <td>0.0</td>\n      <td>1.0</td>\n      <td>0.0</td>\n      <td>1.0</td>\n      <td>0.0</td>\n      <td>0.0</td>\n      <td>0.0</td>\n    </tr>\n    <tr>\n      <th>70</th>\n      <td>0.0</td>\n      <td>1.0</td>\n      <td>0.0</td>\n      <td>0.0</td>\n      <td>1.0</td>\n      <td>0.0</td>\n      <td>0.0</td>\n    </tr>\n    <tr>\n      <th>73</th>\n      <td>0.0</td>\n      <td>0.0</td>\n      <td>0.0</td>\n      <td>1.0</td>\n      <td>0.0</td>\n      <td>0.0</td>\n      <td>0.0</td>\n    </tr>\n    <tr>\n      <th>74</th>\n      <td>0.0</td>\n      <td>1.0</td>\n      <td>0.0</td>\n      <td>1.0</td>\n      <td>0.0</td>\n      <td>0.0</td>\n      <td>0.0</td>\n    </tr>\n  </tbody>\n</table>\n</div>"
     },
     "execution_count": 16,
     "metadata": {},
     "output_type": "execute_result"
    }
   ],
   "source": [
    "# 피벗테이블 생성\n",
    "mem_df.pivot_table(index='나이', columns='정당', aggfunc='size').fillna(0)"
   ],
   "metadata": {
    "collapsed": false,
    "pycharm": {
     "name": "#%%\n"
    }
   }
  },
  {
   "cell_type": "code",
   "execution_count": 18,
   "outputs": [],
   "source": [
    "age_pivot_df=mem_df.pivot_table(index='나이', columns='정당', aggfunc='size').fillna(0).astype(int)"
   ],
   "metadata": {
    "collapsed": false,
    "pycharm": {
     "name": "#%%\n"
    }
   }
  },
  {
   "cell_type": "code",
   "execution_count": 19,
   "outputs": [
    {
     "data": {
      "text/plain": "<AxesSubplot:xlabel='정당', ylabel='나이'>"
     },
     "execution_count": 19,
     "metadata": {},
     "output_type": "execute_result"
    },
    {
     "data": {
      "text/plain": "<Figure size 432x288 with 2 Axes>",
      "image/png": "[encoded data removed]"
     },
     "metadata": {
      "needs_background": "light"
     },
     "output_type": "display_data"
    }
   ],
   "source": [
    "sns.heatmap(age_pivot_df, fmt='d', linewidths=1, annot=True)"
   ],
   "metadata": {
    "collapsed": false,
    "pycharm": {
     "name": "#%%\n"
    }
   }
  },
  {
   "cell_type": "code",
   "execution_count": 12,
   "outputs": [],
   "source": [
    "# 나이 구간 컬럼 추가\n",
    "mem_df.loc[(mem_df['나이'] >= 20) & (mem_df['나이'] < 30), '나이 구간'] = 20\n",
    "mem_df.loc[(mem_df['나이'] >= 30) & (mem_df['나이'] < 40), '나이 구간'] = 30\n",
    "mem_df.loc[(mem_df['나이'] >= 40) & (mem_df['나이'] < 50), '나이 구간'] = 40\n",
    "mem_df.loc[(mem_df['나이'] >= 50) & (mem_df['나이'] < 60), '나이 구간'] = 50\n",
    "mem_df.loc[(mem_df['나이'] >= 60) & (mem_df['나이'] < 70), '나이 구간'] = 60\n",
    "mem_df.loc[(mem_df['나이'] >= 70) & (mem_df['나이'] < 80), '나이 구간'] = 70"
   ],
   "metadata": {
    "collapsed": false,
    "pycharm": {
     "name": "#%%\n"
    }
   }
  },
  {
   "cell_type": "code",
   "execution_count": 30,
   "outputs": [
    {
     "data": {
      "text/plain": "      이름                                           이미지        생년월일 당선횟수2 선거구2  \\\n0    강기윤  https://www.assembly.go.kr/photo/9771230.jpg  1960-06-04    재선   경남   \n1    강대식  https://www.assembly.go.kr/photo/9771142.jpg  1959-11-02    초선   대구   \n4    강민정  https://www.assembly.go.kr/photo/9771283.jpg  1961-04-26    초선   비례   \n14   권명호  https://www.assembly.go.kr/photo/9771165.jpg  1961-01-10    초선   울산   \n15   권성동  https://www.assembly.go.kr/photo/9770679.jpg  1960-04-29    4선   강원   \n..   ...                                           ...         ...   ...  ...   \n276  한기호  https://www.assembly.go.kr/photo/9771197.jpg  1952-08-13    3선   강원   \n277  한무경  https://www.assembly.go.kr/photo/9771241.jpg  1958-05-20    초선   비례   \n283  허종식  https://www.assembly.go.kr/photo/9771149.jpg  1962-02-08    초선   인천   \n288  홍영표  https://www.assembly.go.kr/photo/9770676.jpg  1957-04-30    4선   인천   \n291  홍준표  https://www.assembly.go.kr/photo/9771145.jpg  1954-12-05    5선   대구   \n\n     year  month  day  나이  나이 구간  \n0    1960      6    4  61   60.0  \n1    1959     11    2  62   60.0  \n4    1961      4   26  60   60.0  \n14   1961      1   10  61   60.0  \n15   1960      4   29  61   60.0  \n..    ...    ...  ...  ..    ...  \n276  1952      8   13  69   60.0  \n277  1958      5   20  63   60.0  \n283  1962      2    8  60   60.0  \n288  1957      4   30  64   60.0  \n291  1954     12    5  67   60.0  \n\n[98 rows x 10 columns]",
      "text/html": "<div>\n<style scoped>\n    .dataframe tbody tr th:only-of-type {\n        vertical-align: middle;\n    }\n\n    .dataframe tbody tr th {\n        vertical-align: top;\n    }\n\n    .dataframe thead th {\n        text-align: right;\n    }\n</style>\n<table border=\"1\" class=\"dataframe\">\n  <thead>\n    <tr style=\"text-align: right;\">\n      <th></th>\n      <th>이름</th>\n      <th>이미지</th>\n      <th>생년월일</th>\n      <th>당선횟수2</th>\n      <th>선거구2</th>\n      <th>year</th>\n      <th>month</th>\n      <th>day</th>\n      <th>나이</th>\n      <th>나이 구간</th>\n    </tr>\n  </thead>\n  <tbody>\n    <tr>\n      <th>0</th>\n      <td>강기윤</td>\n      <td>https://www.assembly.go.kr/photo/9771230.jpg</td>\n      <td>1960-06-04</td>\n      <td>재선</td>\n      <td>경남</td>\n      <td>1960</td>\n      <td>6</td>\n      <td>4</td>\n      <td>61</td>\n      <td>60.0</td>\n    </tr>\n    <tr>\n      <th>1</th>\n      <td>강대식</td>\n      <td>https://www.assembly.go.kr/photo/9771142.jpg</td>\n      <td>1959-11-02</td>\n      <td>초선</td>\n      <td>대구</td>\n      <td>1959</td>\n      <td>11</td>\n      <td>2</td>\n      <td>62</td>\n      <td>60.0</td>\n    </tr>\n    <tr>\n      <th>4</th>\n      <td>강민정</td>\n      <td>https://www.assembly.go.kr/photo/9771283.jpg</td>\n      <td>1961-04-26</td>\n      <td>초선</td>\n      <td>비례</td>\n      <td>1961</td>\n      <td>4</td>\n      <td>26</td>\n      <td>60</td>\n      <td>60.0</td>\n    </tr>\n    <tr>\n      <th>14</th>\n      <td>권명호</td>\n      <td>https://www.assembly.go.kr/photo/9771165.jpg</td>\n      <td>1961-01-10</td>\n      <td>초선</td>\n      <td>울산</td>\n      <td>1961</td>\n      <td>1</td>\n      <td>10</td>\n      <td>61</td>\n      <td>60.0</td>\n    </tr>\n    <tr>\n      <th>15</th>\n      <td>권성동</td>\n      <td>https://www.assembly.go.kr/photo/9770679.jpg</td>\n      <td>1960-04-29</td>\n      <td>4선</td>\n      <td>강원</td>\n      <td>1960</td>\n      <td>4</td>\n      <td>29</td>\n      <td>61</td>\n      <td>60.0</td>\n    </tr>\n    <tr>\n      <th>...</th>\n      <td>...</td>\n      <td>...</td>\n      <td>...</td>\n      <td>...</td>\n      <td>...</td>\n      <td>...</td>\n      <td>...</td>\n      <td>...</td>\n      <td>...</td>\n      <td>...</td>\n    </tr>\n    <tr>\n      <th>276</th>\n      <td>한기호</td>\n      <td>https://www.assembly.go.kr/photo/9771197.jpg</td>\n      <td>1952-08-13</td>\n      <td>3선</td>\n      <td>강원</td>\n      <td>1952</td>\n      <td>8</td>\n      <td>13</td>\n      <td>69</td>\n      <td>60.0</td>\n    </tr>\n    <tr>\n      <th>277</th>\n      <td>한무경</td>\n      <td>https://www.assembly.go.kr/photo/9771241.jpg</td>\n      <td>1958-05-20</td>\n      <td>초선</td>\n      <td>비례</td>\n      <td>1958</td>\n      <td>5</td>\n      <td>20</td>\n      <td>63</td>\n      <td>60.0</td>\n    </tr>\n    <tr>\n      <th>283</th>\n      <td>허종식</td>\n      <td>https://www.assembly.go.kr/photo/9771149.jpg</td>\n      <td>1962-02-08</td>\n      <td>초선</td>\n      <td>인천</td>\n      <td>1962</td>\n      <td>2</td>\n      <td>8</td>\n      <td>60</td>\n      <td>60.0</td>\n    </tr>\n    <tr>\n      <th>288</th>\n      <td>홍영표</td>\n      <td>https://www.assembly.go.kr/photo/9770676.jpg</td>\n      <td>1957-04-30</td>\n      <td>4선</td>\n      <td>인천</td>\n      <td>1957</td>\n      <td>4</td>\n      <td>30</td>\n      <td>64</td>\n      <td>60.0</td>\n    </tr>\n    <tr>\n      <th>291</th>\n      <td>홍준표</td>\n      <td>https://www.assembly.go.kr/photo/9771145.jpg</td>\n      <td>1954-12-05</td>\n      <td>5선</td>\n      <td>대구</td>\n      <td>1954</td>\n      <td>12</td>\n      <td>5</td>\n      <td>67</td>\n      <td>60.0</td>\n    </tr>\n  </tbody>\n</table>\n<p>98 rows × 10 columns</p>\n</div>"
     },
     "execution_count": 30,
     "metadata": {},
     "output_type": "execute_result"
    }
   ],
   "source": [
    "mem_df.loc[mem_df['나이 구간'] == 60, '이름':'나이 구간']\n",
    "# print(mem_df['나이 구간'].dtypes)"
   ],
   "metadata": {
    "collapsed": false,
    "pycharm": {
     "name": "#%%\n"
    }
   }
  },
  {
   "cell_type": "code",
   "execution_count": 32,
   "outputs": [
    {
     "name": "stdout",
     "output_type": "stream",
     "text": [
      "int32\n"
     ]
    }
   ],
   "source": [
    "mem_df = mem_df.astype({'나이 구간':int})\n",
    "print(mem_df['나이 구간'].dtypes)"
   ],
   "metadata": {
    "collapsed": false,
    "pycharm": {
     "name": "#%%\n"
    }
   }
  },
  {
   "cell_type": "code",
   "execution_count": 33,
   "outputs": [
    {
     "data": {
      "text/plain": "정당     국민의당  국민의힘  기본소득당  더불어민주당  무소속  시대전환  정의당\n나이 구간                                           \n20        0     0      0       0    0     0    1\n30        0     2      1       6    0     0    1\n40        1    10      0      15    0     1    0\n50        1    44      0     101    5     0    3\n60        1    48      0      48    0     0    1\n70        0     2      0       2    1     0    0",
      "text/html": "<div>\n<style scoped>\n    .dataframe tbody tr th:only-of-type {\n        vertical-align: middle;\n    }\n\n    .dataframe tbody tr th {\n        vertical-align: top;\n    }\n\n    .dataframe thead th {\n        text-align: right;\n    }\n</style>\n<table border=\"1\" class=\"dataframe\">\n  <thead>\n    <tr style=\"text-align: right;\">\n      <th>정당</th>\n      <th>국민의당</th>\n      <th>국민의힘</th>\n      <th>기본소득당</th>\n      <th>더불어민주당</th>\n      <th>무소속</th>\n      <th>시대전환</th>\n      <th>정의당</th>\n    </tr>\n    <tr>\n      <th>나이 구간</th>\n      <th></th>\n      <th></th>\n      <th></th>\n      <th></th>\n      <th></th>\n      <th></th>\n      <th></th>\n    </tr>\n  </thead>\n  <tbody>\n    <tr>\n      <th>20</th>\n      <td>0</td>\n      <td>0</td>\n      <td>0</td>\n      <td>0</td>\n      <td>0</td>\n      <td>0</td>\n      <td>1</td>\n    </tr>\n    <tr>\n      <th>30</th>\n      <td>0</td>\n      <td>2</td>\n      <td>1</td>\n      <td>6</td>\n      <td>0</td>\n      <td>0</td>\n      <td>1</td>\n    </tr>\n    <tr>\n      <th>40</th>\n      <td>1</td>\n      <td>10</td>\n      <td>0</td>\n      <td>15</td>\n      <td>0</td>\n      <td>1</td>\n      <td>0</td>\n    </tr>\n    <tr>\n      <th>50</th>\n      <td>1</td>\n      <td>44</td>\n      <td>0</td>\n      <td>101</td>\n      <td>5</td>\n      <td>0</td>\n      <td>3</td>\n    </tr>\n    <tr>\n      <th>60</th>\n      <td>1</td>\n      <td>48</td>\n      <td>0</td>\n      <td>48</td>\n      <td>0</td>\n      <td>0</td>\n      <td>1</td>\n    </tr>\n    <tr>\n      <th>70</th>\n      <td>0</td>\n      <td>2</td>\n      <td>0</td>\n      <td>2</td>\n      <td>1</td>\n      <td>0</td>\n      <td>0</td>\n    </tr>\n  </tbody>\n</table>\n</div>"
     },
     "execution_count": 33,
     "metadata": {},
     "output_type": "execute_result"
    }
   ],
   "source": [
    "age_section_pivon_df = mem_df.pivot_table(index='나이 구간', columns='정당', aggfunc='size').fillna(0).astype(int)\n",
    "age_section_pivon_df"
   ],
   "metadata": {
    "collapsed": false,
    "pycharm": {
     "name": "#%%\n"
    }
   }
  },
  {
   "cell_type": "code",
   "execution_count": 34,
   "outputs": [
    {
     "data": {
      "text/plain": "<AxesSubplot:xlabel='정당', ylabel='나이 구간'>"
     },
     "execution_count": 34,
     "metadata": {},
     "output_type": "execute_result"
    },
    {
     "data": {
      "text/plain": "<Figure size 432x288 with 2 Axes>",
      "image/png": "[encoded data removed]"
     },
     "metadata": {
      "needs_background": "light"
     },
     "output_type": "display_data"
    }
   ],
   "source": [
    "sns.heatmap(age_section_pivon_df, linewidths=1, annot=True, fmt='d')"
   ],
   "metadata": {
    "collapsed": false,
    "pycharm": {
     "name": "#%%\n"
    }
   }
  },
  {
   "cell_type": "code",
   "execution_count": 13,
   "outputs": [
    {
     "data": {
      "text/plain": "나이 구간  20.0  30.0  40.0  50.0  60.0  70.0\n선거구2                                     \n강원      NaN   NaN   NaN   5.0   3.0   NaN\n경기      NaN   3.0   7.0  34.0  13.0   1.0\n경남      NaN   NaN   NaN   8.0   8.0   NaN\n경북      NaN   NaN   3.0   6.0   4.0   NaN\n광주      NaN   NaN   NaN   5.0   3.0   NaN\n대구      NaN   NaN   NaN   3.0   8.0   NaN\n대전      NaN   1.0   NaN   4.0   1.0   1.0\n부산      NaN   NaN   2.0  13.0   2.0   1.0\n비례      1.0   4.0  10.0  18.0  14.0   NaN\n서울      NaN   2.0   3.0  28.0  14.0   NaN\n세종      NaN   NaN   NaN   2.0   NaN   NaN\n울산      NaN   NaN   NaN   1.0   5.0   NaN\n인천      NaN   NaN   NaN   5.0   8.0   NaN\n전남      NaN   NaN   NaN   5.0   5.0   NaN\n전북      NaN   NaN   NaN   7.0   3.0   NaN\n제주      NaN   NaN   NaN   2.0   1.0   NaN\n충남      NaN   NaN   2.0   6.0   2.0   1.0\n충북      NaN   NaN   NaN   2.0   4.0   1.0",
      "text/html": "<div>\n<style scoped>\n    .dataframe tbody tr th:only-of-type {\n        vertical-align: middle;\n    }\n\n    .dataframe tbody tr th {\n        vertical-align: top;\n    }\n\n    .dataframe thead th {\n        text-align: right;\n    }\n</style>\n<table border=\"1\" class=\"dataframe\">\n  <thead>\n    <tr style=\"text-align: right;\">\n      <th>나이 구간</th>\n      <th>20.0</th>\n      <th>30.0</th>\n      <th>40.0</th>\n      <th>50.0</th>\n      <th>60.0</th>\n      <th>70.0</th>\n    </tr>\n    <tr>\n      <th>선거구2</th>\n      <th></th>\n      <th></th>\n      <th></th>\n      <th></th>\n      <th></th>\n      <th></th>\n    </tr>\n  </thead>\n  <tbody>\n    <tr>\n      <th>강원</th>\n      <td>NaN</td>\n      <td>NaN</td>\n      <td>NaN</td>\n      <td>5.0</td>\n      <td>3.0</td>\n      <td>NaN</td>\n    </tr>\n    <tr>\n      <th>경기</th>\n      <td>NaN</td>\n      <td>3.0</td>\n      <td>7.0</td>\n      <td>34.0</td>\n      <td>13.0</td>\n      <td>1.0</td>\n    </tr>\n    <tr>\n      <th>경남</th>\n      <td>NaN</td>\n      <td>NaN</td>\n      <td>NaN</td>\n      <td>8.0</td>\n      <td>8.0</td>\n      <td>NaN</td>\n    </tr>\n    <tr>\n      <th>경북</th>\n      <td>NaN</td>\n      <td>NaN</td>\n      <td>3.0</td>\n      <td>6.0</td>\n      <td>4.0</td>\n      <td>NaN</td>\n    </tr>\n    <tr>\n      <th>광주</th>\n      <td>NaN</td>\n      <td>NaN</td>\n      <td>NaN</td>\n      <td>5.0</td>\n      <td>3.0</td>\n      <td>NaN</td>\n    </tr>\n    <tr>\n      <th>대구</th>\n      <td>NaN</td>\n      <td>NaN</td>\n      <td>NaN</td>\n      <td>3.0</td>\n      <td>8.0</td>\n      <td>NaN</td>\n    </tr>\n    <tr>\n      <th>대전</th>\n      <td>NaN</td>\n      <td>1.0</td>\n      <td>NaN</td>\n      <td>4.0</td>\n      <td>1.0</td>\n      <td>1.0</td>\n    </tr>\n    <tr>\n      <th>부산</th>\n      <td>NaN</td>\n      <td>NaN</td>\n      <td>2.0</td>\n      <td>13.0</td>\n      <td>2.0</td>\n      <td>1.0</td>\n    </tr>\n    <tr>\n      <th>비례</th>\n      <td>1.0</td>\n      <td>4.0</td>\n      <td>10.0</td>\n      <td>18.0</td>\n      <td>14.0</td>\n      <td>NaN</td>\n    </tr>\n    <tr>\n      <th>서울</th>\n      <td>NaN</td>\n      <td>2.0</td>\n      <td>3.0</td>\n      <td>28.0</td>\n      <td>14.0</td>\n      <td>NaN</td>\n    </tr>\n    <tr>\n      <th>세종</th>\n      <td>NaN</td>\n      <td>NaN</td>\n      <td>NaN</td>\n      <td>2.0</td>\n      <td>NaN</td>\n      <td>NaN</td>\n    </tr>\n    <tr>\n      <th>울산</th>\n      <td>NaN</td>\n      <td>NaN</td>\n      <td>NaN</td>\n      <td>1.0</td>\n      <td>5.0</td>\n      <td>NaN</td>\n    </tr>\n    <tr>\n      <th>인천</th>\n      <td>NaN</td>\n      <td>NaN</td>\n      <td>NaN</td>\n      <td>5.0</td>\n      <td>8.0</td>\n      <td>NaN</td>\n    </tr>\n    <tr>\n      <th>전남</th>\n      <td>NaN</td>\n      <td>NaN</td>\n      <td>NaN</td>\n      <td>5.0</td>\n      <td>5.0</td>\n      <td>NaN</td>\n    </tr>\n    <tr>\n      <th>전북</th>\n      <td>NaN</td>\n      <td>NaN</td>\n      <td>NaN</td>\n      <td>7.0</td>\n      <td>3.0</td>\n      <td>NaN</td>\n    </tr>\n    <tr>\n      <th>제주</th>\n      <td>NaN</td>\n      <td>NaN</td>\n      <td>NaN</td>\n      <td>2.0</td>\n      <td>1.0</td>\n      <td>NaN</td>\n    </tr>\n    <tr>\n      <th>충남</th>\n      <td>NaN</td>\n      <td>NaN</td>\n      <td>2.0</td>\n      <td>6.0</td>\n      <td>2.0</td>\n      <td>1.0</td>\n    </tr>\n    <tr>\n      <th>충북</th>\n      <td>NaN</td>\n      <td>NaN</td>\n      <td>NaN</td>\n      <td>2.0</td>\n      <td>4.0</td>\n      <td>1.0</td>\n    </tr>\n  </tbody>\n</table>\n</div>"
     },
     "execution_count": 13,
     "metadata": {},
     "output_type": "execute_result"
    }
   ],
   "source": [
    "mem_df.pivot_table(index='선거구2', columns='나이 구간', aggfunc='size')"
   ],
   "metadata": {
    "collapsed": false,
    "pycharm": {
     "name": "#%%\n"
    }
   }
  },
  {
   "cell_type": "code",
   "execution_count": 14,
   "outputs": [
    {
     "data": {
      "text/plain": "나이 구간  20.0  30.0  40.0  50.0  60.0  70.0\n선거구2                                     \n강원      NaN   NaN   NaN   5.0   3.0   NaN\n경기      NaN   3.0   7.0  34.0  13.0   1.0\n경남      NaN   NaN   NaN   8.0   8.0   NaN\n경북      NaN   NaN   3.0   6.0   4.0   NaN\n광주      NaN   NaN   NaN   5.0   3.0   NaN\n대구      NaN   NaN   NaN   3.0   8.0   NaN\n대전      NaN   1.0   NaN   4.0   1.0   1.0\n부산      NaN   NaN   2.0  13.0   2.0   1.0\n비례      1.0   4.0  10.0  18.0  14.0   NaN\n서울      NaN   2.0   3.0  28.0  14.0   NaN\n세종      NaN   NaN   NaN   2.0   NaN   NaN\n울산      NaN   NaN   NaN   1.0   5.0   NaN\n인천      NaN   NaN   NaN   5.0   8.0   NaN\n전남      NaN   NaN   NaN   5.0   5.0   NaN\n전북      NaN   NaN   NaN   7.0   3.0   NaN\n제주      NaN   NaN   NaN   2.0   1.0   NaN\n충남      NaN   NaN   2.0   6.0   2.0   1.0\n충북      NaN   NaN   NaN   2.0   4.0   1.0",
      "text/html": "<div>\n<style scoped>\n    .dataframe tbody tr th:only-of-type {\n        vertical-align: middle;\n    }\n\n    .dataframe tbody tr th {\n        vertical-align: top;\n    }\n\n    .dataframe thead th {\n        text-align: right;\n    }\n</style>\n<table border=\"1\" class=\"dataframe\">\n  <thead>\n    <tr style=\"text-align: right;\">\n      <th>나이 구간</th>\n      <th>20.0</th>\n      <th>30.0</th>\n      <th>40.0</th>\n      <th>50.0</th>\n      <th>60.0</th>\n      <th>70.0</th>\n    </tr>\n    <tr>\n      <th>선거구2</th>\n      <th></th>\n      <th></th>\n      <th></th>\n      <th></th>\n      <th></th>\n      <th></th>\n    </tr>\n  </thead>\n  <tbody>\n    <tr>\n      <th>강원</th>\n      <td>NaN</td>\n      <td>NaN</td>\n      <td>NaN</td>\n      <td>5.0</td>\n      <td>3.0</td>\n      <td>NaN</td>\n    </tr>\n    <tr>\n      <th>경기</th>\n      <td>NaN</td>\n      <td>3.0</td>\n      <td>7.0</td>\n      <td>34.0</td>\n      <td>13.0</td>\n      <td>1.0</td>\n    </tr>\n    <tr>\n      <th>경남</th>\n      <td>NaN</td>\n      <td>NaN</td>\n      <td>NaN</td>\n      <td>8.0</td>\n      <td>8.0</td>\n      <td>NaN</td>\n    </tr>\n    <tr>\n      <th>경북</th>\n      <td>NaN</td>\n      <td>NaN</td>\n      <td>3.0</td>\n      <td>6.0</td>\n      <td>4.0</td>\n      <td>NaN</td>\n    </tr>\n    <tr>\n      <th>광주</th>\n      <td>NaN</td>\n      <td>NaN</td>\n      <td>NaN</td>\n      <td>5.0</td>\n      <td>3.0</td>\n      <td>NaN</td>\n    </tr>\n    <tr>\n      <th>대구</th>\n      <td>NaN</td>\n      <td>NaN</td>\n      <td>NaN</td>\n      <td>3.0</td>\n      <td>8.0</td>\n      <td>NaN</td>\n    </tr>\n    <tr>\n      <th>대전</th>\n      <td>NaN</td>\n      <td>1.0</td>\n      <td>NaN</td>\n      <td>4.0</td>\n      <td>1.0</td>\n      <td>1.0</td>\n    </tr>\n    <tr>\n      <th>부산</th>\n      <td>NaN</td>\n      <td>NaN</td>\n      <td>2.0</td>\n      <td>13.0</td>\n      <td>2.0</td>\n      <td>1.0</td>\n    </tr>\n    <tr>\n      <th>비례</th>\n      <td>1.0</td>\n      <td>4.0</td>\n      <td>10.0</td>\n      <td>18.0</td>\n      <td>14.0</td>\n      <td>NaN</td>\n    </tr>\n    <tr>\n      <th>서울</th>\n      <td>NaN</td>\n      <td>2.0</td>\n      <td>3.0</td>\n      <td>28.0</td>\n      <td>14.0</td>\n      <td>NaN</td>\n    </tr>\n    <tr>\n      <th>세종</th>\n      <td>NaN</td>\n      <td>NaN</td>\n      <td>NaN</td>\n      <td>2.0</td>\n      <td>NaN</td>\n      <td>NaN</td>\n    </tr>\n    <tr>\n      <th>울산</th>\n      <td>NaN</td>\n      <td>NaN</td>\n      <td>NaN</td>\n      <td>1.0</td>\n      <td>5.0</td>\n      <td>NaN</td>\n    </tr>\n    <tr>\n      <th>인천</th>\n      <td>NaN</td>\n      <td>NaN</td>\n      <td>NaN</td>\n      <td>5.0</td>\n      <td>8.0</td>\n      <td>NaN</td>\n    </tr>\n    <tr>\n      <th>전남</th>\n      <td>NaN</td>\n      <td>NaN</td>\n      <td>NaN</td>\n      <td>5.0</td>\n      <td>5.0</td>\n      <td>NaN</td>\n    </tr>\n    <tr>\n      <th>전북</th>\n      <td>NaN</td>\n      <td>NaN</td>\n      <td>NaN</td>\n      <td>7.0</td>\n      <td>3.0</td>\n      <td>NaN</td>\n    </tr>\n    <tr>\n      <th>제주</th>\n      <td>NaN</td>\n      <td>NaN</td>\n      <td>NaN</td>\n      <td>2.0</td>\n      <td>1.0</td>\n      <td>NaN</td>\n    </tr>\n    <tr>\n      <th>충남</th>\n      <td>NaN</td>\n      <td>NaN</td>\n      <td>2.0</td>\n      <td>6.0</td>\n      <td>2.0</td>\n      <td>1.0</td>\n    </tr>\n    <tr>\n      <th>충북</th>\n      <td>NaN</td>\n      <td>NaN</td>\n      <td>NaN</td>\n      <td>2.0</td>\n      <td>4.0</td>\n      <td>1.0</td>\n    </tr>\n  </tbody>\n</table>\n</div>"
     },
     "execution_count": 14,
     "metadata": {},
     "output_type": "execute_result"
    }
   ],
   "source": [
    "mem_df.pivot_table(index='선거구2', columns='나이 구간', aggfunc='size')"
   ],
   "metadata": {
    "collapsed": false,
    "pycharm": {
     "name": "#%%\n"
    }
   }
  },
  {
   "cell_type": "markdown",
   "source": [
    "### Mission 3\n",
    "1. 선거구3 컬럼을 새로 생성\n",
    "    * 서울, 경기, 인천 -> 수도권(3)\n",
    "    * 충남, 충북, 대전, 세종 -> 충청(4)\n",
    "    * 경남, 경북, 대구, 울산, 부산 -> 경상(5)\n",
    "    * 광주, 전남, 전북 -> 전라(3)\n",
    "    * 비례(1)\n",
    "    * 강원(1)\n",
    "    * 제주(1)\n",
    "    * isin() 함수 사용\n",
    "2. Pivot Table 생성\n",
    "    * 행 = '선거구3', 열 = '나이 구간'\n",
    "3. Heatmap 그리기\n",
    "    * Heatmap 색상 변경 (선택)"
   ],
   "metadata": {
    "collapsed": false,
    "pycharm": {
     "name": "#%% md\n"
    }
   }
  },
  {
   "cell_type": "code",
   "execution_count": 20,
   "outputs": [],
   "source": [
    "mem_df.loc[mem_df['선거구2'].isin(['서울', '경기', '인천']), '선거구3'] = '수도권'\n",
    "mem_df.loc[mem_df['선거구2'].isin(['충남', '충북', '대전', '세종']), '선거구3'] = '충청'\n",
    "mem_df.loc[mem_df['선거구2'].isin(['경남', '경북', '대구', '울산', '부산']), '선거구3'] = '경상'\n",
    "mem_df.loc[mem_df['선거구2'].isin(['광주', '전남', '전북']), '선거구3'] = '전라'\n",
    "mem_df.loc[mem_df['선거구2'].isin(['비례']), '선거구3'] = '비례'\n",
    "mem_df.loc[mem_df['선거구2'].isin(['강원']), '선거구3'] = '강원'\n",
    "mem_df.loc[mem_df['선거구2'].isin(['제주']), '선거구3'] = '제주'"
   ],
   "metadata": {
    "collapsed": false,
    "pycharm": {
     "name": "#%%\n"
    }
   }
  },
  {
   "cell_type": "code",
   "execution_count": 29,
   "outputs": [
    {
     "data": {
      "text/plain": "나이 구간  20.0  30.0  40.0  50.0  60.0  70.0\n선거구3                                     \n강원        0     0     0     5     3     0\n경상        0     0     5    31    27     1\n비례        1     4    10    18    14     0\n수도권       0     5    10    67    35     1\n전라        0     0     0    17    11     0\n제주        0     0     0     2     1     0\n충청        0     1     2    14     7     3",
      "text/html": "<div>\n<style scoped>\n    .dataframe tbody tr th:only-of-type {\n        vertical-align: middle;\n    }\n\n    .dataframe tbody tr th {\n        vertical-align: top;\n    }\n\n    .dataframe thead th {\n        text-align: right;\n    }\n</style>\n<table border=\"1\" class=\"dataframe\">\n  <thead>\n    <tr style=\"text-align: right;\">\n      <th>나이 구간</th>\n      <th>20.0</th>\n      <th>30.0</th>\n      <th>40.0</th>\n      <th>50.0</th>\n      <th>60.0</th>\n      <th>70.0</th>\n    </tr>\n    <tr>\n      <th>선거구3</th>\n      <th></th>\n      <th></th>\n      <th></th>\n      <th></th>\n      <th></th>\n      <th></th>\n    </tr>\n  </thead>\n  <tbody>\n    <tr>\n      <th>강원</th>\n      <td>0</td>\n      <td>0</td>\n      <td>0</td>\n      <td>5</td>\n      <td>3</td>\n      <td>0</td>\n    </tr>\n    <tr>\n      <th>경상</th>\n      <td>0</td>\n      <td>0</td>\n      <td>5</td>\n      <td>31</td>\n      <td>27</td>\n      <td>1</td>\n    </tr>\n    <tr>\n      <th>비례</th>\n      <td>1</td>\n      <td>4</td>\n      <td>10</td>\n      <td>18</td>\n      <td>14</td>\n      <td>0</td>\n    </tr>\n    <tr>\n      <th>수도권</th>\n      <td>0</td>\n      <td>5</td>\n      <td>10</td>\n      <td>67</td>\n      <td>35</td>\n      <td>1</td>\n    </tr>\n    <tr>\n      <th>전라</th>\n      <td>0</td>\n      <td>0</td>\n      <td>0</td>\n      <td>17</td>\n      <td>11</td>\n      <td>0</td>\n    </tr>\n    <tr>\n      <th>제주</th>\n      <td>0</td>\n      <td>0</td>\n      <td>0</td>\n      <td>2</td>\n      <td>1</td>\n      <td>0</td>\n    </tr>\n    <tr>\n      <th>충청</th>\n      <td>0</td>\n      <td>1</td>\n      <td>2</td>\n      <td>14</td>\n      <td>7</td>\n      <td>3</td>\n    </tr>\n  </tbody>\n</table>\n</div>"
     },
     "execution_count": 29,
     "metadata": {},
     "output_type": "execute_result"
    }
   ],
   "source": [
    "# mem_df[['선거구2', '선거구3']].sort_values(by='선거구3')\n",
    "\n",
    "# NaN을 0으로 치환, 값을 float -> int로 형변환 ===> float, NaN 모두 히트맵에 정상적으로 찍히지 않는 값이므로 변환함\n",
    "age_and_area_pivot_df = mem_df.pivot_table(index='선거구3', columns='나이 구간', aggfunc='size').fillna(0).astype(int)\n",
    "\n",
    "age_and_area_pivot_df"
   ],
   "metadata": {
    "collapsed": false,
    "pycharm": {
     "name": "#%%\n"
    }
   }
  },
  {
   "cell_type": "code",
   "execution_count": 30,
   "outputs": [
    {
     "data": {
      "text/plain": "<AxesSubplot:xlabel='나이 구간', ylabel='선거구3'>"
     },
     "execution_count": 30,
     "metadata": {},
     "output_type": "execute_result"
    },
    {
     "data": {
      "text/plain": "<Figure size 432x288 with 2 Axes>",
      "image/png": "[encoded data removed]"
     },
     "metadata": {
      "needs_background": "light"
     },
     "output_type": "display_data"
    }
   ],
   "source": [
    "sns.heatmap(age_and_area_pivot_df, linewidths=1, annot=True, fmt='d', cmap=sns.light_palette('red'))"
   ],
   "metadata": {
    "collapsed": false,
    "pycharm": {
     "name": "#%%\n"
    }
   }
  }
 ],
 "metadata": {
  "kernelspec": {
   "display_name": "Python 3",
   "language": "python",
   "name": "python3"
  },
  "language_info": {
   "codemirror_mode": {
    "name": "ipython",
    "version": 2
   },
   "file_extension": ".py",
   "mimetype": "text/x-python",
   "name": "python",
   "nbconvert_exporter": "python",
   "pygments_lexer": "ipython2",
   "version": "2.7.6"
  }
 },
 "nbformat": 4,
 "nbformat_minor": 0
}