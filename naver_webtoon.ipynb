{
 "cells": [
  {
   "cell_type": "code",
   "execution_count": 7,
   "id": "73ed9b4a-fcad-408f-937c-fef10c0964c7",
   "metadata": {},
   "outputs": [
    {
     "name": "stdout",
     "output_type": "stream",
     "text": [
      "200\n",
      "20211216143402_df84a7f989a215d4e6ba74dcf6ff92ec_IMAG01_14.jpg\n",
      "Save to file <_io.BufferedWriter name='data/20211216143402_df84a7f989a215d4e6ba74dcf6ff92ec_IMAG01_14.jpg'> (269049) bytes\n",
      "200\n",
      "20211216143402_df84a7f989a215d4e6ba74dcf6ff92ec_IMAG01_15.jpg\n",
      "Save to file <_io.BufferedWriter name='data/20211216143402_df84a7f989a215d4e6ba74dcf6ff92ec_IMAG01_15.jpg'> (188879) bytes\n",
      "200\n",
      "20211216143402_df84a7f989a215d4e6ba74dcf6ff92ec_IMAG01_16.jpg\n",
      "Save to file <_io.BufferedWriter name='data/20211216143402_df84a7f989a215d4e6ba74dcf6ff92ec_IMAG01_16.jpg'> (291458) bytes\n"
     ]
    }
   ],
   "source": [
    "# 특정 회차의 특정 이미지 추출 및 다운로드\n",
    "\n",
    "# import requests\n",
    "# import os\n",
    "#\n",
    "# req_header_dict = {'referer': 'https://comic.naver.com/webtoon/detail?titleId=783054&no=55&weekday=fri'}\n",
    "#\n",
    "# img_url_list = [\n",
    "#     'https://image-comic.pstatic.net/webtoon/783054/55/20211216143402_df84a7f989a215d4e6ba74dcf6ff92ec_IMAG01_14.jpg',\n",
    "#     'https://image-comic.pstatic.net/webtoon/783054/55/20211216143402_df84a7f989a215d4e6ba74dcf6ff92ec_IMAG01_15.jpg',\n",
    "#     'https://image-comic.pstatic.net/webtoon/783054/55/20211216143402_df84a7f989a215d4e6ba74dcf6ff92ec_IMAG01_16.jpg'\n",
    "# ]\n",
    "#\n",
    "# for img_url in img_url_list:\n",
    "#     res = requests.get(img_url, headers=req_header_dict)\n",
    "#     print(res.status_code)\n",
    "#     if res.ok:\n",
    "#         # content -> binary data 가져올 때 씀\n",
    "#         img_data = res.content\n",
    "#         # print(len(img_data))\n",
    "#         # url 에서 file name 추출\n",
    "#         file_name = os.path.basename(img_url)\n",
    "#         print(file_name)\n",
    "#\n",
    "#         # Server 에서 가져온 binary data 를 file 로 저장\n",
    "#         save_path = 'data/' + file_name\n",
    "#         with open(save_path, 'wb') as file:\n",
    "#             print(f'Save to file {save_path} ({len(img_data)}) bytes')\n",
    "#             file.write(img_data)\n",
    "#"
   ]
  },
  {
   "cell_type": "markdown",
   "source": [
    "# 특정 회차의 이미지 전체 추출 및 다운로드"
   ],
   "metadata": {
    "collapsed": false,
    "pycharm": {
     "name": "#%% md\n"
    }
   }
  },
  {
   "cell_type": "code",
   "execution_count": null,
   "outputs": [],
   "source": [
    "# img source extract\n",
    "\n",
    "# import requests\n",
    "# from bs4 import BeautifulSoup\n",
    "#\n",
    "# main_url = 'https://comic.naver.com/webtoon/detail?titleId=783054&no=55&weekday=fri'\n",
    "# res = requests.get(main_url)\n",
    "#\n",
    "# if res.ok:\n",
    "#     soup = BeautifulSoup(res.text, 'html.parser')\n",
    "#     img_tags = soup.select(\"img[src$='.jpg']\")\n",
    "#     print(len(img_tags), type(img_tags))  # ^ = start, * = contain, $ = end, ~ = text\n",
    "#\n",
    "#     img_url_list = []\n",
    "#     for img_tag in img_tags:\n",
    "#         print(type(img_tag), img_tag)\n",
    "#         img_url = img_tag['src']\n",
    "#         img_url_list.append(img_url)\n",
    "#\n",
    "#\n",
    "# print(len(img_url_list))\n",
    "# print(img_url_list[:10])\n",
    "#\n"
   ],
   "metadata": {
    "collapsed": false,
    "pycharm": {
     "name": "#%%\n"
    }
   }
  },
  {
   "cell_type": "code",
   "execution_count": 20,
   "outputs": [],
   "source": [
    "# img directory create\n",
    "\n",
    "# import os\n",
    "#\n",
    "# if not os.path.isdir('img'):\n",
    "#     os.mkdir('img')"
   ],
   "metadata": {
    "collapsed": false,
    "pycharm": {
     "name": "#%%\n"
    }
   }
  },
  {
   "cell_type": "markdown",
   "source": [
    "# 디렉토리 만드는 2가지 함수\n",
    " - os.mkdir()  한 개의 dir만 만듦\n",
    " - os.makedirs()  하나의 폴더에 하위 폴더 여러 개를 만듦"
   ],
   "metadata": {
    "collapsed": false,
    "pycharm": {
     "name": "#%% md\n"
    }
   }
  },
  {
   "cell_type": "code",
   "execution_count": 21,
   "outputs": [
    {
     "name": "stdout",
     "output_type": "stream",
     "text": [
      "img/thumbnail_IMAG04_5235afbd-077c-4972-b105-99329dd3c50e.jpg\n",
      "img/20211216143402_df84a7f989a215d4e6ba74dcf6ff92ec_IMAG01_1.jpg\n",
      "img/20211216143402_df84a7f989a215d4e6ba74dcf6ff92ec_IMAG01_2.jpg\n",
      "img/20211216143402_df84a7f989a215d4e6ba74dcf6ff92ec_IMAG01_3.jpg\n",
      "img/20211216143402_df84a7f989a215d4e6ba74dcf6ff92ec_IMAG01_4.jpg\n",
      "img/20211216143402_df84a7f989a215d4e6ba74dcf6ff92ec_IMAG01_5.jpg\n",
      "img/20211216143402_df84a7f989a215d4e6ba74dcf6ff92ec_IMAG01_6.jpg\n",
      "img/20211216143402_df84a7f989a215d4e6ba74dcf6ff92ec_IMAG01_7.jpg\n",
      "img/20211216143402_df84a7f989a215d4e6ba74dcf6ff92ec_IMAG01_8.jpg\n",
      "img/20211216143402_df84a7f989a215d4e6ba74dcf6ff92ec_IMAG01_9.jpg\n",
      "img/20211216143402_df84a7f989a215d4e6ba74dcf6ff92ec_IMAG01_10.jpg\n",
      "img/20211216143402_df84a7f989a215d4e6ba74dcf6ff92ec_IMAG01_11.jpg\n",
      "img/20211216143402_df84a7f989a215d4e6ba74dcf6ff92ec_IMAG01_12.jpg\n",
      "img/20211216143402_df84a7f989a215d4e6ba74dcf6ff92ec_IMAG01_13.jpg\n",
      "img/20211216143402_df84a7f989a215d4e6ba74dcf6ff92ec_IMAG01_14.jpg\n",
      "img/20211216143402_df84a7f989a215d4e6ba74dcf6ff92ec_IMAG01_15.jpg\n",
      "img/20211216143402_df84a7f989a215d4e6ba74dcf6ff92ec_IMAG01_16.jpg\n",
      "img/20211216143402_df84a7f989a215d4e6ba74dcf6ff92ec_IMAG01_17.jpg\n",
      "img/20211216143402_df84a7f989a215d4e6ba74dcf6ff92ec_IMAG01_18.jpg\n",
      "img/20211216143402_df84a7f989a215d4e6ba74dcf6ff92ec_IMAG01_19.jpg\n",
      "img/20211216143402_df84a7f989a215d4e6ba74dcf6ff92ec_IMAG01_20.jpg\n",
      "img/20211216143402_df84a7f989a215d4e6ba74dcf6ff92ec_IMAG01_21.jpg\n",
      "img/20211216143402_df84a7f989a215d4e6ba74dcf6ff92ec_IMAG01_22.jpg\n",
      "img/20211216143402_df84a7f989a215d4e6ba74dcf6ff92ec_IMAG01_23.jpg\n",
      "img/20211216143402_df84a7f989a215d4e6ba74dcf6ff92ec_IMAG01_24.jpg\n",
      "img/20211216143402_df84a7f989a215d4e6ba74dcf6ff92ec_IMAG01_25.jpg\n",
      "img/20211216143402_df84a7f989a215d4e6ba74dcf6ff92ec_IMAG01_26.jpg\n",
      "img/20211216143402_df84a7f989a215d4e6ba74dcf6ff92ec_IMAG01_27.jpg\n",
      "img/20211216143402_df84a7f989a215d4e6ba74dcf6ff92ec_IMAG01_28.jpg\n",
      "img/20211216143402_df84a7f989a215d4e6ba74dcf6ff92ec_IMAG01_29.jpg\n",
      "img/20211216143402_df84a7f989a215d4e6ba74dcf6ff92ec_IMAG01_30.jpg\n",
      "img/20211216143402_df84a7f989a215d4e6ba74dcf6ff92ec_IMAG01_31.jpg\n",
      "img/20211216143402_df84a7f989a215d4e6ba74dcf6ff92ec_IMAG01_32.jpg\n",
      "img/20211216143402_df84a7f989a215d4e6ba74dcf6ff92ec_IMAG01_33.jpg\n",
      "img/20211216143402_df84a7f989a215d4e6ba74dcf6ff92ec_IMAG01_34.jpg\n",
      "img/20211216143402_df84a7f989a215d4e6ba74dcf6ff92ec_IMAG01_35.jpg\n",
      "img/20211216143402_df84a7f989a215d4e6ba74dcf6ff92ec_IMAG01_36.jpg\n",
      "img/20211216143402_df84a7f989a215d4e6ba74dcf6ff92ec_IMAG01_37.jpg\n",
      "img/banner_124bc431-1e5a-4f4c-b17b-873ae1f7ac04.jpg\n",
      "img/thumbnail_202x120_908ef6a4-d45d-4dd8-beb7-a03b9ce97a21.jpg\n",
      "img/thumbnail_202x120_6d11bc24-9e43-4671-a2be-bf40b07f5f01.jpg\n",
      "img/thumbnail_202x120_c66fd68d-f8b2-4714-b1ca-98f24a9bde32.jpg\n",
      "img/thumbnail_202x120_81bc0a49-06e0-43a8-8c5b-ff0b0d48c4aa.jpg\n",
      "img/thumbnail_IMAG10_d4d1a799-d193-4e5a-9b46-6dffcead862a.jpg\n",
      "img/thumbnail_IMAG10_b187e34b-9f68-4fd0-9b65-863560682933.jpg\n",
      "img/title_thumbnail_20120302192957_t83x90.jpg\n"
     ]
    }
   ],
   "source": [
    "# for idx, img_url in enumerate(img_url_list, 1):\n",
    "#     req_header = {'referer':main_url}\n",
    "#     res = requests.get(img_url, headers=req_header)\n",
    "#     if res.ok:\n",
    "#        img_data = res.content\n",
    "#        file_name = os.path.basename(img_url)\n",
    "#        file_name = 'img/' + file_name\n",
    "#        print(file_name)\n",
    "#        with open(file_name, 'wb') as file:\n",
    "#            file.write(img_data)"
   ],
   "metadata": {
    "collapsed": false,
    "pycharm": {
     "name": "#%%\n"
    }
   }
  },
  {
   "cell_type": "code",
   "execution_count": 22,
   "outputs": [],
   "source": [
    "# import shutil\n",
    "# import os\n",
    "#\n",
    "# dir_path = 'img'\n",
    "#\n",
    "# if os.path.exists('img'):\n",
    "#     shutil.rmtree(dir_path)"
   ],
   "metadata": {
    "collapsed": false,
    "pycharm": {
     "name": "#%%\n"
    }
   }
  },
  {
   "cell_type": "code",
   "execution_count": 28,
   "outputs": [
    {
     "name": "stdout",
     "output_type": "stream",
     "text": [
      "img\\쇼미더럭키짱\\60화 끼잉... 끼잉... 끼히잉...\\\n"
     ]
    },
    {
     "ename": "TypeError",
     "evalue": "'int' object is not subscriptable",
     "output_type": "error",
     "traceback": [
      "\u001B[1;31m---------------------------------------------------------------------------\u001B[0m",
      "\u001B[1;31mTypeError\u001B[0m                                 Traceback (most recent call last)",
      "\u001B[1;32mC:\\Users\\PEOPLE~1\\AppData\\Local\\Temp/ipykernel_20832/1282311499.py\u001B[0m in \u001B[0;36m<module>\u001B[1;34m\u001B[0m\n\u001B[0;32m     65\u001B[0m                         \u001B[0mfile\u001B[0m\u001B[1;33m.\u001B[0m\u001B[0mwrite\u001B[0m\u001B[1;33m(\u001B[0m\u001B[0mimg_data\u001B[0m\u001B[1;33m)\u001B[0m\u001B[1;33m\u001B[0m\u001B[1;33m\u001B[0m\u001B[0m\n\u001B[0;32m     66\u001B[0m \u001B[1;33m\u001B[0m\u001B[0m\n\u001B[1;32m---> 67\u001B[1;33m \u001B[0mimg_download\u001B[0m\u001B[1;33m(\u001B[0m\u001B[1;33m)\u001B[0m\u001B[1;33m\u001B[0m\u001B[1;33m\u001B[0m\u001B[0m\n\u001B[0m",
      "\u001B[1;32mC:\\Users\\PEOPLE~1\\AppData\\Local\\Temp/ipykernel_20832/1282311499.py\u001B[0m in \u001B[0;36mimg_download\u001B[1;34m()\u001B[0m\n\u001B[0;32m     55\u001B[0m             \u001B[1;32mfor\u001B[0m \u001B[0mimg_tag\u001B[0m\u001B[1;33m,\u001B[0m \u001B[0mi\u001B[0m \u001B[1;32min\u001B[0m \u001B[0menumerate\u001B[0m\u001B[1;33m(\u001B[0m\u001B[0mimg_tags\u001B[0m\u001B[1;33m,\u001B[0m \u001B[1;36m1\u001B[0m\u001B[1;33m)\u001B[0m\u001B[1;33m:\u001B[0m\u001B[1;33m\u001B[0m\u001B[1;33m\u001B[0m\u001B[0m\n\u001B[0;32m     56\u001B[0m                 \u001B[1;31m# print(type(img_tag), img_tag)\u001B[0m\u001B[1;33m\u001B[0m\u001B[1;33m\u001B[0m\u001B[0m\n\u001B[1;32m---> 57\u001B[1;33m                 \u001B[0mchapter_url\u001B[0m \u001B[1;33m=\u001B[0m \u001B[0mimg_tag\u001B[0m\u001B[1;33m[\u001B[0m\u001B[1;34m'src'\u001B[0m\u001B[1;33m]\u001B[0m\u001B[1;33m\u001B[0m\u001B[1;33m\u001B[0m\u001B[0m\n\u001B[0m\u001B[0;32m     58\u001B[0m \u001B[1;33m\u001B[0m\u001B[0m\n\u001B[0;32m     59\u001B[0m                 \u001B[0mres_img\u001B[0m \u001B[1;33m=\u001B[0m \u001B[0mrequests\u001B[0m\u001B[1;33m.\u001B[0m\u001B[0mget\u001B[0m\u001B[1;33m(\u001B[0m\u001B[0mchapter_url\u001B[0m\u001B[1;33m,\u001B[0m \u001B[0mheaders\u001B[0m\u001B[1;33m=\u001B[0m\u001B[0mreq_header\u001B[0m\u001B[1;33m)\u001B[0m\u001B[1;33m\u001B[0m\u001B[1;33m\u001B[0m\u001B[0m\n",
      "\u001B[1;31mTypeError\u001B[0m: 'int' object is not subscriptable"
     ]
    }
   ],
   "source": [
    "def img_download():\n",
    "    import requests\n",
    "    from bs4 import BeautifulSoup\n",
    "    import os\n",
    "    import shutil\n",
    "\n",
    "    base_url = 'https://comic.naver.com/webtoon/list?titleId=783054'\n",
    "    url = 'https://comic.naver.com'\n",
    "\n",
    "    res_chap = requests.get(base_url)\n",
    "\n",
    "    chaplist = []\n",
    "\n",
    "    if res_chap.ok:\n",
    "        soup = BeautifulSoup(res_chap.text, 'lxml')\n",
    "        chap_tags = soup.select(\"td.title\")\n",
    "        # print(chap_tags)\n",
    "\n",
    "        for chap_tag in chap_tags:\n",
    "            # print(chap_tag)\n",
    "            a = chap_tag.select_one('a')\n",
    "            chap_link = a.get('href')\n",
    "            title = chap_tag.text.strip()\n",
    "            chaplist.append((title, chap_link))\n",
    "\n",
    "    # print(list)\n",
    "\n",
    "\n",
    "    for item in chaplist:\n",
    "        title = item[0]\n",
    "        link = item[1]\n",
    "\n",
    "        chapter_url = 'https://comic.naver.com' + link\n",
    "        res = requests.get(chapter_url)\n",
    "\n",
    "        # print(title, chapter_url)\n",
    "        dir_path = 'img\\\\쇼미더럭키짱\\\\' + title + '\\\\'\n",
    "        print(dir_path)\n",
    "\n",
    "        if not os.path.exists(dir_path):\n",
    "            os.makedirs(dir_path)\n",
    "\n",
    "        if os.path.exists(dir_path):\n",
    "            shutil.rmtree(dir_path)\n",
    "\n",
    "\n",
    "        if res.ok:\n",
    "            soup = BeautifulSoup(res.text, 'lxml')\n",
    "            img_tags = soup.select(\"img[src$='.jpg']\")  # ^ = start, * = contain, $ = end, ~ = text\n",
    "            # print(len(img_tags), type(img_tags))\n",
    "\n",
    "            req_header = {'referer':chapter_url}\n",
    "\n",
    "            for img_tag, i in enumerate(img_tags, 1):\n",
    "                # print(type(img_tag), img_tag)\n",
    "                chapter_url = img_tag['src']\n",
    "\n",
    "                res_img = requests.get(chapter_url, headers=req_header)\n",
    "                # print(res_img.ok)\n",
    "\n",
    "                if res_img.ok:\n",
    "                    img_data = res_img.content\n",
    "                    with open(str(i), 'wb') as file:\n",
    "                        file.write(img_data)\n",
    "\n",
    "img_download()"
   ],
   "metadata": {
    "collapsed": false,
    "pycharm": {
     "name": "#%%\n"
    }
   }
  },
  {
   "cell_type": "markdown",
   "source": [
    "https://httpbin.org/ URL"
   ],
   "metadata": {
    "collapsed": false,
    "pycharm": {
     "name": "#%% md\n"
    }
   }
  },
  {
   "cell_type": "code",
   "execution_count": 45,
   "outputs": [
    {
     "ename": "FileNotFoundError",
     "evalue": "[Errno 2] No such file or directory: 'data\\\\fi.jpg'",
     "output_type": "error",
     "traceback": [
      "\u001B[1;31m---------------------------------------------------------------------------\u001B[0m",
      "\u001B[1;31mFileNotFoundError\u001B[0m                         Traceback (most recent call last)",
      "\u001B[1;32mC:\\Users\\PEOPLE~1\\AppData\\Local\\Temp/ipykernel_6248/4001916403.py\u001B[0m in \u001B[0;36m<module>\u001B[1;34m\u001B[0m\n\u001B[0;32m      2\u001B[0m \u001B[1;33m\u001B[0m\u001B[0m\n\u001B[0;32m      3\u001B[0m upload_files_dict = {\n\u001B[1;32m----> 4\u001B[1;33m     \u001B[1;34m'img1'\u001B[0m\u001B[1;33m:\u001B[0m \u001B[0mopen\u001B[0m\u001B[1;33m(\u001B[0m\u001B[1;34m\"data\\\\fi.jpg\"\u001B[0m\u001B[1;33m,\u001B[0m \u001B[1;34m'rb'\u001B[0m\u001B[1;33m)\u001B[0m\u001B[1;33m,\u001B[0m\u001B[1;33m\u001B[0m\u001B[1;33m\u001B[0m\u001B[0m\n\u001B[0m\u001B[0;32m      5\u001B[0m     \u001B[1;34m'img2'\u001B[0m\u001B[1;33m:\u001B[0m \u001B[0mopen\u001B[0m\u001B[1;33m(\u001B[0m\u001B[1;34m\"data\\\\f2.jpg\"\u001B[0m\u001B[1;33m,\u001B[0m \u001B[1;34m'rb'\u001B[0m\u001B[1;33m)\u001B[0m\u001B[1;33m,\u001B[0m\u001B[1;33m\u001B[0m\u001B[1;33m\u001B[0m\u001B[0m\n\u001B[0;32m      6\u001B[0m     \u001B[1;34m'img3'\u001B[0m\u001B[1;33m:\u001B[0m \u001B[0mopen\u001B[0m\u001B[1;33m(\u001B[0m\u001B[1;34m\"data\\\\f3.jpg\"\u001B[0m\u001B[1;33m,\u001B[0m \u001B[1;34m'rb'\u001B[0m\u001B[1;33m)\u001B[0m\u001B[1;33m\u001B[0m\u001B[1;33m\u001B[0m\u001B[0m\n",
      "\u001B[1;31mFileNotFoundError\u001B[0m: [Errno 2] No such file or directory: 'data\\\\fi.jpg'"
     ]
    }
   ],
   "source": [
    "\n",
    "# import requests\n",
    "#\n",
    "# upload_files_dict = {\n",
    "#     'img1': open(\"data\\\\fi.jpg\", 'rb'),\n",
    "#     'img2': open(\"data\\\\f2.jpg\", 'rb'),\n",
    "#     'img3': open(\"data\\\\f3.jpg\", 'rb')\n",
    "# }\n",
    "#\n",
    "# url = 'https://httpbin.org/post'\n",
    "# res = requests.post(url, files=upload_files_dict)\n",
    "# print(res.status_code)\n",
    "# res_data = res.json()\n",
    "# img_data = res_data['files']['img1']\n",
    "# print(img_data)"
   ],
   "metadata": {
    "collapsed": false,
    "pycharm": {
     "name": "#%%\n"
    }
   }
  }
 ],
 "metadata": {
  "kernelspec": {
   "display_name": "Python 3 (ipykernel)",
   "language": "python",
   "name": "python3"
  },
  "language_info": {
   "codemirror_mode": {
    "name": "ipython",
    "version": 3
   },
   "file_extension": ".py",
   "mimetype": "text/x-python",
   "name": "python",
   "nbconvert_exporter": "python",
   "pygments_lexer": "ipython3",
   "version": "3.9.7"
  }
 },
 "nbformat": 4,
 "nbformat_minor": 5
}